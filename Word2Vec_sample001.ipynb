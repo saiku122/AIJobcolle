{
  "nbformat": 4,
  "nbformat_minor": 0,
  "metadata": {
    "kernelspec": {
      "display_name": "Python 3",
      "language": "python",
      "name": "python3"
    },
    "language_info": {
      "codemirror_mode": {
        "name": "ipython",
        "version": 3
      },
      "file_extension": ".py",
      "mimetype": "text/x-python",
      "name": "python",
      "nbconvert_exporter": "python",
      "pygments_lexer": "ipython3",
      "version": "3.6.8"
    },
    "colab": {
      "name": "Word2Vec_sample001.ipynb",
      "provenance": [],
      "include_colab_link": true
    }
  },
  "cells": [
    {
      "cell_type": "markdown",
      "metadata": {
        "id": "view-in-github",
        "colab_type": "text"
      },
      "source": [
        "<a href=\"https://colab.research.google.com/github/saiku122/AIJobcolle/blob/master/Word2Vec_sample001.ipynb\" target=\"_parent\"><img src=\"https://colab.research.google.com/assets/colab-badge.svg\" alt=\"Open In Colab\"/></a>"
      ]
    },
    {
      "cell_type": "markdown",
      "metadata": {
        "id": "buo2719igt6U"
      },
      "source": [
        "# Word2Vec sample\n",
        "\n",
        "参考「15分でできる日本語Word2Vec」：https://qiita.com/makaishi2/items/63b7986f6da93dc55edd"
      ]
    },
    {
      "cell_type": "markdown",
      "metadata": {
        "id": "X9lZzjPDgt6V"
      },
      "source": [
        "## ①三四郎をダウンロードし、データを成型する"
      ]
    },
    {
      "cell_type": "code",
      "metadata": {
        "colab": {
          "base_uri": "https://localhost:8080/"
        },
        "id": "0s9HffVVgt6V",
        "outputId": "b3a8365c-3522-4999-8b43-1d7e1e2df674"
      },
      "source": [
        "# zipファイルダウンロード\n",
        "url = 'https://www.aozora.gr.jp/cards/000148/files/794_ruby_4237.zip'\n",
        "zip = '794_ruby_4237.zip'\n",
        "import urllib.request\n",
        "urllib.request.urlretrieve(url, zip)\n",
        "\n",
        "# ダウンロードしたzipの解凍\n",
        "import zipfile\n",
        "with zipfile.ZipFile(zip, 'r') as myzip:\n",
        "    myzip.extractall()\n",
        "    # 解凍後のファイルからデータ読み込み\n",
        "    for myfile in myzip.infolist():\n",
        "        # 解凍後ファイル名取得\n",
        "        filename = myfile.filename\n",
        "        # ファイルオープン時にencodingを指定してsjisの変換をする\n",
        "        with open(filename, encoding='sjis') as file:\n",
        "            text = file.read()\n",
        "\n",
        "# ファイル整形\n",
        "import re\n",
        "# ヘッダ部分の除去\n",
        "text = re.split('\\-{5,}',text)[2]\n",
        "# フッタ部分の除去\n",
        "text = re.split('底本：',text)[0]\n",
        "# | の除去\n",
        "text = text.replace('|', '')\n",
        "# ルビの削除\n",
        "text = re.sub('《.+?》', '', text)\n",
        "# 入力注の削除\n",
        "text = re.sub('［＃.+?］', '',text)\n",
        "# 空行の削除\n",
        "text = re.sub('\\n\\n', '\\n', text) \n",
        "text = re.sub('\\r', '', text)\n",
        "\n",
        "# 整形結果確認\n",
        "\n",
        "# 頭の100文字の表示 \n",
        "print(text[:100])\n",
        "# 見やすくするため、空行 \n",
        "print()\n",
        "print()\n",
        "# 後ろの100文字の表示 \n",
        "print(text[-100:])"
      ],
      "execution_count": null,
      "outputs": [
        {
          "output_type": "stream",
          "text": [
            "\n",
            "一\n",
            "　うとうととして目がさめると女はいつのまにか、隣のじいさんと話を始めている。このじいさんはたしかに前の前の駅から乗ったいなか者である。発車まぎわに頓狂な声を出して駆け込んで来て、いきなり肌をぬい\n",
            "\n",
            "\n",
            "評に取りかかる。与次郎だけが三四郎のそばへ来た。\n",
            "「どうだ森の女は」\n",
            "「森の女という題が悪い」\n",
            "「じゃ、なんとすればよいんだ」\n",
            "　三四郎はなんとも答えなかった。ただ口の中で迷羊、迷羊と繰り返した。\n",
            "\n",
            "\n"
          ],
          "name": "stdout"
        }
      ]
    },
    {
      "cell_type": "markdown",
      "metadata": {
        "id": "hzQwh6Elgt6V"
      },
      "source": [
        "## ②Janomeを用いて三四郎テキストから単語リストを生成"
      ]
    },
    {
      "cell_type": "code",
      "metadata": {
        "colab": {
          "base_uri": "https://localhost:8080/"
        },
        "id": "jEY9XW1Egt6V",
        "outputId": "f6601d7c-cf3e-45ef-95cc-00121c00001a"
      },
      "source": [
        "# Janomeのインストール\n",
        "# !pip install janome | tail -n 1 \n",
        "# ↑tailはMacで利用できるログを出力するコマンド。Windowsでは利用できないがログを出力しなくても問題ないのでjanomeのインストールのみ行う。\n",
        "\n",
        "!pip install janome\n",
        "\n",
        "# Janomeのロード\n",
        "from janome.tokenizer import Tokenizer\n",
        "\n",
        "# Tokenneizerインスタンスの生成 \n",
        "t = Tokenizer()\n",
        "\n",
        "# テキストを引数として、形態素解析の結果、名詞・動詞・形容詞(原形)のみを配列で抽出する関数を定義 \n",
        "def extract_words(text):\n",
        "    tokens = t.tokenize(text)\n",
        "    return [token.base_form for token in tokens \n",
        "        if token.part_of_speech.split(',')[0] in['名詞', '動詞']]\n",
        "\n",
        "#  関数テスト\n",
        "# ret = extract_words('三四郎は京都でちょっと用があって降りたついでに。')\n",
        "# for word in ret:\n",
        "#    print(word)\n",
        "\n",
        "# 全体のテキストを句点('。')で区切った配列にする。 \n",
        "sentences = text.split('。')\n",
        "# それぞれの文章を単語リストに変換(処理に数分かかります)\n",
        "word_list = [extract_words(sentence) for sentence in sentences]\n",
        "\n",
        "# 結果の一部を確認 \n",
        "for word in word_list[0]:\n",
        "    print(word)"
      ],
      "execution_count": null,
      "outputs": [
        {
          "output_type": "stream",
          "text": [
            "Collecting janome\n",
            "\u001b[?25l  Downloading https://files.pythonhosted.org/packages/a8/63/98858cbead27df7536c7e300c169da0999e9704d02220dc6700b804eeff0/Janome-0.4.1-py2.py3-none-any.whl (19.7MB)\n",
            "\u001b[K     |████████████████████████████████| 19.7MB 1.2MB/s \n",
            "\u001b[?25hInstalling collected packages: janome\n",
            "Successfully installed janome-0.4.1\n",
            "一\n",
            "する\n",
            "目\n",
            "さめる\n",
            "女\n",
            "隣\n",
            "じいさん\n",
            "話\n",
            "始める\n",
            "いる\n"
          ],
          "name": "stdout"
        }
      ]
    },
    {
      "cell_type": "markdown",
      "metadata": {
        "id": "qX4kPeB3gt6V"
      },
      "source": [
        "## ③準備したデータを用いてWord2Vecのモデル作成、学習実施"
      ]
    },
    {
      "cell_type": "code",
      "metadata": {
        "colab": {
          "base_uri": "https://localhost:8080/"
        },
        "id": "HxB6lYqOgt6V",
        "outputId": "a08cd3fd-1af1-4cd1-baff-f09d2b80aadf"
      },
      "source": [
        "# Word2Vecライブラリの導入\n",
        "!pip install gensim  \n",
        "\n",
        "# Word2Vecライブラリのロード\n",
        "from gensim.models import word2vec\n",
        "\n",
        "# size: 圧縮次元数\n",
        "# min_count: 出現頻度の低いものをカットする\n",
        "# window: 前後の単語を拾う際の窓の広さを決める\n",
        "# iter: 機械学習の繰り返し回数(デフォルト:5)十分学習できていないときにこの値を調整する\n",
        "# model.wv.most_similarの結果が1に近いものばかりで、model.dict['wv']のベクトル値が小さい値ばかりの \n",
        "# ときは、学習回数が少ないと考えられます。\n",
        "# その場合、iterの値を大きくして、再度学習を行います。\n",
        "\n",
        "# 事前準備したword_listを使ってWord2Vecの学習実施\n",
        "model = word2vec.Word2Vec(word_list, size=100,min_count=5,window=5,iter=100)"
      ],
      "execution_count": null,
      "outputs": [
        {
          "output_type": "stream",
          "text": [
            "Requirement already satisfied: gensim in /usr/local/lib/python3.6/dist-packages (3.6.0)\n",
            "Requirement already satisfied: six>=1.5.0 in /usr/local/lib/python3.6/dist-packages (from gensim) (1.15.0)\n",
            "Requirement already satisfied: numpy>=1.11.3 in /usr/local/lib/python3.6/dist-packages (from gensim) (1.18.5)\n",
            "Requirement already satisfied: smart-open>=1.2.1 in /usr/local/lib/python3.6/dist-packages (from gensim) (3.0.0)\n",
            "Requirement already satisfied: scipy>=0.18.1 in /usr/local/lib/python3.6/dist-packages (from gensim) (1.4.1)\n",
            "Requirement already satisfied: requests in /usr/local/lib/python3.6/dist-packages (from smart-open>=1.2.1->gensim) (2.23.0)\n",
            "Requirement already satisfied: urllib3!=1.25.0,!=1.25.1,<1.26,>=1.21.1 in /usr/local/lib/python3.6/dist-packages (from requests->smart-open>=1.2.1->gensim) (1.24.3)\n",
            "Requirement already satisfied: chardet<4,>=3.0.2 in /usr/local/lib/python3.6/dist-packages (from requests->smart-open>=1.2.1->gensim) (3.0.4)\n",
            "Requirement already satisfied: idna<3,>=2.5 in /usr/local/lib/python3.6/dist-packages (from requests->smart-open>=1.2.1->gensim) (2.10)\n",
            "Requirement already satisfied: certifi>=2017.4.17 in /usr/local/lib/python3.6/dist-packages (from requests->smart-open>=1.2.1->gensim) (2020.11.8)\n"
          ],
          "name": "stdout"
        }
      ]
    },
    {
      "cell_type": "markdown",
      "metadata": {
        "id": "qa_Drsrggt6W"
      },
      "source": [
        "## 結果確認①　単語のベクトルの値を確認する"
      ]
    },
    {
      "cell_type": "code",
      "metadata": {
        "colab": {
          "base_uri": "https://localhost:8080/"
        },
        "id": "ftt534lXgt6W",
        "outputId": "b6dc98ca-bec4-4414-8dc5-6071de2bf1c6"
      },
      "source": [
        "# 結果の確認1\n",
        "# 一つ一つの単語は100次元のベクトルになっています。 \n",
        "# 「世間」のベクトル値を確認します。\n",
        "print(model.__dict__['wv']['世間'])"
      ],
      "execution_count": null,
      "outputs": [
        {
          "output_type": "stream",
          "text": [
            "[-0.09137168 -0.18239665 -0.14266613 -0.03590868  0.4106189   0.05194617\n",
            "  0.42041898 -0.26192182  0.92724633  0.2463157   0.28622583  0.10278496\n",
            " -0.33419138  0.44035092 -0.8152608  -0.17599252  0.04053064 -0.24757783\n",
            "  0.26843548  0.64016914  0.5903478   0.93825805  0.8168316   0.73487306\n",
            " -0.27847102  0.7643608   0.42424157 -1.0827986   0.06014311 -0.05226474\n",
            "  0.43764862  0.4893643   0.14749189 -0.34626526 -0.36274204  0.62168676\n",
            " -0.18103878 -0.21117617  0.24598132 -0.64972734 -0.73778486 -0.3418978\n",
            " -0.15678014  0.11407202  0.27941033  0.1173316   0.71309155 -0.6858391\n",
            " -0.1752132  -0.20411023 -0.5762656  -0.12559824 -0.13221966 -0.48963836\n",
            " -0.13745916 -0.46204978 -0.71786326  0.01657034 -0.21952264 -0.88240564\n",
            "  0.24847524 -0.17602473  0.21283443 -0.28358278  0.24748263 -0.40335053\n",
            "  0.31509393 -0.7813227   0.01896676 -0.10138191  0.0213471  -0.08959553\n",
            "  0.19846459 -0.05011254 -0.02921634 -0.5591167   0.12708788 -0.10888859\n",
            " -0.14537685 -0.04439389  0.09432849 -0.08758259  0.34391326  0.668351\n",
            "  0.2116255  -0.13607423  0.0657462  -0.03062296  0.42695716 -0.6788479\n",
            " -0.4898929  -0.5207321  -0.4117446  -0.94613117 -0.9479458   0.08843771\n",
            "  0.06086009 -0.35090476 -0.07857446  0.03993462]\n"
          ],
          "name": "stdout"
        }
      ]
    },
    {
      "cell_type": "markdown",
      "metadata": {
        "id": "x9AZSyHTgt6W"
      },
      "source": [
        "## 結果確認②　単語のベクトルから類似単語を推定する。"
      ]
    },
    {
      "cell_type": "code",
      "metadata": {
        "colab": {
          "base_uri": "https://localhost:8080/"
        },
        "id": "_oM9hf61gt6W",
        "outputId": "00c97d31-4c10-4592-dc42-6808641c1780"
      },
      "source": [
        "# 結果の確認2\n",
        "# 関数most_similarを使って「世間」の類似単語を調べます \n",
        "ret = model.wv.most_similar(positive=['世間']) \n",
        "for item in ret:\n",
        "    print(item[0], item[1])"
      ],
      "execution_count": null,
      "outputs": [
        {
          "output_type": "stream",
          "text": [
            "聞こえる 0.5856649279594421\n",
            "外国 0.5547837018966675\n",
            "自己 0.5524786710739136\n",
            "社会 0.4986944794654846\n",
            "喝采 0.4957362115383148\n",
            "堪える 0.4861728549003601\n",
            "くせ 0.47196945548057556\n",
            "今日 0.46249067783355713\n",
            "文学 0.45822232961654663\n",
            "決心 0.45598113536834717\n"
          ],
          "name": "stdout"
        },
        {
          "output_type": "stream",
          "text": [
            "/usr/local/lib/python3.6/dist-packages/gensim/matutils.py:737: FutureWarning: Conversion of the second argument of issubdtype from `int` to `np.signedinteger` is deprecated. In future, it will be treated as `np.int64 == np.dtype(int).type`.\n",
            "  if np.issubdtype(vec.dtype, np.int):\n"
          ],
          "name": "stderr"
        }
      ]
    },
    {
      "cell_type": "code",
      "metadata": {
        "id": "Ktjy3gY9gt6W"
      },
      "source": [
        ""
      ],
      "execution_count": null,
      "outputs": []
    }
  ]
}