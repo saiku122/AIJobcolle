{
  "nbformat": 4,
  "nbformat_minor": 0,
  "metadata": {
    "colab": {
      "name": "LastTask.ipynb",
      "provenance": [],
      "authorship_tag": "ABX9TyMQO+lcS78U9/IGX5cytX6f",
      "include_colab_link": true
    },
    "kernelspec": {
      "name": "python3",
      "display_name": "Python 3"
    },
    "language_info": {
      "name": "python"
    }
  },
  "cells": [
    {
      "cell_type": "markdown",
      "metadata": {
        "id": "view-in-github",
        "colab_type": "text"
      },
      "source": [
        "<a href=\"https://colab.research.google.com/github/saiku122/AIJobcolle/blob/master/finaltask/LastTask.ipynb\" target=\"_parent\"><img src=\"https://colab.research.google.com/assets/colab-badge.svg\" alt=\"Open In Colab\"/></a>"
      ]
    },
    {
      "cell_type": "code",
      "metadata": {
        "id": "BibEWOIeBnJm"
      },
      "source": [
        "ish"
      ],
      "execution_count": null,
      "outputs": []
    },
    {
      "cell_type": "markdown",
      "metadata": {
        "id": "JrguwZMkBldn"
      },
      "source": [
        "**最終課題**  \n",
        "〇入力データ  \n",
        "・モデル用：final_hr_analysis_train.csv</br>\n",
        "・スコア用：final_hr_analysis_test.csv</br>\n",
        "\n",
        "〇出力データ\n",
        "・"
      ]
    },
    {
      "cell_type": "code",
      "metadata": {
        "id": "f83zEkNABiG4"
      },
      "source": [
        ""
      ],
      "execution_count": null,
      "outputs": []
    }
  ]
}