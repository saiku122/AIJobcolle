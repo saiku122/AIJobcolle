{
  "nbformat": 4,
  "nbformat_minor": 0,
  "metadata": {
    "colab": {
      "name": "LatstTask.ipynb のコピー",
      "provenance": [],
      "collapsed_sections": [],
      "toc_visible": true,
      "authorship_tag": "ABX9TyPXSN57o9KdAa+IyUOQGBR5",
      "include_colab_link": true
    },
    "kernelspec": {
      "name": "python3",
      "display_name": "Python 3"
    },
    "language_info": {
      "name": "python"
    }
  },
  "cells": [
    {
      "cell_type": "markdown",
      "metadata": {
        "id": "view-in-github",
        "colab_type": "text"
      },
      "source": [
        "<a href=\"https://colab.research.google.com/github/saiku122/AIJobcolle/blob/master/MachineLearning/finaltask/LatstTask_ipynb.ipynb\" target=\"_parent\"><img src=\"https://colab.research.google.com/assets/colab-badge.svg\" alt=\"Open In Colab\"/></a>"
      ]
    },
    {
      "cell_type": "code",
      "metadata": {
        "colab": {
          "base_uri": "https://localhost:8080/"
        },
        "id": "kkmdqiNAKovu",
        "outputId": "a41334e0-9fa0-4f5a-ae2c-7d3e9a63e407"
      },
      "source": [
        "!git clone https://github.com/saiku122/AIJobcolle.git"
      ],
      "execution_count": 18,
      "outputs": [
        {
          "output_type": "stream",
          "text": [
            "fatal: destination path 'AIJobcolle' already exists and is not an empty directory.\n"
          ],
          "name": "stdout"
        }
      ]
    },
    {
      "cell_type": "code",
      "metadata": {
        "colab": {
          "base_uri": "https://localhost:8080/"
        },
        "id": "1CD5_Y3eL-p6",
        "outputId": "721d5907-45b0-4497-b935-15b2133cb787"
      },
      "source": [
        "cd /content/AIJobcolle/MachineLearning/finaltask/"
      ],
      "execution_count": 19,
      "outputs": [
        {
          "output_type": "stream",
          "text": [
            "/content/AIJobcolle/MachineLearning/finaltask\n"
          ],
          "name": "stdout"
        }
      ]
    },
    {
      "cell_type": "markdown",
      "metadata": {
        "id": "DazQxFA8LTt2"
      },
      "source": [
        "★★最終課題★★</br>\n",
        "〇入力データ</br>\n",
        "・モデル用：final_hr_analysis_train.csv</br>\n",
        "・スコア用：final_hr_analysis_test.csv</br>\n",
        "</br>\n",
        "〇出力データ</br>\n",
        "・スコア付データ：</br> \n",
        "・モデル：</br>\n"
      ]
    },
    {
      "cell_type": "code",
      "metadata": {
        "id": "ANRgG95yLAAR"
      },
      "source": [
        "import pandas as pd\n",
        "import numpy as np\n",
        "from sklearn.preprocessing import StandardScaler\n",
        "from sklearn.impute import SimpleImputer\n",
        "from sklearn.feature_selection import RFECV\n",
        "from sklearn.model_selection import cross_val_score\n",
        "from sklearn.neighbors import KNeighborsClassifier\n",
        "from sklearn.linear_model import LogisticRegression\n",
        "from sklearn.svm import SVC, LinearSVC\n",
        "from sklearn.tree import DecisionTreeClassifier\n",
        "from sklearn.ensemble import RandomForestClassifier\n",
        "from sklearn.ensemble import GradientBoostingClassifier\n",
        "from sklearn.neural_network import MLPClassifier\n",
        "from sklearn.pipeline import Pipeline\n",
        "from sklearn.metrics import confusion_matrix\n",
        "import joblib\n",
        "from sklearn.metrics import accuracy_score\n",
        "import lightgbm as lgb"
      ],
      "execution_count": 20,
      "outputs": []
    },
    {
      "cell_type": "code",
      "metadata": {
        "id": "M6-5tNXiLa9v"
      },
      "source": [
        "#インプットファイル\n",
        "file_model_name = 'final_hr_analysis_train'\n",
        "file_test_name = 'final_hr_analysis_test'"
      ],
      "execution_count": 21,
      "outputs": []
    },
    {
      "cell_type": "code",
      "metadata": {
        "id": "92kRXOIvarsj"
      },
      "source": [
        "my_dtype = {'sales':object,\n",
        "            'salary':object} ##!!!変更箇所\n",
        "ohe_cols = ['sales',\n",
        "           'salary'] #!!!変更箇所"
      ],
      "execution_count": 22,
      "outputs": []
    },
    {
      "cell_type": "code",
      "metadata": {
        "id": "hVQqH6vILpfW",
        "colab": {
          "base_uri": "https://localhost:8080/"
        },
        "outputId": "4ee051e6-c027-48d9-efe3-07dad854743d"
      },
      "source": [
        "#  モデル用データ読み込み\n",
        "df = pd.read_csv('./input/'+ file_model_name + '.csv',\n",
        "                 header=0,\n",
        "                 dtype=my_dtype)\n",
        "ID = df.iloc[:,0] #1列目取得\n",
        "y=df.iloc[:,1]    #2列目の正解データを取得\n",
        "X=df.iloc[:,2:]   #3列目以降取得\n",
        "df.dtypes"
      ],
      "execution_count": 23,
      "outputs": [
        {
          "output_type": "execute_result",
          "data": {
            "text/plain": [
              "index                      int64\n",
              "left                       int64\n",
              "satisfaction_level       float64\n",
              "last_evaluation          float64\n",
              "number_project             int64\n",
              "average_montly_hours       int64\n",
              "time_spend_company         int64\n",
              "Work_accident              int64\n",
              "promotion_last_5years      int64\n",
              "sales                     object\n",
              "salary                    object\n",
              "dtype: object"
            ]
          },
          "metadata": {
            "tags": []
          },
          "execution_count": 23
        }
      ]
    },
    {
      "cell_type": "code",
      "metadata": {
        "id": "-V7URkHE3tpA"
      },
      "source": [
        "# one-hot encoding処理\n",
        "X_ohe = pd.get_dummies(X, dummy_na=True, columns=ohe_cols)\n",
        "#display(X_ohe)\n",
        "X_ohe = X_ohe.dropna(axis=1,how='all')#axis=1　列\n",
        "#display(X_ohe)\n",
        "X_ohe_columns = X_ohe.columns.values #モデルデータの列確定"
      ],
      "execution_count": 24,
      "outputs": []
    },
    {
      "cell_type": "code",
      "metadata": {
        "id": "4cyhrJ1SZ7oA"
      },
      "source": [
        "#欠損値の置き換え\n",
        "imp=SimpleImputer() #平均値で欠損値を補完\n",
        "imp.fit(X_ohe)\n",
        "X_ohe = pd.DataFrame(imp.transform(X_ohe),columns=X_ohe_columns) # モデルデータの列を平均値補完適用させ変数を更新"
      ],
      "execution_count": 25,
      "outputs": []
    },
    {
      "cell_type": "code",
      "metadata": {
        "id": "tkqwSbCicgUI"
      },
      "source": [
        "#特徴量抽出\n",
        "selector = RFECV(estimator=RandomForestClassifier(n_estimators=100,random_state=0), step=0.05) #特徴量をRFE(主成分分析)を用いて次元削減する。(モデルはランダムフォレスト)\n",
        "selector.fit(X_ohe, y) #RFEした結果を保存\n",
        "X_ohe_selected = selector.transform(X_ohe) #X_oheに反映\n",
        "X_ohe_selected = pd.DataFrame(X_ohe_selected, columns=X_ohe_columns[selector.support_]) #削減実行後のデータを再構成"
      ],
      "execution_count": 26,
      "outputs": []
    },
    {
      "cell_type": "markdown",
      "metadata": {
        "id": "I3RQ3hjUglPU"
      },
      "source": [
        "**テストデータの読み込み**<br>\n",
        "モデル用データのエンコード結果に列名をあわせる"
      ]
    },
    {
      "cell_type": "code",
      "metadata": {
        "id": "YhRK_QybgqO5"
      },
      "source": [
        "#  テスト用データ読み込み\n",
        "df_s = pd.read_csv('./input/'+ file_test_name + '.csv',\n",
        "                 header=0,\n",
        "                 dtype=my_dtype)\n",
        "ID_s = df_s.iloc[:,[0]] #1列目取得\n",
        "y_s=df_s.iloc[:,1]    #2列目の正解データを取得\n",
        "X_s=df_s.iloc[:,2:]   #3列目以降取得"
      ],
      "execution_count": 27,
      "outputs": []
    },
    {
      "cell_type": "code",
      "metadata": {
        "id": "Fp6ianb1c883"
      },
      "source": [
        "# one-hot encoding処理\n",
        "X_ohe_s = pd.get_dummies(X_s, dummy_na=True, columns=ohe_cols)\n",
        "#display(X_ohe)\n",
        "X_ohe_s = X_ohe_s.dropna(axis=1,how='all')#axis=1　列\n",
        "#display(X_ohe)\n",
        "X_ohe_columns_s = X_ohe_s.columns.values #テストデータの仮確定"
      ],
      "execution_count": 28,
      "outputs": []
    },
    {
      "cell_type": "code",
      "metadata": {
        "id": "0IO9y6Zbi53C",
        "colab": {
          "base_uri": "https://localhost:8080/"
        },
        "outputId": "799fb090-7af0-4476-b9f6-c5e01772b575"
      },
      "source": [
        "#列の整合性チェック\n",
        "cols_model = set(X_ohe.columns.values)\n",
        "cols_score = set(X_ohe_s.columns.values)\n",
        "\n",
        "diff1 = cols_model - cols_score\n",
        "print('モデルのみに存在する項目: %s' % diff1)\n",
        "\n",
        "diff2 = cols_score - cols_model\n",
        "print('スコアのみに存在する項目: %s' % diff2)"
      ],
      "execution_count": 29,
      "outputs": [
        {
          "output_type": "stream",
          "text": [
            "モデルのみに存在する項目: set()\n",
            "スコアのみに存在する項目: set()\n"
          ],
          "name": "stdout"
        }
      ]
    },
    {
      "cell_type": "code",
      "metadata": {
        "id": "SQc_PvNsi9-K"
      },
      "source": [
        "#列名一致\n",
        "df_cols_m = pd.DataFrame(None,\n",
        "                         columns=X_ohe_columns,\n",
        "                         dtype=float)\n",
        "X_ohe_s2 = pd.concat([df_cols_m, X_ohe_s])\n",
        "#display(X_ohe_s2.head(3))\n",
        "\n",
        "set_Xm = set(X_ohe.columns.values)\n",
        "set_Xs = set(X_ohe_s.columns.values)\n",
        "\n",
        "#スコアにのみ存在する項目の削除\n",
        "X_ohe_s3 = X_ohe_s2.drop(list(set_Xs-set_Xm),axis=1)\n",
        "\n",
        "#print(X_ohe_s3.shape)\n",
        "#display(X_ohe_s3.head(3))\n",
        "\n",
        "#list(set_Xs-set_Xm)"
      ],
      "execution_count": 30,
      "outputs": []
    },
    {
      "cell_type": "code",
      "metadata": {
        "id": "I8PWiQ9tm05j",
        "colab": {
          "base_uri": "https://localhost:8080/",
          "height": 157
        },
        "outputId": "e0b3e910-cdd3-49ff-ad47-66d2e79f893c"
      },
      "source": [
        "#スコアにのみ存在する項目の削除\n",
        "X_ohe_s3.loc[:,list(set_Xm-set_Xs)] = X_ohe_s3.loc[:,list(set_Xm-set_Xs)].fillna(0,axis=1)\n",
        "X_ohe_s3.head(3)"
      ],
      "execution_count": 31,
      "outputs": [
        {
          "output_type": "execute_result",
          "data": {
            "text/html": [
              "<div>\n",
              "<style scoped>\n",
              "    .dataframe tbody tr th:only-of-type {\n",
              "        vertical-align: middle;\n",
              "    }\n",
              "\n",
              "    .dataframe tbody tr th {\n",
              "        vertical-align: top;\n",
              "    }\n",
              "\n",
              "    .dataframe thead th {\n",
              "        text-align: right;\n",
              "    }\n",
              "</style>\n",
              "<table border=\"1\" class=\"dataframe\">\n",
              "  <thead>\n",
              "    <tr style=\"text-align: right;\">\n",
              "      <th></th>\n",
              "      <th>satisfaction_level</th>\n",
              "      <th>last_evaluation</th>\n",
              "      <th>number_project</th>\n",
              "      <th>average_montly_hours</th>\n",
              "      <th>time_spend_company</th>\n",
              "      <th>Work_accident</th>\n",
              "      <th>promotion_last_5years</th>\n",
              "      <th>sales_IT</th>\n",
              "      <th>sales_RandD</th>\n",
              "      <th>sales_accounting</th>\n",
              "      <th>sales_hr</th>\n",
              "      <th>sales_management</th>\n",
              "      <th>sales_marketing</th>\n",
              "      <th>sales_product_mng</th>\n",
              "      <th>sales_sales</th>\n",
              "      <th>sales_support</th>\n",
              "      <th>sales_technical</th>\n",
              "      <th>sales_nan</th>\n",
              "      <th>salary_high</th>\n",
              "      <th>salary_low</th>\n",
              "      <th>salary_medium</th>\n",
              "      <th>salary_nan</th>\n",
              "    </tr>\n",
              "  </thead>\n",
              "  <tbody>\n",
              "    <tr>\n",
              "      <th>0</th>\n",
              "      <td>0.44</td>\n",
              "      <td>0.57</td>\n",
              "      <td>2.0</td>\n",
              "      <td>141.0</td>\n",
              "      <td>3.0</td>\n",
              "      <td>0.0</td>\n",
              "      <td>0.0</td>\n",
              "      <td>0.0</td>\n",
              "      <td>0.0</td>\n",
              "      <td>0.0</td>\n",
              "      <td>0.0</td>\n",
              "      <td>0.0</td>\n",
              "      <td>0.0</td>\n",
              "      <td>1.0</td>\n",
              "      <td>0.0</td>\n",
              "      <td>0.0</td>\n",
              "      <td>0.0</td>\n",
              "      <td>0.0</td>\n",
              "      <td>0.0</td>\n",
              "      <td>0.0</td>\n",
              "      <td>1.0</td>\n",
              "      <td>0.0</td>\n",
              "    </tr>\n",
              "    <tr>\n",
              "      <th>1</th>\n",
              "      <td>0.55</td>\n",
              "      <td>0.96</td>\n",
              "      <td>3.0</td>\n",
              "      <td>194.0</td>\n",
              "      <td>3.0</td>\n",
              "      <td>0.0</td>\n",
              "      <td>0.0</td>\n",
              "      <td>0.0</td>\n",
              "      <td>0.0</td>\n",
              "      <td>0.0</td>\n",
              "      <td>0.0</td>\n",
              "      <td>0.0</td>\n",
              "      <td>0.0</td>\n",
              "      <td>1.0</td>\n",
              "      <td>0.0</td>\n",
              "      <td>0.0</td>\n",
              "      <td>0.0</td>\n",
              "      <td>0.0</td>\n",
              "      <td>0.0</td>\n",
              "      <td>0.0</td>\n",
              "      <td>1.0</td>\n",
              "      <td>0.0</td>\n",
              "    </tr>\n",
              "    <tr>\n",
              "      <th>2</th>\n",
              "      <td>0.72</td>\n",
              "      <td>0.67</td>\n",
              "      <td>5.0</td>\n",
              "      <td>210.0</td>\n",
              "      <td>2.0</td>\n",
              "      <td>0.0</td>\n",
              "      <td>0.0</td>\n",
              "      <td>0.0</td>\n",
              "      <td>0.0</td>\n",
              "      <td>0.0</td>\n",
              "      <td>0.0</td>\n",
              "      <td>1.0</td>\n",
              "      <td>0.0</td>\n",
              "      <td>0.0</td>\n",
              "      <td>0.0</td>\n",
              "      <td>0.0</td>\n",
              "      <td>0.0</td>\n",
              "      <td>0.0</td>\n",
              "      <td>0.0</td>\n",
              "      <td>0.0</td>\n",
              "      <td>1.0</td>\n",
              "      <td>0.0</td>\n",
              "    </tr>\n",
              "  </tbody>\n",
              "</table>\n",
              "</div>"
            ],
            "text/plain": [
              "   satisfaction_level  last_evaluation  ...  salary_medium  salary_nan\n",
              "0                0.44             0.57  ...            1.0         0.0\n",
              "1                0.55             0.96  ...            1.0         0.0\n",
              "2                0.72             0.67  ...            1.0         0.0\n",
              "\n",
              "[3 rows x 22 columns]"
            ]
          },
          "metadata": {
            "tags": []
          },
          "execution_count": 31
        }
      ]
    },
    {
      "cell_type": "code",
      "metadata": {
        "id": "pLG36fYEnZ8_",
        "colab": {
          "base_uri": "https://localhost:8080/",
          "height": 157
        },
        "outputId": "10fec164-5bbb-4be6-8322-7bd6b490ef0c"
      },
      "source": [
        "#ソート順の統一\n",
        "X_ohe_s3 = X_ohe_s3.reindex(X_ohe.columns.values,axis=1)\n",
        "X_ohe_s3.head(3)"
      ],
      "execution_count": 32,
      "outputs": [
        {
          "output_type": "execute_result",
          "data": {
            "text/html": [
              "<div>\n",
              "<style scoped>\n",
              "    .dataframe tbody tr th:only-of-type {\n",
              "        vertical-align: middle;\n",
              "    }\n",
              "\n",
              "    .dataframe tbody tr th {\n",
              "        vertical-align: top;\n",
              "    }\n",
              "\n",
              "    .dataframe thead th {\n",
              "        text-align: right;\n",
              "    }\n",
              "</style>\n",
              "<table border=\"1\" class=\"dataframe\">\n",
              "  <thead>\n",
              "    <tr style=\"text-align: right;\">\n",
              "      <th></th>\n",
              "      <th>satisfaction_level</th>\n",
              "      <th>last_evaluation</th>\n",
              "      <th>number_project</th>\n",
              "      <th>average_montly_hours</th>\n",
              "      <th>time_spend_company</th>\n",
              "      <th>Work_accident</th>\n",
              "      <th>promotion_last_5years</th>\n",
              "      <th>sales_IT</th>\n",
              "      <th>sales_RandD</th>\n",
              "      <th>sales_accounting</th>\n",
              "      <th>sales_hr</th>\n",
              "      <th>sales_management</th>\n",
              "      <th>sales_marketing</th>\n",
              "      <th>sales_product_mng</th>\n",
              "      <th>sales_sales</th>\n",
              "      <th>sales_support</th>\n",
              "      <th>sales_technical</th>\n",
              "      <th>sales_nan</th>\n",
              "      <th>salary_high</th>\n",
              "      <th>salary_low</th>\n",
              "      <th>salary_medium</th>\n",
              "      <th>salary_nan</th>\n",
              "    </tr>\n",
              "  </thead>\n",
              "  <tbody>\n",
              "    <tr>\n",
              "      <th>0</th>\n",
              "      <td>0.44</td>\n",
              "      <td>0.57</td>\n",
              "      <td>2.0</td>\n",
              "      <td>141.0</td>\n",
              "      <td>3.0</td>\n",
              "      <td>0.0</td>\n",
              "      <td>0.0</td>\n",
              "      <td>0.0</td>\n",
              "      <td>0.0</td>\n",
              "      <td>0.0</td>\n",
              "      <td>0.0</td>\n",
              "      <td>0.0</td>\n",
              "      <td>0.0</td>\n",
              "      <td>1.0</td>\n",
              "      <td>0.0</td>\n",
              "      <td>0.0</td>\n",
              "      <td>0.0</td>\n",
              "      <td>0.0</td>\n",
              "      <td>0.0</td>\n",
              "      <td>0.0</td>\n",
              "      <td>1.0</td>\n",
              "      <td>0.0</td>\n",
              "    </tr>\n",
              "    <tr>\n",
              "      <th>1</th>\n",
              "      <td>0.55</td>\n",
              "      <td>0.96</td>\n",
              "      <td>3.0</td>\n",
              "      <td>194.0</td>\n",
              "      <td>3.0</td>\n",
              "      <td>0.0</td>\n",
              "      <td>0.0</td>\n",
              "      <td>0.0</td>\n",
              "      <td>0.0</td>\n",
              "      <td>0.0</td>\n",
              "      <td>0.0</td>\n",
              "      <td>0.0</td>\n",
              "      <td>0.0</td>\n",
              "      <td>1.0</td>\n",
              "      <td>0.0</td>\n",
              "      <td>0.0</td>\n",
              "      <td>0.0</td>\n",
              "      <td>0.0</td>\n",
              "      <td>0.0</td>\n",
              "      <td>0.0</td>\n",
              "      <td>1.0</td>\n",
              "      <td>0.0</td>\n",
              "    </tr>\n",
              "    <tr>\n",
              "      <th>2</th>\n",
              "      <td>0.72</td>\n",
              "      <td>0.67</td>\n",
              "      <td>5.0</td>\n",
              "      <td>210.0</td>\n",
              "      <td>2.0</td>\n",
              "      <td>0.0</td>\n",
              "      <td>0.0</td>\n",
              "      <td>0.0</td>\n",
              "      <td>0.0</td>\n",
              "      <td>0.0</td>\n",
              "      <td>0.0</td>\n",
              "      <td>1.0</td>\n",
              "      <td>0.0</td>\n",
              "      <td>0.0</td>\n",
              "      <td>0.0</td>\n",
              "      <td>0.0</td>\n",
              "      <td>0.0</td>\n",
              "      <td>0.0</td>\n",
              "      <td>0.0</td>\n",
              "      <td>0.0</td>\n",
              "      <td>1.0</td>\n",
              "      <td>0.0</td>\n",
              "    </tr>\n",
              "  </tbody>\n",
              "</table>\n",
              "</div>"
            ],
            "text/plain": [
              "   satisfaction_level  last_evaluation  ...  salary_medium  salary_nan\n",
              "0                0.44             0.57  ...            1.0         0.0\n",
              "1                0.55             0.96  ...            1.0         0.0\n",
              "2                0.72             0.67  ...            1.0         0.0\n",
              "\n",
              "[3 rows x 22 columns]"
            ]
          },
          "metadata": {
            "tags": []
          },
          "execution_count": 32
        }
      ]
    },
    {
      "cell_type": "code",
      "metadata": {
        "id": "MOt5XlKxoH8I"
      },
      "source": [
        "#欠損値処理\n",
        "X_ohe_s4 = pd.DataFrame(imp.transform(X_ohe_s3),columns=X_ohe_columns)"
      ],
      "execution_count": 33,
      "outputs": []
    },
    {
      "cell_type": "code",
      "metadata": {
        "id": "L60nr02HoWyT"
      },
      "source": [
        "#RFE適用後の列名のみテストデータから抽出\n",
        "X_ohe_selected_s=X_ohe_s4.loc[:, X_ohe_columns[selector.support_]]"
      ],
      "execution_count": 34,
      "outputs": []
    },
    {
      "cell_type": "code",
      "metadata": {
        "id": "l2kNZUJj0fP5",
        "colab": {
          "base_uri": "https://localhost:8080/"
        },
        "outputId": "0ec746f6-e6c0-4ee0-a9fc-c4b1e0513180"
      },
      "source": [
        "#列の整合性再確認チェック ←ログとしてははきだすべき\n",
        "cols_model = set(X_ohe_selected.columns.values)\n",
        "cols_score = set(X_ohe_selected_s.columns.values)\n",
        "diff1 = cols_model - cols_score\n",
        "print('モデルのみに存在する項目: %s' % diff1)\n",
        "\n",
        "diff2 = cols_score - cols_model\n",
        "print('スコアのみに存在する項目: %s' % diff2)"
      ],
      "execution_count": 35,
      "outputs": [
        {
          "output_type": "stream",
          "text": [
            "モデルのみに存在する項目: set()\n",
            "スコアのみに存在する項目: set()\n"
          ],
          "name": "stdout"
        }
      ]
    },
    {
      "cell_type": "code",
      "metadata": {
        "colab": {
          "base_uri": "https://localhost:8080/",
          "height": 404
        },
        "id": "EHaNXw7OtFaV",
        "outputId": "07a1de54-b7e7-4dd3-ae46-ac4cfdada8eb"
      },
      "source": [
        "X_ohe_selected_s"
      ],
      "execution_count": 36,
      "outputs": [
        {
          "output_type": "execute_result",
          "data": {
            "text/html": [
              "<div>\n",
              "<style scoped>\n",
              "    .dataframe tbody tr th:only-of-type {\n",
              "        vertical-align: middle;\n",
              "    }\n",
              "\n",
              "    .dataframe tbody tr th {\n",
              "        vertical-align: top;\n",
              "    }\n",
              "\n",
              "    .dataframe thead th {\n",
              "        text-align: right;\n",
              "    }\n",
              "</style>\n",
              "<table border=\"1\" class=\"dataframe\">\n",
              "  <thead>\n",
              "    <tr style=\"text-align: right;\">\n",
              "      <th></th>\n",
              "      <th>satisfaction_level</th>\n",
              "      <th>last_evaluation</th>\n",
              "      <th>number_project</th>\n",
              "      <th>average_montly_hours</th>\n",
              "      <th>time_spend_company</th>\n",
              "    </tr>\n",
              "  </thead>\n",
              "  <tbody>\n",
              "    <tr>\n",
              "      <th>0</th>\n",
              "      <td>0.44</td>\n",
              "      <td>0.57</td>\n",
              "      <td>2.0</td>\n",
              "      <td>141.0</td>\n",
              "      <td>3.0</td>\n",
              "    </tr>\n",
              "    <tr>\n",
              "      <th>1</th>\n",
              "      <td>0.55</td>\n",
              "      <td>0.96</td>\n",
              "      <td>3.0</td>\n",
              "      <td>194.0</td>\n",
              "      <td>3.0</td>\n",
              "    </tr>\n",
              "    <tr>\n",
              "      <th>2</th>\n",
              "      <td>0.72</td>\n",
              "      <td>0.67</td>\n",
              "      <td>5.0</td>\n",
              "      <td>210.0</td>\n",
              "      <td>2.0</td>\n",
              "    </tr>\n",
              "    <tr>\n",
              "      <th>3</th>\n",
              "      <td>0.96</td>\n",
              "      <td>0.75</td>\n",
              "      <td>4.0</td>\n",
              "      <td>177.0</td>\n",
              "      <td>2.0</td>\n",
              "    </tr>\n",
              "    <tr>\n",
              "      <th>4</th>\n",
              "      <td>0.96</td>\n",
              "      <td>0.54</td>\n",
              "      <td>3.0</td>\n",
              "      <td>198.0</td>\n",
              "      <td>3.0</td>\n",
              "    </tr>\n",
              "    <tr>\n",
              "      <th>...</th>\n",
              "      <td>...</td>\n",
              "      <td>...</td>\n",
              "      <td>...</td>\n",
              "      <td>...</td>\n",
              "      <td>...</td>\n",
              "    </tr>\n",
              "    <tr>\n",
              "      <th>4495</th>\n",
              "      <td>0.56</td>\n",
              "      <td>0.71</td>\n",
              "      <td>3.0</td>\n",
              "      <td>211.0</td>\n",
              "      <td>6.0</td>\n",
              "    </tr>\n",
              "    <tr>\n",
              "      <th>4496</th>\n",
              "      <td>0.58</td>\n",
              "      <td>0.79</td>\n",
              "      <td>5.0</td>\n",
              "      <td>262.0</td>\n",
              "      <td>2.0</td>\n",
              "    </tr>\n",
              "    <tr>\n",
              "      <th>4497</th>\n",
              "      <td>0.85</td>\n",
              "      <td>0.58</td>\n",
              "      <td>4.0</td>\n",
              "      <td>273.0</td>\n",
              "      <td>4.0</td>\n",
              "    </tr>\n",
              "    <tr>\n",
              "      <th>4498</th>\n",
              "      <td>0.54</td>\n",
              "      <td>0.64</td>\n",
              "      <td>6.0</td>\n",
              "      <td>278.0</td>\n",
              "      <td>2.0</td>\n",
              "    </tr>\n",
              "    <tr>\n",
              "      <th>4499</th>\n",
              "      <td>0.17</td>\n",
              "      <td>0.76</td>\n",
              "      <td>4.0</td>\n",
              "      <td>171.0</td>\n",
              "      <td>5.0</td>\n",
              "    </tr>\n",
              "  </tbody>\n",
              "</table>\n",
              "<p>4500 rows × 5 columns</p>\n",
              "</div>"
            ],
            "text/plain": [
              "      satisfaction_level  ...  time_spend_company\n",
              "0                   0.44  ...                 3.0\n",
              "1                   0.55  ...                 3.0\n",
              "2                   0.72  ...                 2.0\n",
              "3                   0.96  ...                 2.0\n",
              "4                   0.96  ...                 3.0\n",
              "...                  ...  ...                 ...\n",
              "4495                0.56  ...                 6.0\n",
              "4496                0.58  ...                 2.0\n",
              "4497                0.85  ...                 4.0\n",
              "4498                0.54  ...                 2.0\n",
              "4499                0.17  ...                 5.0\n",
              "\n",
              "[4500 rows x 5 columns]"
            ]
          },
          "metadata": {
            "tags": []
          },
          "execution_count": 36
        }
      ]
    },
    {
      "cell_type": "markdown",
      "metadata": {
        "id": "TGv3gF31r2Kp"
      },
      "source": [
        "**モデリング**"
      ]
    },
    {
      "cell_type": "code",
      "metadata": {
        "id": "0vZzO1yQr8aV"
      },
      "source": [
        "#アルゴリズム定義\n",
        "#model_name = 'GBC_001'\n",
        "'''\n",
        "clf = Pipeline([('scl',StandardScaler()), \n",
        "                ('est',GradientBoostingClassifier(random_state=1))\n",
        "                ])\n",
        "'''\n",
        "# set pipelines for different algorithms\n",
        "pipelines = {\n",
        "    'knn':\n",
        "       Pipeline([('scl',StandardScaler()),\n",
        "                  ('est',KNeighborsClassifier())]),\n",
        "    'logistic':\n",
        "        Pipeline([('scl',StandardScaler()),\n",
        "                  ('est',LogisticRegression(random_state=1))]),\n",
        "    'rsvc':\n",
        "        Pipeline([('scl',StandardScaler()),\n",
        "                  ('est',SVC(C=1.0, kernel='rbf', class_weight='balanced', random_state=1,probability = True))]),\n",
        "    'lsvc':\n",
        "        Pipeline([('scl',StandardScaler()),\n",
        "                  ('est',SVC(C=1.0, kernel='linear', class_weight='balanced', random_state=1,probability = True))]),\n",
        "    'tree':\n",
        "        Pipeline([('scl',StandardScaler()),\n",
        "                  ('est',DecisionTreeClassifier(random_state=1))]),\n",
        "    'rf':\n",
        "        Pipeline([('scl',StandardScaler()),\n",
        "                  ('est',RandomForestClassifier(random_state=1))]),\n",
        "    'gb':\n",
        "        Pipeline([('scl',StandardScaler()),\n",
        "                  ('est',GradientBoostingClassifier(random_state=1))]),\n",
        "    'lgb':\n",
        "        Pipeline([('scl',StandardScaler()),\n",
        "                  ('lgb',lgb.LGBMClassifier())]),\n",
        "    'mlp': #ニューラルネットワーク\n",
        "        Pipeline([('scl',StandardScaler()),\n",
        "                  ('est',MLPClassifier(hidden_layer_sizes=(3,3),\n",
        "                                       max_iter=1000,\n",
        "                                       random_state=1))])\n",
        "}"
      ],
      "execution_count": 37,
      "outputs": []
    },
    {
      "cell_type": "code",
      "metadata": {
        "id": "VlwlWr-ysIpu",
        "colab": {
          "base_uri": "https://localhost:8080/"
        },
        "outputId": "df4e1058-4aaf-4133-dee4-acee4f63c9e0"
      },
      "source": [
        "#clf.fit(X_ohe_selected, y.values.ravel())#Xを標準化、勾配ブースティングを適用)\n",
        "scores = {}\n",
        "for pipe_name, pipeline in pipelines.items():\n",
        "    pipeline.fit(X_ohe_selected, y.values.ravel())\n",
        "#    scores[(pipe_name,'train')] = accuracy_score(y, pipeline.predict(X_ohe_selected))\n",
        "#    scores[(pipe_name,'test')] = accuracy_score(y_s, pipeline.predict(X_ohe_selected_s))\n",
        "    print(pipe_name)\n",
        "    print(\"========================\")\n",
        "    print(pipeline.predict_proba(X_ohe_selected_s))\n",
        "    print(\"========================\")\n",
        "#pd.Series(scores).unstack()"
      ],
      "execution_count": 43,
      "outputs": [
        {
          "output_type": "stream",
          "text": [
            "knn\n",
            "========================\n",
            "[[0.  1. ]\n",
            " [1.  0. ]\n",
            " [1.  0. ]\n",
            " ...\n",
            " [1.  0. ]\n",
            " [0.8 0.2]\n",
            " [1.  0. ]]\n",
            "========================\n",
            "logistic\n",
            "========================\n",
            "[[0.65508039 0.34491961]\n",
            " [0.7063478  0.2936522 ]\n",
            " [0.92408535 0.07591465]\n",
            " ...\n",
            " [0.89164479 0.10835521]\n",
            " [0.85359663 0.14640337]\n",
            " [0.36536663 0.63463337]]\n",
            "========================\n",
            "rsvc\n",
            "========================\n",
            "[[0.07161185 0.92838815]\n",
            " [0.9875506  0.0124494 ]\n",
            " [0.96980056 0.03019944]\n",
            " ...\n",
            " [0.97591312 0.02408688]\n",
            " [0.86640174 0.13359826]\n",
            " [0.99025139 0.00974861]]\n",
            "========================\n",
            "lsvc\n",
            "========================\n",
            "[[0.6819394  0.3180606 ]\n",
            " [0.74834405 0.25165595]\n",
            " [0.92630803 0.07369197]\n",
            " ...\n",
            " [0.8340895  0.1659105 ]\n",
            " [0.91271505 0.08728495]\n",
            " [0.43666082 0.56333918]]\n",
            "========================\n",
            "tree\n",
            "========================\n",
            "[[0. 1.]\n",
            " [1. 0.]\n",
            " [1. 0.]\n",
            " ...\n",
            " [1. 0.]\n",
            " [1. 0.]\n",
            " [1. 0.]]\n",
            "========================\n",
            "rf\n",
            "========================\n",
            "[[0.   1.  ]\n",
            " [1.   0.  ]\n",
            " [1.   0.  ]\n",
            " ...\n",
            " [0.98 0.02]\n",
            " [0.8  0.2 ]\n",
            " [1.   0.  ]]\n",
            "========================\n",
            "gb\n",
            "========================\n",
            "[[0.04250815 0.95749185]\n",
            " [0.9861997  0.0138003 ]\n",
            " [0.98966501 0.01033499]\n",
            " ...\n",
            " [0.95288159 0.04711841]\n",
            " [0.97848763 0.02151237]\n",
            " [0.97156627 0.02843373]]\n",
            "========================\n",
            "lgb\n",
            "========================\n",
            "[[0.008246   0.991754  ]\n",
            " [0.99815784 0.00184216]\n",
            " [0.99630932 0.00369068]\n",
            " ...\n",
            " [0.95979255 0.04020745]\n",
            " [0.905724   0.094276  ]\n",
            " [0.99616688 0.00383312]]\n",
            "========================\n",
            "mlp\n",
            "========================\n",
            "[[0.13704169 0.86295831]\n",
            " [0.99077402 0.00922598]\n",
            " [0.9987299  0.0012701 ]\n",
            " ...\n",
            " [0.95324973 0.04675027]\n",
            " [0.99113671 0.00886329]\n",
            " [0.99017839 0.00982161]]\n",
            "========================\n"
          ],
          "name": "stdout"
        }
      ]
    },
    {
      "cell_type": "code",
      "metadata": {
        "id": "1S__xxmRsWtF",
        "colab": {
          "base_uri": "https://localhost:8080/"
        },
        "outputId": "1a017192-bc35-4855-cf47-4dac493ada8a"
      },
      "source": [
        "for pipe_name, pipeline in pipelines.items():\n",
        "  #results = cross_val_score(pipeline, X_ohe_selected, y, scoring='roc_auc', cv=5)\n",
        "  #print('cv score('+pipe_name+'):', np.average(results), '+-', np.std(results))\n",
        "  print(pipe_name)\n",
        "  predscore = pd.DataFrame((pipeline.predict_proba(X_ohe_selected_s)[:,1:2]), columns=['pred_score'])\n",
        "  ID_s.join(predscore).to_csv('./output/'+  pipe_name + '_' + file_test_name + '_with_pred.csv', index=False)\n",
        "\n",
        "  #imp = pd.DataFrame([pipeline.named_steps['est'].feature_importances_], columns=X_ohe_columns[selector.support_])\n",
        "  #imp.T.to_csv('./output/'+  pipe_name + '_feature_importances.csv', index=True)"
      ],
      "execution_count": 45,
      "outputs": [
        {
          "output_type": "stream",
          "text": [
            "knn\n",
            "logistic\n",
            "rsvc\n",
            "lsvc\n",
            "tree\n",
            "rf\n",
            "gb\n",
            "lgb\n",
            "mlp\n"
          ],
          "name": "stdout"
        }
      ]
    },
    {
      "cell_type": "code",
      "metadata": {
        "id": "cU2rDRDUspxI"
      },
      "source": [
        "#モデル保存\n",
        "for pipe_name, pipeline in pipelines.items():\n",
        "  filename=pipe_name + '.joblib'\n",
        "  joblib.dump('./output/'+ pipe_name, filename)"
      ],
      "execution_count": 46,
      "outputs": []
    },
    {
      "cell_type": "code",
      "metadata": {
        "id": "08W2m0Bz7tFo"
      },
      "source": [
        ""
      ],
      "execution_count": null,
      "outputs": []
    }
  ]
}