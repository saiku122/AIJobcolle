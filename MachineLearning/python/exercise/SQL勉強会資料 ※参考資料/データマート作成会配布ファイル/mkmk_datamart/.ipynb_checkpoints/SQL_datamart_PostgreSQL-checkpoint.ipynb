{
 "cells": [
  {
   "cell_type": "code",
   "execution_count": null,
   "metadata": {
    "collapsed": true
   },
   "outputs": [],
   "source": [
    "#パッケージをインストールしていない場合は先に下記を実行\n",
    "!pip install psycopg2"
   ]
  },
  {
   "cell_type": "code",
   "execution_count": null,
   "metadata": {
    "collapsed": true
   },
   "outputs": [],
   "source": [
    "import psycopg2\n",
    "import pandas as pd"
   ]
  },
  {
   "cell_type": "code",
   "execution_count": null,
   "metadata": {
    "collapsed": true
   },
   "outputs": [],
   "source": [
    "#接続情報。パスワードは各自のものに変更のこと。\n",
    "connector = psycopg2.connect(\n",
    "                            host=\"localhost\", \n",
    "                            database=\"postgres\", \n",
    "                            user=\"postgres\", \n",
    "                            password=\"12345678\")"
   ]
  },
  {
   "cell_type": "markdown",
   "metadata": {},
   "source": [
    "#### テーブル内容の確認   \n",
    "__\"SELECT * FROM (テーブル名) LIMIT 100\"__ や    \n",
    "__\"SELECT COUNT() FROM (テーブル名)\"__ といったクエリで確認できる。"
   ]
  },
  {
   "cell_type": "code",
   "execution_count": null,
   "metadata": {
    "collapsed": true
   },
   "outputs": [],
   "source": [
    "test_sql = ('''\n",
    "                SELECT \n",
    "                    COUNT(*) as count_all, \n",
    "                    COUNT(DISTINCT user_id) as count_users \n",
    "                FROM \n",
    "                    users;\n",
    "            ''')\n",
    "test_result = pd.read_sql(test_sql,connector)"
   ]
  },
  {
   "cell_type": "code",
   "execution_count": null,
   "metadata": {
    "collapsed": true
   },
   "outputs": [],
   "source": [
    "#上記クエリの実行結果確認\n",
    "test_result"
   ]
  },
  {
   "cell_type": "markdown",
   "metadata": {},
   "source": [
    "これ以外のテーブルの確認はクエリの中身を変更し確認すること"
   ]
  },
  {
   "cell_type": "markdown",
   "metadata": {},
   "source": [
    "### 課題１：指定されたデータの抽出\n",
    "\n",
    "１）各ユーザのゲームプレイ回数（questsのみ使用）   \n",
    "２）2017年6月16日に登録した各ユーザ（＝usersに存在するユーザ）の__ゲームプレイ回数__（users,questsを使用）   \n",
    "３）各ユーザの課金回数（purchaseのみ使用）   \n",
    "４）2017年6月16日に登録した各ユーザ（＝usersに存在するユーザ）の__課金回数__（users,purchaseを使用）   \n",
    "５）2017年6月16日に登録した各ユーザ（＝usersに存在するユーザ）の__課金有無__（users,purchaseを使用／{0,1}で結果を表示）   \n",
    "\n",
    "作成したクエリ及びテーブルは所定のオブジェクトへ格納してください。"
   ]
  },
  {
   "cell_type": "code",
   "execution_count": null,
   "metadata": {
    "collapsed": true
   },
   "outputs": [],
   "source": [
    "#１）各ユーザのゲームプレイ回数（questsのみ使用）  \n",
    "\n",
    "q1= ('''''')\n",
    "q1 = pd.read_sql(q1,connector)\n",
    "q1.head()"
   ]
  },
  {
   "cell_type": "code",
   "execution_count": null,
   "metadata": {
    "collapsed": true
   },
   "outputs": [],
   "source": [
    "#２）2017年6月16日に登録した各ユーザ（＝usersに存在するユーザ）のゲームプレイ回数（users,questsを使用）\n",
    "\n",
    "q2= ('''\n",
    "    \n",
    "    ''')\n",
    "q2 = pd.read_sql(q2,connector)\n",
    "q2.head()"
   ]
  },
  {
   "cell_type": "code",
   "execution_count": null,
   "metadata": {
    "collapsed": true
   },
   "outputs": [],
   "source": [
    "#３）各ユーザの課金回数（purchaseのみ使用）   \n",
    "\n",
    "q3= ('''\n",
    "    \n",
    "    ''')\n",
    "q3 = pd.read_sql(q3,connector)\n",
    "q3.head()"
   ]
  },
  {
   "cell_type": "code",
   "execution_count": null,
   "metadata": {
    "collapsed": true
   },
   "outputs": [],
   "source": [
    "#４）2017年6月16日に登録した各ユーザ（＝usersに存在するユーザ）の__課金回数__（users,purchaseを使用）  \n",
    "\n",
    "q4= ('''\n",
    "\n",
    "    ''')\n",
    "q4 = pd.read_sql(q4,connector)\n",
    "q4.head()"
   ]
  },
  {
   "cell_type": "code",
   "execution_count": null,
   "metadata": {
    "collapsed": true
   },
   "outputs": [],
   "source": [
    "#５）2017年6月16日に登録した各ユーザ（＝usersに存在するユーザ）の__課金有無__（users,purchaseを使用）   \n",
    "\n",
    "q5= ('''\n",
    "\n",
    "    ''')\n",
    "q5 = pd.read_sql(q5,connector)\n",
    "q5.head()"
   ]
  },
  {
   "cell_type": "markdown",
   "metadata": {},
   "source": [
    "### 課題２：CSVファイルと同じテーブルの作成\n",
    "\n",
    "但し以下の条件を満たすように作成して下さい。   \n",
    "１）一列目にuser_id、二列目にゲームプレイ回数、三列目に課金回数（or課金有無）を保持している   \n",
    "２）ユーザ1人につき1行   \n",
    "３）2017年6月16日に登録したユーザ（＝usersテーブルに存在するユーザ）が対象   \n",
    "\n",
    "作成したクエリおよびテーブルは課題１と同様所定のオブジェクトへ格納してください。"
   ]
  },
  {
   "cell_type": "code",
   "execution_count": null,
   "metadata": {
    "collapsed": true
   },
   "outputs": [],
   "source": [
    "sql = ('''\n",
    "        \n",
    "      ''')\n",
    "data = pd.read_sql(sql,connector)"
   ]
  },
  {
   "cell_type": "code",
   "execution_count": null,
   "metadata": {
    "collapsed": true
   },
   "outputs": [],
   "source": [
    "#データの確認\n",
    "data.head()\n",
    "#data.describe()"
   ]
  },
  {
   "cell_type": "markdown",
   "metadata": {},
   "source": [
    "### 課題３:予測結果の確認   \n",
    "\n",
    "データが正しく抽出されていることを確認した後、CSVデータを用いたときと同じ予測結果がでるか確認。"
   ]
  },
  {
   "cell_type": "code",
   "execution_count": null,
   "metadata": {
    "collapsed": true
   },
   "outputs": [],
   "source": [
    "#ライブラリのインポート\n",
    "import numpy as np\n",
    "import pandas as pd\n",
    "from sklearn.preprocessing import StandardScaler\n",
    "from sklearn.linear_model import LogisticRegression\n",
    "from sklearn.pipeline import Pipeline\n",
    "from sklearn.model_selection import train_test_split\n",
    "from sklearn.metrics import accuracy_score"
   ]
  },
  {
   "cell_type": "code",
   "execution_count": null,
   "metadata": {
    "collapsed": true
   },
   "outputs": [],
   "source": [
    "#説明変数と目的変数の定義。今回は説明変数にゲームプレイ回数を入れ、目的変数に課金フラグを入れます。\n",
    "X = data.iloc[:,[1]].copy()\n",
    "y = data.iloc[:,[2]].copy()"
   ]
  },
  {
   "cell_type": "code",
   "execution_count": null,
   "metadata": {
    "collapsed": true
   },
   "outputs": [],
   "source": [
    "#データの分割\n",
    "X_train, X_test, y_train, y_test = train_test_split(X, y, test_size=0.20, random_state=0)\n",
    "\n",
    "#パイプラインの作成\n",
    "pipe_logistic = Pipeline([('scl', StandardScaler()), ('est',LogisticRegression())])\n",
    "\n",
    "#モデルの学習\n",
    "pipe_logistic.fit(X_train,y_train.as_matrix().ravel())"
   ]
  },
  {
   "cell_type": "code",
   "execution_count": null,
   "metadata": {
    "collapsed": true
   },
   "outputs": [],
   "source": [
    "#精度の評価\n",
    "print('Logistic_Train: %.3f' % accuracy_score(y_train, pipe_logistic.predict(X_train)))\n",
    "print('Logistic_Test: %.3f' % accuracy_score(y_test, pipe_logistic.predict(X_test)))"
   ]
  },
  {
   "cell_type": "markdown",
   "metadata": {},
   "source": [
    "### 課題４：変数の定義を変えたテーブルの作成１\n",
    "\n",
    "以下の条件に沿ったクエリおよびデータマートを作成し、予測精度を先のモデルと比較して下さい。   \n",
    "１）一列目にuser_id、__二列目に難易度normalのゲームプレイ回数__、三列目に課金回数（or課金有無）を保持している   \n",
    "２）ユーザ1人につき1行   \n",
    "３）2017年6月16日に登録したユーザ（＝usersテーブルに存在するユーザ）が対象   "
   ]
  },
  {
   "cell_type": "code",
   "execution_count": null,
   "metadata": {
    "collapsed": true
   },
   "outputs": [],
   "source": []
  },
  {
   "cell_type": "markdown",
   "metadata": {},
   "source": [
    "### 課題５：変数の定義を変えたテーブルの作成２\n",
    "\n",
    "以下の条件に沿ったクエリおよびデータマートを作成し、予測精度を先のモデルと比較して下さい。   \n",
    "１）一列目にuser_id、__二列目に登録から60分以内のゲームプレイ回数__、三列目に課金回数（or課金有無）を保持している   \n",
    "２）ユーザ1人につき1行   \n",
    "３）2017年6月16日に登録したユーザ（＝usersテーブルに存在するユーザ）が対象   "
   ]
  },
  {
   "cell_type": "code",
   "execution_count": null,
   "metadata": {
    "collapsed": true
   },
   "outputs": [],
   "source": []
  }
 ],
 "metadata": {
  "kernelspec": {
   "display_name": "Python 3",
   "language": "python",
   "name": "python3"
  },
  "language_info": {
   "codemirror_mode": {
    "name": "ipython",
    "version": 3
   },
   "file_extension": ".py",
   "mimetype": "text/x-python",
   "name": "python",
   "nbconvert_exporter": "python",
   "pygments_lexer": "ipython3",
   "version": "3.6.1"
  }
 },
 "nbformat": 4,
 "nbformat_minor": 2
}
