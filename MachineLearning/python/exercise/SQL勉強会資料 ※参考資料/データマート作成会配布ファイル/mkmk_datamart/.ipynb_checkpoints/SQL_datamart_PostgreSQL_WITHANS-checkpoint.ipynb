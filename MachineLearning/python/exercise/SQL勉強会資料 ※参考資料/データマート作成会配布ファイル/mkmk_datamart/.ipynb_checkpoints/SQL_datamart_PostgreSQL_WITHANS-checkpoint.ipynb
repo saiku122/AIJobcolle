{
 "cells": [
  {
   "cell_type": "code",
   "execution_count": null,
   "metadata": {},
   "outputs": [],
   "source": [
    "#各パッケージをインストールしていない場合は先に下記を実行\n",
    "!pip install psycopg2"
   ]
  },
  {
   "cell_type": "code",
   "execution_count": null,
   "metadata": {
    "collapsed": true
   },
   "outputs": [],
   "source": [
    "import psycopg2\n",
    "import pandas as pd"
   ]
  },
  {
   "cell_type": "code",
   "execution_count": null,
   "metadata": {
    "collapsed": true
   },
   "outputs": [],
   "source": [
    "#接続情報。パスワードは各自のものに変更のこと。\n",
    "connector = psycopg2.connect(\n",
    "                            host=\"localhost\", \n",
    "                            database=\"postgres\", \n",
    "                            user=\"postgres\", \n",
    "                            password=\"12345678\")"
   ]
  },
  {
   "cell_type": "markdown",
   "metadata": {},
   "source": [
    "#### テーブル内容の確認   \n",
    "__\"SELECT * FROM (テーブル名) LIMIT 100\"__ や    \n",
    "__\"SELECT COUNT() FROM (テーブル名)\"__ といったクエリで確認できる。"
   ]
  },
  {
   "cell_type": "code",
   "execution_count": null,
   "metadata": {
    "collapsed": true
   },
   "outputs": [],
   "source": [
    "test_sql1 = ('''\n",
    "                SELECT \n",
    "                    COUNT(*) as count_all, \n",
    "                    COUNT(DISTINCT user_id) as count_users \n",
    "                FROM \n",
    "                    users;\n",
    "            ''')\n",
    "test_result1 = pd.read_sql(test_sql1,connector)"
   ]
  },
  {
   "cell_type": "code",
   "execution_count": null,
   "metadata": {},
   "outputs": [],
   "source": [
    "#上記クエリの実行結果確認\n",
    "test_result1"
   ]
  },
  {
   "cell_type": "markdown",
   "metadata": {},
   "source": [
    "これ以外のテーブルの確認はクエリの中身を変更し確認すること"
   ]
  },
  {
   "cell_type": "markdown",
   "metadata": {},
   "source": [
    "### 課題１：指定されたデータの抽出\n",
    "\n",
    "１）各ユーザのゲームプレイ回数（questsのみ使用）   \n",
    "２）2017年6月16日に登録した各ユーザ（＝usersに存在するユーザ）の__ゲームプレイ回数__（users,questsを使用）   \n",
    "３）各ユーザの課金回数（purchaseのみ使用）   \n",
    "４）2017年6月16日に登録した各ユーザ（＝usersに存在するユーザ）の__課金回数__（users,purchaseを使用）   \n",
    "５）2017年6月16日に登録した各ユーザ（＝usersに存在するユーザ）の__課金有無__（users,purchaseを使用／{0,1}で結果を表示）   \n",
    "\n",
    "作成したクエリ及びテーブルは所定のオブジェクトへ格納してください。"
   ]
  },
  {
   "cell_type": "code",
   "execution_count": null,
   "metadata": {},
   "outputs": [],
   "source": [
    "#１）各ユーザのゲームプレイ回数（questsのみ使用）  \n",
    "\n",
    "q1= (\"SELECT user_id, COUNT(DISTINCT started_at) quest_cnt FROM quests GROUP BY 1\")\n",
    "q1 = pd.read_sql(q1,connector)\n",
    "q1.tail() #今回headでは違いが分かりにくいため、tailを用いて確認"
   ]
  },
  {
   "cell_type": "code",
   "execution_count": null,
   "metadata": {},
   "outputs": [],
   "source": [
    "#２）2017年6月16日に登録した各ユーザ（＝usersに存在するユーザ）のゲームプレイ回数（users,questsを使用）\n",
    "\n",
    "q2= ('''\n",
    "    SELECT\n",
    "        t1.user_id,\n",
    "        COUNT(DISTINCT t2.started_at) quest_cnt\n",
    "    FROM\n",
    "        users t1\n",
    "    LEFT JOIN\n",
    "        quests t2\n",
    "    ON\n",
    "        t1.user_id = t2.user_id\n",
    "    GROUP BY 1\n",
    "    ''')\n",
    "q2 = pd.read_sql(q2,connector)\n",
    "q2.tail() #今回headでは違いが分かりにくいため、tailを用いて確認"
   ]
  },
  {
   "cell_type": "code",
   "execution_count": null,
   "metadata": {
    "collapsed": true
   },
   "outputs": [],
   "source": [
    "#３）各ユーザの課金回数（purchaseのみ使用）   \n",
    "\n",
    "q3= (\"SELECT user_id, COUNT(DISTINCT created_at) target FROM purchase GROUP BY 1\")\n",
    "q3 = pd.read_sql(q3,connector)\n",
    "q3.head()"
   ]
  },
  {
   "cell_type": "code",
   "execution_count": null,
   "metadata": {
    "collapsed": true
   },
   "outputs": [],
   "source": [
    "#４）2017年6月16日に登録した各ユーザ（＝usersに存在するユーザ）の__課金回数__（users,purchaseを使用）  \n",
    "\n",
    "q4= ('''\n",
    "    SELECT\n",
    "        t1.user_id,\n",
    "        COUNT(DISTINCT t2.created_at) target\n",
    "    FROM\n",
    "        users t1\n",
    "    LEFT JOIN\n",
    "        purchase t2\n",
    "    ON\n",
    "        t1.user_id = t2.user_id\n",
    "    GROUP BY 1\n",
    "    ''')\n",
    "q4 = pd.read_sql(q4,connector)\n",
    "q4.head()"
   ]
  },
  {
   "cell_type": "code",
   "execution_count": null,
   "metadata": {
    "collapsed": true
   },
   "outputs": [],
   "source": [
    "#５）2017年6月16日に登録した各ユーザ（＝usersに存在するユーザ）の__課金有無__（users,purchaseを使用）   \n",
    "\n",
    "q5= ('''\n",
    "    SELECT\n",
    "        t1.user_id,\n",
    "        SUM(DISTINCT CASE WHEN t2.created_at IS NOT NULL THEN 1 ELSE 0 END) target\n",
    "    FROM\n",
    "        users t1\n",
    "    LEFT JOIN\n",
    "        purchase t2\n",
    "    ON\n",
    "        t1.user_id = t2.user_id\n",
    "    GROUP BY 1\n",
    "    ''')\n",
    "q5 = pd.read_sql(q5,connector)\n",
    "q5.head()"
   ]
  },
  {
   "cell_type": "markdown",
   "metadata": {},
   "source": [
    "### 課題２：CSVファイルと同じテーブルの作成\n",
    "\n",
    "但し以下の条件を満たすように作成して下さい。   \n",
    "１）一列目にuser_id、二列目にゲームプレイ回数、三列目に課金回数（or課金有無）を保持している   \n",
    "２）ユーザ1人につき1行   \n",
    "３）2017年6月16日に登録したユーザ（＝usersテーブルに存在するユーザ）が対象   \n",
    "\n",
    "作成したクエリおよびテーブルは課題１と同様所定のオブジェクトへ格納してください。"
   ]
  },
  {
   "cell_type": "code",
   "execution_count": null,
   "metadata": {
    "collapsed": true
   },
   "outputs": [],
   "source": [
    "sql = ('''\n",
    "    SELECT\n",
    "        t1.user_id,\n",
    "        COUNT(DISTINCT t2.started_at) quest_cnt,\n",
    "        SUM(DISTINCT CASE WHEN t3.created_at IS NOT NULL THEN 1 ELSE 0 END) target\n",
    "    FROM\n",
    "        users t1\n",
    "    LEFT JOIN\n",
    "        quests t2\n",
    "    ON\n",
    "        t1.user_id = t2.user_id\n",
    "    LEFT JOIN\n",
    "        purchase t3\n",
    "    ON\n",
    "        t1.user_id = t3.user_id\n",
    "    GROUP BY 1\n",
    "      ''')\n",
    "data = pd.read_sql(sql,connector)"
   ]
  },
  {
   "cell_type": "code",
   "execution_count": null,
   "metadata": {
    "collapsed": true
   },
   "outputs": [],
   "source": [
    "#データの確認\n",
    "data.head()\n",
    "#data.describe()"
   ]
  },
  {
   "cell_type": "markdown",
   "metadata": {},
   "source": [
    "### 課題３:予測結果の確認   \n",
    "\n",
    "データが正しく抽出されていることを確認した後、CSVデータを用いたときと同じ予測結果がでるか確認。"
   ]
  },
  {
   "cell_type": "code",
   "execution_count": null,
   "metadata": {
    "collapsed": true
   },
   "outputs": [],
   "source": [
    "#ライブラリのインポート\n",
    "import numpy as np\n",
    "import pandas as pd\n",
    "from sklearn.preprocessing import StandardScaler\n",
    "from sklearn.linear_model import LogisticRegression\n",
    "from sklearn.pipeline import Pipeline\n",
    "from sklearn.model_selection import train_test_split\n",
    "from sklearn.metrics import accuracy_score"
   ]
  },
  {
   "cell_type": "code",
   "execution_count": null,
   "metadata": {
    "collapsed": true
   },
   "outputs": [],
   "source": [
    "#説明変数と目的変数の定義。今回は説明変数にゲームプレイ回数を入れ、目的変数に課金フラグを入れます。\n",
    "X = data.iloc[:,[1]].copy()\n",
    "y = data.iloc[:,[2]].copy()"
   ]
  },
  {
   "cell_type": "code",
   "execution_count": null,
   "metadata": {
    "collapsed": true
   },
   "outputs": [],
   "source": [
    "#データの分割\n",
    "X_train, X_test, y_train, y_test = train_test_split(X, y, test_size=0.20, random_state=0)\n",
    "\n",
    "#パイプラインの作成\n",
    "pipe_logistic = Pipeline([('scl', StandardScaler()), ('est',LogisticRegression())])\n",
    "\n",
    "#モデルの学習\n",
    "pipe_logistic.fit(X_train,y_train.as_matrix().ravel())"
   ]
  },
  {
   "cell_type": "code",
   "execution_count": null,
   "metadata": {
    "collapsed": true
   },
   "outputs": [],
   "source": [
    "#精度の評価\n",
    "print('Logistic_Train: %.3f' % accuracy_score(y_train, pipe_logistic.predict(X_train)))\n",
    "print('Logistic_Test: %.3f' % accuracy_score(y_test, pipe_logistic.predict(X_test)))"
   ]
  },
  {
   "cell_type": "markdown",
   "metadata": {},
   "source": [
    "### 課題４：変数の定義を変えたテーブルの作成１\n",
    "\n",
    "以下の条件に沿ったクエリおよびデータマートを作成し、予測精度を先のモデルと比較して下さい。   \n",
    "１）一列目にuser_id、__二列目に難易度normalのゲームプレイ回数__、三列目に課金回数（or課金有無）を保持している   \n",
    "２）ユーザ1人につき1行   \n",
    "３）2017年6月16日に登録したユーザ（＝usersテーブルに存在するユーザ）が対象   "
   ]
  },
  {
   "cell_type": "code",
   "execution_count": null,
   "metadata": {
    "collapsed": true
   },
   "outputs": [],
   "source": [
    "sql2 = ('''\n",
    "    SELECT\n",
    "        t1.user_id,\n",
    "        COUNT(DISTINCT CASE WHEN t2.difficulty = 'normal' THEN t2.started_at ELSE NULL END) quest_cnt,\n",
    "        SUM(DISTINCT CASE WHEN t3.created_at IS NOT NULL THEN 1 ELSE 0 END) target\n",
    "    FROM\n",
    "        users t1\n",
    "    LEFT JOIN\n",
    "        quests t2\n",
    "    ON\n",
    "        t1.user_id = t2.user_id\n",
    "    LEFT JOIN\n",
    "        purchase t3\n",
    "    ON\n",
    "        t1.user_id = t3.user_id\n",
    "    GROUP BY 1\n",
    "      ''')\n",
    "data2 = pd.read_sql(sql2,connector)"
   ]
  },
  {
   "cell_type": "code",
   "execution_count": null,
   "metadata": {
    "collapsed": true
   },
   "outputs": [],
   "source": [
    "data2.head()\n",
    "#data2.describe()"
   ]
  },
  {
   "cell_type": "code",
   "execution_count": null,
   "metadata": {
    "collapsed": true
   },
   "outputs": [],
   "source": [
    "#以降共通している部分のコメントは省略します。\n",
    "X2 = data2.iloc[:,[1]].copy()\n",
    "y2 = data2.iloc[:,[2]].copy()\n",
    "X_train2, X_test2, y_train2, y_test2 = train_test_split(X2, y2, test_size=0.20, random_state=0)\n",
    "pipe_logistic = Pipeline([('scl', StandardScaler()), ('est',LogisticRegression())])\n",
    "pipe_logistic.fit(X_train2,y_train2.as_matrix().ravel())"
   ]
  },
  {
   "cell_type": "code",
   "execution_count": null,
   "metadata": {
    "collapsed": true
   },
   "outputs": [],
   "source": [
    "#精度の評価\n",
    "print('Logistic_Train: %.3f' % accuracy_score(y_train2, pipe_logistic.predict(X_train2)))\n",
    "print('Logistic_Test: %.3f' % accuracy_score(y_test2, pipe_logistic.predict(X_test2)))"
   ]
  },
  {
   "cell_type": "markdown",
   "metadata": {},
   "source": [
    "### 課題５：変数の定義を変えたテーブルの作成２\n",
    "\n",
    "以下の条件に沿ったクエリおよびデータマートを作成し、予測精度を先のモデルと比較して下さい。   \n",
    "１）一列目にuser_id、__二列目に登録から60分以内のゲームプレイ回数__、三列目に課金回数（or課金有無）を保持している   \n",
    "２）ユーザ1人につき1行   \n",
    "３）2017年6月16日に登録したユーザ（＝usersテーブルに存在するユーザ）が対象   "
   ]
  },
  {
   "cell_type": "code",
   "execution_count": null,
   "metadata": {
    "collapsed": true
   },
   "outputs": [],
   "source": [
    "sql3 = ('''\n",
    "    SELECT\n",
    "        t1.user_id,\n",
    "        COUNT(DISTINCT CASE WHEN t2.started_at <= t1.install_at + INTERVAL '60 minutes' THEN t2.started_at ELSE NULL END) quest_cnt,\n",
    "        SUM(DISTINCT CASE WHEN t3.created_at IS NOT NULL THEN 1 ELSE 0 END) target\n",
    "    FROM\n",
    "        users t1\n",
    "    LEFT JOIN\n",
    "        quests t2\n",
    "    ON\n",
    "        t1.user_id = t2.user_id\n",
    "    LEFT JOIN\n",
    "        purchase t3\n",
    "    ON\n",
    "        t1.user_id = t3.user_id\n",
    "    GROUP BY 1\n",
    "      ''')\n",
    "data3 = pd.read_sql(sql3,connector)"
   ]
  },
  {
   "cell_type": "code",
   "execution_count": null,
   "metadata": {
    "collapsed": true
   },
   "outputs": [],
   "source": [
    "data3.head()\n",
    "#data2.describe()"
   ]
  },
  {
   "cell_type": "code",
   "execution_count": null,
   "metadata": {
    "collapsed": true
   },
   "outputs": [],
   "source": [
    "X3 = data3.iloc[:,[1]].copy()\n",
    "y3 = data3.iloc[:,[2]].copy()\n",
    "X_train3, X_test3, y_train3, y_test3 = train_test_split(X3, y3, test_size=0.20, random_state=0)\n",
    "pipe_logistic = Pipeline([('scl', StandardScaler()), ('est',LogisticRegression())])\n",
    "pipe_logistic.fit(X_train3,y_train3.as_matrix().ravel())"
   ]
  },
  {
   "cell_type": "code",
   "execution_count": null,
   "metadata": {
    "collapsed": true
   },
   "outputs": [],
   "source": [
    "#精度の評価\n",
    "print('Logistic_Train: %.3f' % accuracy_score(y_train3, pipe_logistic.predict(X_train3)))\n",
    "print('Logistic_Test: %.3f' % accuracy_score(y_test3, pipe_logistic.predict(X_test3)))"
   ]
  }
 ],
 "metadata": {
  "kernelspec": {
   "display_name": "Python 3",
   "language": "python",
   "name": "python3"
  },
  "language_info": {
   "codemirror_mode": {
    "name": "ipython",
    "version": 3
   },
   "file_extension": ".py",
   "mimetype": "text/x-python",
   "name": "python",
   "nbconvert_exporter": "python",
   "pygments_lexer": "ipython3",
   "version": "3.6.1"
  }
 },
 "nbformat": 4,
 "nbformat_minor": 2
}
