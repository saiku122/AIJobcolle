{
 "cells": [
  {
   "cell_type": "markdown",
   "metadata": {},
   "source": [
    "# 機械学習入門_AIプロジェクト演習"
   ]
  },
  {
   "cell_type": "markdown",
   "metadata": {},
   "source": [
    "## 前提（作業環境）"
   ]
  },
  {
   "cell_type": "markdown",
   "metadata": {},
   "source": [
    "データベースはPostgres10、機械学習環境はAnaconda Python3系にて事前の環境構築をお願いします。<br>\n",
    "DB環境は使い慣れたものがあれば代替していただいても構いませんが、回答コード例は当該環境用のもののみの準備となります。\n",
    "- Python3系のAnaconda\n",
    "- Postgres10（pgAdmin4を使用）"
   ]
  },
  {
   "cell_type": "markdown",
   "metadata": {},
   "source": [
    "## 1. データの取り込みと集計用VIEWの作成"
   ]
  },
  {
   "cell_type": "markdown",
   "metadata": {},
   "source": [
    "<b>[事前演習1.1]</b><br>クライアントからe-commerceの購買取引データを受領し、優良顧客リテンションのための予測モデル構築のフィージビリティ検証を行うことになった。「input」フォルダ内の「ec_trans.csv」データを、作業用に準備したデータベースへテーブル名「raw_ec_trans」で取り込み、データ件数を確認せよ。ただし、クライアントはテーブル定義書を有していないとのことで、データ型は一旦全てvarchar(50)として取り込むものとする。カラム構成と名称はCSVファイルの1行目で確認できる。"
   ]
  },
  {
   "cell_type": "raw",
   "metadata": {},
   "source": [
    "--# make table to load raw data\n",
    "create table raw_ec_trans\n",
    "(\n",
    "\tInvoiceNo varchar(50),\n",
    "\tStockCode varchar(50),\n",
    "\tDescription varchar(50),\n",
    "\tQuantity varchar(50),\n",
    "\tInvoiceDate varchar(50),\n",
    "\tUnitPrice varchar(50),\n",
    "\tCustomerID varchar(50),\n",
    "\tCountry varchar(50)\n",
    ");\n",
    "\n",
    "--# import raw data\n",
    "copy raw_ec_trans from 'C:\\work\\data\\ec_trans.csv' with CSV HEADER QUOTE '\"';\n",
    "\n",
    "--# check count\n",
    "select count(*) from raw_ec_trans\n",
    "--541909"
   ]
  },
  {
   "cell_type": "markdown",
   "metadata": {},
   "source": [
    "<b>[事前演習1.2]</b><br>データの中身を確認しクライアントに問い合わせたところ、以下の回答を得た。\n",
    "- StockCodeの小文字と大文字の違いに意味はない\n",
    "- StockCode5桁目までで1つの商品類型を表し6桁目以降は色やサイズ違いを表している\n",
    "- InvoiceDateの日付は\"MM/DD/YYYY\"で並んでいる"
   ]
  },
  {
   "cell_type": "markdown",
   "metadata": {},
   "source": [
    "上記を踏まえ、以下を満たす「v_ec_trans」という名称のViewを作成せよ。\n",
    "- 生データのStockCodeをStockCode_orgと名称変更する\n",
    "- 生データのStockCodeを全て大文字に変換したカラムを作成し、名称をStockCodeとする\n",
    "- 大文字変換されたStockCodeの左5桁を、StockCode2というカラムとする\n",
    "- カラムQuantityとUnitPriceのデータ型を、float型に変換する\n",
    "- Invoicedateのデータをタイムスタンプに変換する"
   ]
  },
  {
   "cell_type": "raw",
   "metadata": {},
   "source": [
    "--# change data type\n",
    "drop view if exists v_ec_trans;\n",
    "create view v_ec_trans as\n",
    "select\n",
    "\tInvoiceNo,\n",
    "\tStockCode as StockCode_org,\n",
    "\tUPPER(StockCode) as StockCode,\n",
    "\tLEFT(UPPER(StockCode),5) as StockCode2,\n",
    "\tDescription,\n",
    "\tcast(Quantity as float) as Quantity,\n",
    "\tto_timestamp(InvoiceDate, 'MM/DD/YYYY HH24:MI') as InvoiceDate,\n",
    "\tcast(UnitPrice as float) as UnitPrice,\n",
    "\tCustomerID,\n",
    "\tCountry\n",
    "from\n",
    "\traw_ec_trans\n",
    ";\n",
    "\n",
    "--# check transformation\n",
    "select * from v_ec_trans;"
   ]
  },
  {
   "cell_type": "markdown",
   "metadata": {},
   "source": [
    "<b>[事前演習1.3]</b><br>受領したデータの取引期間（InvocieDateの最小値と最大値）を確認せよ。"
   ]
  },
  {
   "cell_type": "raw",
   "metadata": {},
   "source": [
    "select min(InvoiceDate), max(InvoiceDate)\n",
    "from v_ec_trans;\n",
    "--\"2010-12-01 08:26:00+09\", \"2011-12-09 12:50:00+09\""
   ]
  },
  {
   "cell_type": "markdown",
   "metadata": {},
   "source": [
    "## 2. データ確認とクレンジング（目安時間：20分）"
   ]
  },
  {
   "cell_type": "markdown",
   "metadata": {},
   "source": [
    "<b>[演習2.1]</b><br>CustomerIDが非NULLのデータを対象に、データ件数、CustomerIDのユニーク件数、InvoiceNoのユニーク件数を確認せよ。"
   ]
  },
  {
   "cell_type": "markdown",
   "metadata": {},
   "source": [
    "<b>[演習2.2]</b><br>CustomerIDが非NULLのデータを対象に、購買数量（Quantity）と単価（UnitPrice）の最小値・平均値・最大値を確認せよ。"
   ]
  },
  {
   "cell_type": "markdown",
   "metadata": {},
   "source": [
    "<b>[演習2.3]</b><br>\n",
    "購買数量（Quantity）が負となるケースは注文のキャンセルで生じることがわかった。<br>\n",
    "キャンセルはInvocieNoが\"C\"で始まるという。<br>\n",
    "CustomerIDが非Nullのデータを対象に、以下2つのケースについて数値確認せよ。\n",
    "1. InvoiceNoが\"C\"始まりのときの、Qunatityの最小値・平均値・最大値\n",
    "1. InvoiceNoが\"C\"始まりでないときの、Qunatityの最小値・平均値・最大値"
   ]
  },
  {
   "cell_type": "markdown",
   "metadata": {},
   "source": [
    "<b>[確認しよう]</b><br>上記結果を踏まえ、「output」フォルダにある「AIジョブカレ_機械学習入門_初回報告書サンプル.pptx」の「1ページ」を確認しよう。<br>\n",
    "※データを観察すること、マクロ数値を把握すること、データに関する早期の質問の大切さを意識しよう。"
   ]
  },
  {
   "cell_type": "markdown",
   "metadata": {},
   "source": [
    "## 3. 予測用データマート設計に関する集計（目安時間：30分）"
   ]
  },
  {
   "cell_type": "markdown",
   "metadata": {},
   "source": [
    "<b>[演習3.1]</b><br>\n",
    "以下条件の集計クエリを作成しよう。\n",
    "- クライアントによると現在、半年間における購買回数(InvoiceNoのユニーク数)が4回以上か未満かで、顧客ランクを管理しているという。\n",
    "- 2011年1月から6月末までの半年間のデータを対象に、顧客ランク別に、顧客数、購買金額(Quantity*Unitprice)、購買回数を集計せよ。\n",
    "- ただし、CustomerIDが非NULL、UnitPriceが正のデータを対象に行うこと。"
   ]
  },
  {
   "cell_type": "markdown",
   "metadata": {},
   "source": [
    "<b>[確認しよう]</b><br>\n",
    "上記集計結果と以下の内容を確認しよう。\n",
    "- 「output」フォルダにある「作業用」エクセルファイルの「優良」シートの内容\n",
    "- 「AIジョブカレ_機械学習入門_初回報告書サンプル.pptx」の「2ページ」"
   ]
  },
  {
   "cell_type": "markdown",
   "metadata": {},
   "source": [
    "<b>[演習3.2]</b><br>\n",
    "以下条件の集計クエリを作成しよう。\n",
    "- 2010年12月1日～2011年5月末日の6か月間における優良顧客（購買回数4回以上の顧客）のうち、\n",
    "- 2011年6月1日～2011年8月末日までの3ヵ月間に購買が1回以上ある人数（リピート人数）を集計せよ。\n",
    "- 同様に、全顧客（購買回数1回以上）についてもリピート人数を集計せよ。\n",
    "- ただし、集計はCustomerIDが非NULL、UnitPriceが正のデータを対象に行うこと。"
   ]
  },
  {
   "cell_type": "markdown",
   "metadata": {},
   "source": [
    "<b>[確認しよう]</b><br>\n",
    "上記集計結果と以下内容を確認し、離反率をスナップショットではなくトレンドで把握しよう。\n",
    "- 作業用エクセルの「トレンド」シートの内容\n",
    "- 「AIジョブカレ_機械学習入門_初回報告書サンプル.pptx」の「3ページ」\n",
    "- 注意：課題設定上、離反トレンドの明確な上昇や、離反率が何かしらの基準（業界平均など）より高い証拠を本来示したいが、本演習では妥協した。"
   ]
  },
  {
   "cell_type": "markdown",
   "metadata": {},
   "source": [
    "<b>[確認しよう]</b><br>\n",
    "作業用エクセルのシート「カテゴリ別」の内容から、購買回数（trips）の多い「人気カテゴリ」を確認しよう。<br>\n",
    "人気カテゴリは特徴量設計に活用する。"
   ]
  },
  {
   "cell_type": "markdown",
   "metadata": {},
   "source": [
    "## 4.データマートの作成と予測モデルの構築評価（目安時間：45分）"
   ]
  },
  {
   "cell_type": "markdown",
   "metadata": {},
   "source": [
    "<b>[演習4.1]</b><br>以下を確認し、モデル用データマート作成用のクエリを完成させ、CSVファイルで出力せよ。\n",
    "- 「作業用」エクセルのシート「設計」で、各データマートの特徴量計算期間、正解ラベルの定義期間を確認せよ。\n",
    "- 「作業用」エクセルのシート「特徴量」で、特徴量定義を確認せよ。\n",
    "- CSVの最初の列をCustomerID、最終の列を正解ラベルとして出力せよ。"
   ]
  },
  {
   "cell_type": "markdown",
   "metadata": {},
   "source": [
    "<b>[演習4.2]</b><br>\n",
    "フォルダ「\\work\\python」内にある「classifier.py」を完成させよ。<br>\n",
    "(対応箇所は計7箇所あります。\"[-------]\"の箇所を変更して下さい)。"
   ]
  },
  {
   "cell_type": "markdown",
   "metadata": {},
   "source": [
    "<b>[確認しよう]</b><br>\n",
    "- 上記`classifier.py`の実行結果（K-Fold法によるモデル評価結果）と、「作業用」エクセルの「モデル管理」シートの値を確認せよ。\n",
    "- 「AIジョブカレ_機械学習入門_初回報告書サンプル.pptx」の「8ページ」を確認せよ。"
   ]
  },
  {
   "cell_type": "markdown",
   "metadata": {},
   "source": [
    "## 5. フォーワード検証（目安時間：15分）"
   ]
  },
  {
   "cell_type": "markdown",
   "metadata": {
    "collapsed": true
   },
   "source": [
    "<b>[演習5]</b><br>演習4.2で、最もパフォーマンスの高かったモデルによって出力された予測スコアデータ(「_with_pred」で終わるCSVファイル)をDBに取り込み、スコアを降順に10分割し、当該ランクごとに以下を出力する集計クエリを完成させよ。\n",
    "- スコアランク\n",
    "- 予測スコアの最小値\n",
    "- 予測スコアの平均値\n",
    "- 予測スコアの最大値\n",
    "- レコード数[A]\n",
    "- ターゲット（正例）数[B]\n",
    "- ターゲット（正例）含有率（[B]/[A])"
   ]
  },
  {
   "cell_type": "markdown",
   "metadata": {},
   "source": [
    "<b>[確認しよう]</b><br>\n",
    "- 上記集計結果と、作業用エクセルのシート「FWD検証」の内容を確認しよう。\n",
    "- 「AIジョブカレ_機械学習入門_初回報告書サンプル.pptx」の「11ページ」を確認しよう。\n",
    "- [注意1]上位ランクほどTGT含有率平均からのアップリスト(%)が高いことを期待されていることを意識しよう。\n",
    "- [注意2]どの程度アップリフトがあればビジネス上有用かを指摘するのもデータサイエンティストの役割と認識しよう。"
   ]
  }
 ],
 "metadata": {
  "kernelspec": {
   "display_name": "Python 3",
   "language": "python",
   "name": "python3"
  },
  "language_info": {
   "codemirror_mode": {
    "name": "ipython",
    "version": 3
   },
   "file_extension": ".py",
   "mimetype": "text/x-python",
   "name": "python",
   "nbconvert_exporter": "python",
   "pygments_lexer": "ipython3",
   "version": "3.6.5"
  }
 },
 "nbformat": 4,
 "nbformat_minor": 2
}
