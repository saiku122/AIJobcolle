{
  "nbformat": 4,
  "nbformat_minor": 0,
  "metadata": {
    "colab": {
      "name": "classifier.ipynb",
      "provenance": [],
      "authorship_tag": "ABX9TyPnFt1PIbt4LBIUp5hJRWg3",
      "include_colab_link": true
    },
    "kernelspec": {
      "name": "python3",
      "display_name": "Python 3"
    },
    "language_info": {
      "name": "python"
    }
  },
  "cells": [
    {
      "cell_type": "markdown",
      "metadata": {
        "id": "view-in-github",
        "colab_type": "text"
      },
      "source": [
        "<a href=\"https://colab.research.google.com/github/saiku122/AIJobcolle/blob/master/MachineLearning/python/exercise/02_work/classifier.ipynb\" target=\"_parent\"><img src=\"https://colab.research.google.com/assets/colab-badge.svg\" alt=\"Open In Colab\"/></a>"
      ]
    },
    {
      "cell_type": "code",
      "metadata": {
        "id": "0cfPZPClsFQH",
        "outputId": "0ec5d325-c799-4325-ad4b-b8af4d9db56d",
        "colab": {
          "base_uri": "https://localhost:8080/"
        }
      },
      "source": [
        "!git clone https://github.com/saiku122/AIJobcolle.git"
      ],
      "execution_count": 2,
      "outputs": [
        {
          "output_type": "stream",
          "text": [
            "fatal: destination path 'AIJobcolle' already exists and is not an empty directory.\n"
          ],
          "name": "stdout"
        }
      ]
    },
    {
      "cell_type": "code",
      "metadata": {
        "id": "sOtb-kUXtaRX",
        "outputId": "032c25c2-826a-4aec-ff13-2c20ffb5bb2c",
        "colab": {
          "base_uri": "https://localhost:8080/"
        }
      },
      "source": [
        "cd /content/AIJobcolle/MachineLearning/python"
      ],
      "execution_count": 3,
      "outputs": [
        {
          "output_type": "stream",
          "text": [
            "/content/AIJobcolle/MachineLearning/python\n"
          ],
          "name": "stdout"
        }
      ]
    },
    {
      "cell_type": "code",
      "metadata": {
        "id": "98JvXIZzt6Tk",
        "outputId": "b10b176a-ac4e-4ce5-e47f-d71a6c5cb38e",
        "colab": {
          "base_uri": "https://localhost:8080/"
        }
      },
      "source": [
        "cd ./exercise/02_work/"
      ],
      "execution_count": 5,
      "outputs": [
        {
          "output_type": "stream",
          "text": [
            "/content/AIJobcolle/MachineLearning/python/exercise/02_work\n"
          ],
          "name": "stdout"
        }
      ]
    },
    {
      "cell_type": "code",
      "metadata": {
        "id": "10YVBGGktgQg",
        "outputId": "7eb13f15-f398-4cf9-c33f-51ac43a0a813",
        "colab": {
          "base_uri": "https://localhost:8080/",
          "height": 398
        }
      },
      "source": [
        "# -*- coding: utf-8 -*-\n",
        "import pandas as pd\n",
        "import numpy as np\n",
        "from sklearn.preprocessing import StandardScaler\n",
        "from sklearn.impute import SimpleImputer\n",
        "from sklearn.feature_selection import RFECV\n",
        "from sklearn.model_selection import cross_val_score\n",
        "from sklearn.linear_model import LogisticRegression\n",
        "from sklearn.ensemble import GradientBoostingClassifier, RandomForestClassifier\n",
        "from sklearn.pipeline import Pipeline\n",
        "from sklearn.metrics import confusion_matrix\n",
        "from sklearn.externals import joblib\n",
        "\n",
        "def main():\n",
        "  # data load\n",
        "  df = pd.read_csv('./data/'+ file_model + '.csv', header=0)\n",
        "  ID = df.iloc[:,0] \n",
        "  y = df.iloc[:,-1]\n",
        "  X = df.iloc[:,1:-1]\n",
        "\n",
        "  # preprocessing-1: one-hot encoding\n",
        "  X_ohe = pd.get_dummies(X, dummy_na=True, columns=ohe_cols)\n",
        "  X_ohe = X_ohe.dropna(axis=1, how='all')\n",
        "  X_ohe_columns = X_ohe.columns.values\n",
        "\n",
        "  # preprocessing-2: null imputation\n",
        "  imp = SimpleImputer()\n",
        "  imp.fit(X_ohe)\n",
        "  X_ohe = pd.DataFrame(imp.transform(X_ohe), columns=X_ohe_columns)\n",
        "  print(X_ohe.shape)\n",
        "\n",
        "  # preprocessing-3: feature selection\n",
        "  selector = RFECV(estimator=RandomForestClassifier(n_estimators=100,random_state=0), step=0.05)\n",
        "  selector.fit(X_ohe, y)\n",
        "  X_ohe_selected = selector.transform(X_ohe)\n",
        "  X_ohe_selected = pd.DataFrame(X_ohe_selected, columns=X_ohe_columns[selector.support_])\n",
        "  print(X_ohe_selected.shape)\n",
        "  X_ohe_selected.head()\n",
        "\n",
        "  # preprocessing-4: preprocessing of a score data along with a model dataset\n",
        "  if len(file_score)>0:\n",
        "      # load score data\n",
        "      dfs = pd.read_csv('./data/'+ file_score + '.csv', header=0)\n",
        "      IDs = dfs.iloc[:,[0]] \n",
        "      Xs = dfs.iloc[:,1:-1]\n",
        "      Xs_ohe = pd.get_dummies(Xs, dummy_na=True, columns=ohe_cols)\n",
        "      cols_m = pd.DataFrame(None, columns=X_ohe_columns, dtype=float)\n",
        "\n",
        "      # consistent with columns set\n",
        "      Xs_exp = pd.concat([cols_m, Xs_ohe])\n",
        "      Xs_exp.loc[:,list(set(X_ohe_columns)-set(Xs_ohe.columns.values))] = \\\n",
        "          Xs_exp.loc[:,list(set(X_ohe_columns)-set(Xs_ohe.columns.values))].fillna(0, axis=1)\n",
        "      Xs_exp = Xs_exp.drop(list(set(Xs_ohe.columns.values)-set(X_ohe_columns)), axis=1)\n",
        "\n",
        "      # re-order the score data columns\n",
        "      Xs_exp = Xs_exp.reindex_axis(X_ohe_columns, axis=1)\n",
        "      Xs_exp = pd.DataFrame(imp.transform(Xs_exp), columns=X_ohe_columns)\n",
        "      Xs_exp_selected = Xs_exp.loc[:, X_ohe_columns[selector.support_]]\n",
        "\n",
        "  # modeling\n",
        "  clf.fit(X_ohe_selected, y.as_matrix().ravel())\n",
        "  joblib.dump(clf, './model/'+ model_name + '.pkl')\n",
        "  results = cross_val_score(clf, X_ohe_selected, y, scoring='roc_auc', cv=5)\n",
        "  print('cv score:', np.average(results), '+-', np.std(results))\n",
        "\n",
        "  # scoring\n",
        "  if len(file_score)>0:\n",
        "      score = pd.DataFrame(clf.predict_proba(Xs_exp_selected)[:,1], columns=['pred_score'])\n",
        "      IDs.join(score).to_csv('./data/'+  model_name + '_' + file_score + '_with_pred.csv', index=False)\n",
        "\n",
        "  # model profile\n",
        "  imp = pd.DataFrame([clf.named_steps['est'].feature_importances_], columns=X_ohe_columns[selector.support_])\n",
        "  imp.T.to_csv('./data/'+  model_name + '_feature_importances.csv', index=True)\n",
        "\n",
        "if __name__ == '__main__':\n",
        "\n",
        "  # SET PARAMETERS\n",
        "  file_model = 'dm_for_model'\n",
        "  file_score = 'dm_for_fwd'\n",
        "  ohe_cols = ['mode_category']\n",
        "\n",
        "  # CLASSIFIER\n",
        "  model_name = 'GBC_001'\n",
        "  clf = Pipeline([('scl',StandardScaler()),('est',GradientBoostingClassifier(random_state=1))])\n",
        "\n",
        "  # お手数ですがコメントを外して別途実行下さい\n",
        "  # model_name = 'RF_001'\n",
        "  # clf = Pipeline([('scl',StandardScaler()), ('est',RandomForestClassifier(random_state=1))])\n",
        "\n",
        "  # MAIN PROC\n",
        "  main()\n"
      ],
      "execution_count": 9,
      "outputs": [
        {
          "output_type": "stream",
          "text": [
            "(717, 334)\n",
            "(717, 318)\n"
          ],
          "name": "stdout"
        },
        {
          "output_type": "error",
          "ename": "AttributeError",
          "evalue": "ignored",
          "traceback": [
            "\u001b[0;31m---------------------------------------------------------------------------\u001b[0m",
            "\u001b[0;31mAttributeError\u001b[0m                            Traceback (most recent call last)",
            "\u001b[0;32m<ipython-input-9-27258321018a>\u001b[0m in \u001b[0;36m<module>\u001b[0;34m()\u001b[0m\n\u001b[1;32m     88\u001b[0m \u001b[0;34m\u001b[0m\u001b[0m\n\u001b[1;32m     89\u001b[0m   \u001b[0;31m# MAIN PROC\u001b[0m\u001b[0;34m\u001b[0m\u001b[0;34m\u001b[0m\u001b[0;34m\u001b[0m\u001b[0m\n\u001b[0;32m---> 90\u001b[0;31m   \u001b[0mmain\u001b[0m\u001b[0;34m(\u001b[0m\u001b[0;34m)\u001b[0m\u001b[0;34m\u001b[0m\u001b[0;34m\u001b[0m\u001b[0m\n\u001b[0m",
            "\u001b[0;32m<ipython-input-9-27258321018a>\u001b[0m in \u001b[0;36mmain\u001b[0;34m()\u001b[0m\n\u001b[1;32m     53\u001b[0m \u001b[0;34m\u001b[0m\u001b[0m\n\u001b[1;32m     54\u001b[0m       \u001b[0;31m# re-order the score data columns\u001b[0m\u001b[0;34m\u001b[0m\u001b[0;34m\u001b[0m\u001b[0;34m\u001b[0m\u001b[0m\n\u001b[0;32m---> 55\u001b[0;31m       \u001b[0mXs_exp\u001b[0m \u001b[0;34m=\u001b[0m \u001b[0mXs_exp\u001b[0m\u001b[0;34m.\u001b[0m\u001b[0mreindex_axis\u001b[0m\u001b[0;34m(\u001b[0m\u001b[0mX_ohe_columns\u001b[0m\u001b[0;34m,\u001b[0m \u001b[0maxis\u001b[0m\u001b[0;34m=\u001b[0m\u001b[0;36m1\u001b[0m\u001b[0;34m)\u001b[0m\u001b[0;34m\u001b[0m\u001b[0;34m\u001b[0m\u001b[0m\n\u001b[0m\u001b[1;32m     56\u001b[0m       \u001b[0mXs_exp\u001b[0m \u001b[0;34m=\u001b[0m \u001b[0mpd\u001b[0m\u001b[0;34m.\u001b[0m\u001b[0mDataFrame\u001b[0m\u001b[0;34m(\u001b[0m\u001b[0mimp\u001b[0m\u001b[0;34m.\u001b[0m\u001b[0mtransform\u001b[0m\u001b[0;34m(\u001b[0m\u001b[0mXs_exp\u001b[0m\u001b[0;34m)\u001b[0m\u001b[0;34m,\u001b[0m \u001b[0mcolumns\u001b[0m\u001b[0;34m=\u001b[0m\u001b[0mX_ohe_columns\u001b[0m\u001b[0;34m)\u001b[0m\u001b[0;34m\u001b[0m\u001b[0;34m\u001b[0m\u001b[0m\n\u001b[1;32m     57\u001b[0m       \u001b[0mXs_exp_selected\u001b[0m \u001b[0;34m=\u001b[0m \u001b[0mXs_exp\u001b[0m\u001b[0;34m.\u001b[0m\u001b[0mloc\u001b[0m\u001b[0;34m[\u001b[0m\u001b[0;34m:\u001b[0m\u001b[0;34m,\u001b[0m \u001b[0mX_ohe_columns\u001b[0m\u001b[0;34m[\u001b[0m\u001b[0mselector\u001b[0m\u001b[0;34m.\u001b[0m\u001b[0msupport_\u001b[0m\u001b[0;34m]\u001b[0m\u001b[0;34m]\u001b[0m\u001b[0;34m\u001b[0m\u001b[0;34m\u001b[0m\u001b[0m\n",
            "\u001b[0;32m/usr/local/lib/python3.7/dist-packages/pandas/core/generic.py\u001b[0m in \u001b[0;36m__getattr__\u001b[0;34m(self, name)\u001b[0m\n\u001b[1;32m   5139\u001b[0m             \u001b[0;32mif\u001b[0m \u001b[0mself\u001b[0m\u001b[0;34m.\u001b[0m\u001b[0m_info_axis\u001b[0m\u001b[0;34m.\u001b[0m\u001b[0m_can_hold_identifiers_and_holds_name\u001b[0m\u001b[0;34m(\u001b[0m\u001b[0mname\u001b[0m\u001b[0;34m)\u001b[0m\u001b[0;34m:\u001b[0m\u001b[0;34m\u001b[0m\u001b[0;34m\u001b[0m\u001b[0m\n\u001b[1;32m   5140\u001b[0m                 \u001b[0;32mreturn\u001b[0m \u001b[0mself\u001b[0m\u001b[0;34m[\u001b[0m\u001b[0mname\u001b[0m\u001b[0;34m]\u001b[0m\u001b[0;34m\u001b[0m\u001b[0;34m\u001b[0m\u001b[0m\n\u001b[0;32m-> 5141\u001b[0;31m             \u001b[0;32mreturn\u001b[0m \u001b[0mobject\u001b[0m\u001b[0;34m.\u001b[0m\u001b[0m__getattribute__\u001b[0m\u001b[0;34m(\u001b[0m\u001b[0mself\u001b[0m\u001b[0;34m,\u001b[0m \u001b[0mname\u001b[0m\u001b[0;34m)\u001b[0m\u001b[0;34m\u001b[0m\u001b[0;34m\u001b[0m\u001b[0m\n\u001b[0m\u001b[1;32m   5142\u001b[0m \u001b[0;34m\u001b[0m\u001b[0m\n\u001b[1;32m   5143\u001b[0m     \u001b[0;32mdef\u001b[0m \u001b[0m__setattr__\u001b[0m\u001b[0;34m(\u001b[0m\u001b[0mself\u001b[0m\u001b[0;34m,\u001b[0m \u001b[0mname\u001b[0m\u001b[0;34m:\u001b[0m \u001b[0mstr\u001b[0m\u001b[0;34m,\u001b[0m \u001b[0mvalue\u001b[0m\u001b[0;34m)\u001b[0m \u001b[0;34m->\u001b[0m \u001b[0;32mNone\u001b[0m\u001b[0;34m:\u001b[0m\u001b[0;34m\u001b[0m\u001b[0;34m\u001b[0m\u001b[0m\n",
            "\u001b[0;31mAttributeError\u001b[0m: 'DataFrame' object has no attribute 'reindex_axis'"
          ]
        }
      ]
    }
  ]
}