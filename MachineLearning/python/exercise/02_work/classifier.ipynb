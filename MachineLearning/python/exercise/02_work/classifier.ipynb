{
  "nbformat": 4,
  "nbformat_minor": 0,
  "metadata": {
    "colab": {
      "name": "classifier.ipynb",
      "provenance": [],
      "authorship_tag": "ABX9TyM/z1oaqMnYat8WRnvNKKgw",
      "include_colab_link": true
    },
    "kernelspec": {
      "name": "python3",
      "display_name": "Python 3"
    },
    "language_info": {
      "name": "python"
    }
  },
  "cells": [
    {
      "cell_type": "markdown",
      "metadata": {
        "id": "view-in-github",
        "colab_type": "text"
      },
      "source": [
        "<a href=\"https://colab.research.google.com/github/saiku122/AIJobcolle/blob/master/MachineLearning/python/exercise/02_work/classifier.ipynb\" target=\"_parent\"><img src=\"https://colab.research.google.com/assets/colab-badge.svg\" alt=\"Open In Colab\"/></a>"
      ]
    },
    {
      "cell_type": "code",
      "metadata": {
        "id": "0cfPZPClsFQH",
        "colab": {
          "base_uri": "https://localhost:8080/"
        },
        "outputId": "ec6249d9-dfde-43c1-c751-8d8e1c6569b5"
      },
      "source": [
        "!git clone https://github.com/saiku122/AIJobcolle.git"
      ],
      "execution_count": 1,
      "outputs": [
        {
          "output_type": "stream",
          "text": [
            "Cloning into 'AIJobcolle'...\n",
            "remote: Enumerating objects: 272, done.\u001b[K\n",
            "remote: Counting objects: 100% (272/272), done.\u001b[K\n",
            "remote: Compressing objects: 100% (181/181), done.\u001b[K\n",
            "remote: Total 272 (delta 103), reused 155 (delta 46), pack-reused 0\u001b[K\n",
            "Receiving objects: 100% (272/272), 11.70 MiB | 16.66 MiB/s, done.\n",
            "Resolving deltas: 100% (103/103), done.\n"
          ],
          "name": "stdout"
        }
      ]
    },
    {
      "cell_type": "code",
      "metadata": {
        "id": "sOtb-kUXtaRX",
        "colab": {
          "base_uri": "https://localhost:8080/"
        },
        "outputId": "9f2925ea-469f-4285-f8e3-dc5a9d644cb5"
      },
      "source": [
        "cd /content/AIJobcolle/MachineLearning/python"
      ],
      "execution_count": 5,
      "outputs": [
        {
          "output_type": "stream",
          "text": [
            "/content/AIJobcolle/MachineLearning/python\n"
          ],
          "name": "stdout"
        }
      ]
    },
    {
      "cell_type": "code",
      "metadata": {
        "id": "98JvXIZzt6Tk",
        "colab": {
          "base_uri": "https://localhost:8080/"
        },
        "outputId": "fb74691e-1033-4b12-c442-d119e8f5de6f"
      },
      "source": [
        "cd ./exercise"
      ],
      "execution_count": 6,
      "outputs": [
        {
          "output_type": "stream",
          "text": [
            "/content/AIJobcolle/MachineLearning/python/exercise\n"
          ],
          "name": "stdout"
        }
      ]
    },
    {
      "cell_type": "code",
      "metadata": {
        "id": "vmOUSPfA9I1l",
        "outputId": "68a31fd3-cd93-4f7d-dbf7-0689ae496ee2",
        "colab": {
          "base_uri": "https://localhost:8080/"
        }
      },
      "source": [
        "cd ./02_work/"
      ],
      "execution_count": 7,
      "outputs": [
        {
          "output_type": "stream",
          "text": [
            "/content/AIJobcolle/MachineLearning/python/exercise/02_work\n"
          ],
          "name": "stdout"
        }
      ]
    },
    {
      "cell_type": "code",
      "metadata": {
        "id": "NC-DS92V9TUW",
        "outputId": "952ee813-c85e-4630-ba60-a0c6bcd2ff74",
        "colab": {
          "base_uri": "https://localhost:8080/",
          "height": 35
        }
      },
      "source": [
        "pwd"
      ],
      "execution_count": 16,
      "outputs": [
        {
          "output_type": "execute_result",
          "data": {
            "application/vnd.google.colaboratory.intrinsic+json": {
              "type": "string"
            },
            "text/plain": [
              "'/content/AIJobcolle/MachineLearning/python/exercise/02_work'"
            ]
          },
          "metadata": {
            "tags": []
          },
          "execution_count": 16
        }
      ]
    },
    {
      "cell_type": "code",
      "metadata": {
        "id": "IEQk3TC89nrz"
      },
      "source": [
        "#ライブラリインポート\n",
        "import pandas as pd\n",
        "import numpy as np\n",
        "from sklearn.preprocessing import StandardScaler\n",
        "from sklearn.impute import SimpleImputer\n",
        "from sklearn.feature_selection import RFECV\n",
        "from sklearn.model_selection import cross_val_score\n",
        "from sklearn.linear_model import LogisticRegression\n",
        "from sklearn.ensemble import GradientBoostingClassifier, RandomForestClassifier\n",
        "from sklearn.pipeline import Pipeline\n",
        "from sklearn.metrics import confusion_matrix\n",
        "import joblib"
      ],
      "execution_count": 13,
      "outputs": []
    },
    {
      "cell_type": "markdown",
      "metadata": {
        "id": "58YjZq5qAq48"
      },
      "source": [
        "**①データの前処理**"
      ]
    },
    {
      "cell_type": "code",
      "metadata": {
        "id": "cG42yyVr9WWa"
      },
      "source": [
        " # SET PARAMETERS\n",
        "file_model = 'dm_for_model'\n",
        "file_score = 'dm_for_fwd'\n",
        "ohe_cols = ['mode_category']\n",
        "\n",
        "# CLASSIFIER\n",
        "model_name = 'GBC_001'\n",
        "clf = Pipeline([('scl',StandardScaler()), ('est',GradientBoostingClassifier(random_state=1))])"
      ],
      "execution_count": 14,
      "outputs": []
    },
    {
      "cell_type": "code",
      "metadata": {
        "id": "10YVBGGktgQg"
      },
      "source": [
        "#データ取り込み\n",
        "df = pd.read_csv('./data/'+ file_model + '.csv', header=0)\n",
        "ID = df.iloc[:,0] \n",
        "y = df.iloc[:,-1]\n",
        "X = df.iloc[:,1:-1]"
      ],
      "execution_count": 23,
      "outputs": []
    },
    {
      "cell_type": "code",
      "metadata": {
        "id": "irL2VIJY859u"
      },
      "source": [
        "#  preprocessing-1:one-hot encoding処理\n",
        "X_ohe = pd.get_dummies(X, dummy_na=True, columns=ohe_cols) # mode_category列をダミー変数化（NAも列追加）\n",
        "X_ohe = X_ohe.dropna(axis=1, how='all')#すべての値が欠損値である行・列を削除\n",
        "X_ohe_columns = X_ohe.columns.values"
      ],
      "execution_count": 33,
      "outputs": []
    },
    {
      "cell_type": "code",
      "metadata": {
        "id": "mGK8PgpM-Wpx"
      },
      "source": [
        "###@@@変数チェック(処理関係なし）@@@\n",
        "X_ohe.columns.values"
      ],
      "execution_count": null,
      "outputs": []
    },
    {
      "cell_type": "code",
      "metadata": {
        "id": "rAQmSnVg-hbS"
      },
      "source": [
        "# preprocessing-2: 欠損値の置き換え ※一部naの列はのこっているため必要\n",
        "imp = SimpleImputer() #平均値で欠損地(Nan)を補完\n",
        "imp.fit(X_ohe)        #ワンホットエンコーディングの結果に対して欠損地置き換えした統計値を保存\n",
        "X_ohe = pd.DataFrame(imp.transform(X_ohe), columns=X_ohe_columns) #X_ohe_columに対して変換処実行"
      ],
      "execution_count": 45,
      "outputs": []
    },
    {
      "cell_type": "code",
      "metadata": {
        "id": "r1VRsUqMBSxB",
        "outputId": "d3374b41-34f4-4415-d7a5-c6cc161112ca",
        "colab": {
          "base_uri": "https://localhost:8080/",
          "height": 35
        }
      },
      "source": [
        "# preprocessing-3: 特徴量を抽出\n",
        "selector = RFECV(estimator=RandomForestClassifier(n_estimators=100,random_state=0), step=0.05) #特徴量をRFE(主成分分析)を用いて次元削減する。(モデルはランダムフォレスト)\n",
        "selector.fit(X_ohe, y) #RFEした結果を保存\n",
        "X_ohe_selected = selector.transform(X_ohe) #X_oheに反映\n",
        "X_ohe_selected = pd.DataFrame(X_ohe_selected, columns=X_ohe_columns[selector.support_]) #削減実行後のデータを再構成"
      ],
      "execution_count": 49,
      "outputs": [
        {
          "output_type": "display_data",
          "data": {
            "text/plain": [
              "(717, 318)"
            ]
          },
          "metadata": {
            "tags": []
          }
        }
      ]
    },
    {
      "cell_type": "code",
      "metadata": {
        "id": "-nVckwrhGdWn",
        "outputId": "27d32252-3555-48ea-c4d2-c3aea1a3a781",
        "colab": {
          "base_uri": "https://localhost:8080/",
          "height": 54
        }
      },
      "source": [
        "###@@@特徴量抽出前後のデータ量確認（処理には関係なし）@@@\n",
        "display(X_ohe.shape)\n",
        "display(X_ohe_selected.shape)"
      ],
      "execution_count": 50,
      "outputs": [
        {
          "output_type": "display_data",
          "data": {
            "text/plain": [
              "(717, 334)"
            ]
          },
          "metadata": {
            "tags": []
          }
        },
        {
          "output_type": "display_data",
          "data": {
            "text/plain": [
              "(717, 318)"
            ]
          },
          "metadata": {
            "tags": []
          }
        }
      ]
    },
    {
      "cell_type": "markdown",
      "metadata": {
        "id": "Oi6nMWj3H9OW"
      },
      "source": [
        "以降、テストデータは「X_ohe_selected」を用いる"
      ]
    },
    {
      "cell_type": "code",
      "metadata": {
        "id": "mzb-BS8dHcvy"
      },
      "source": [
        "# preprocessing-4: スコア評価用のデータをロード　※基本的には前段の焼き増し\n",
        "dfs = pd.read_csv('./data/'+ file_score + '.csv', header=0)\n",
        "IDs = dfs.iloc[:,[0]] \n",
        "Xs = dfs.iloc[:,1:-1]\n",
        "Xs_ohe = pd.get_dummies(Xs, dummy_na=True, columns=ohe_cols)\n",
        "cols_m = pd.DataFrame(None, columns=X_ohe_columns, dtype=float) #X_ohe_columnsで抽出された特徴量を抽出"
      ],
      "execution_count": 63,
      "outputs": []
    },
    {
      "cell_type": "code",
      "metadata": {
        "id": "HZVJcAc_IdWk"
      },
      "source": [
        "#テストデータと正解データのラベルを合わせる必要があるため本処理が存在。\n",
        "Xs_exp = pd.concat([cols_m, Xs_ohe])\n",
        "Xs_exp.loc[:,list(set(X_ohe_columns)-set(Xs_ohe.columns.values))] = \\\n",
        "    Xs_exp.loc[:,list(set(X_ohe_columns)-set(Xs_ohe.columns.values))].fillna(0, axis=1)\n",
        "Xs_exp = Xs_exp.drop(list(set(Xs_ohe.columns.values)-set(X_ohe_columns)), axis=1)"
      ],
      "execution_count": 64,
      "outputs": []
    },
    {
      "cell_type": "code",
      "metadata": {
        "id": "DX3q4F5sI5S0"
      },
      "source": [
        "Xs_exp = Xs_exp.reindex(X_ohe_columns, axis=1)\n",
        "Xs_exp = pd.DataFrame(imp.transform(Xs_exp), columns=X_ohe_columns)\n",
        "Xs_exp_selected = Xs_exp.loc[:, X_ohe_columns[selector.support_]] #再度RFEをやるのではなくテストデータの結果にあわせる"
      ],
      "execution_count": 61,
      "outputs": []
    },
    {
      "cell_type": "code",
      "metadata": {
        "id": "uYj_fHRyJFIr",
        "outputId": "a619315b-6161-420a-87b2-a47d367881b6",
        "colab": {
          "base_uri": "https://localhost:8080/",
          "height": 97
        }
      },
      "source": [
        "cols_m"
      ],
      "execution_count": 62,
      "outputs": [
        {
          "output_type": "execute_result",
          "data": {
            "text/html": [
              "<div>\n",
              "<style scoped>\n",
              "    .dataframe tbody tr th:only-of-type {\n",
              "        vertical-align: middle;\n",
              "    }\n",
              "\n",
              "    .dataframe tbody tr th {\n",
              "        vertical-align: top;\n",
              "    }\n",
              "\n",
              "    .dataframe thead th {\n",
              "        text-align: right;\n",
              "    }\n",
              "</style>\n",
              "<table border=\"1\" class=\"dataframe\">\n",
              "  <thead>\n",
              "    <tr style=\"text-align: right;\">\n",
              "      <th></th>\n",
              "      <th>trips</th>\n",
              "      <th>amount_of_yen</th>\n",
              "      <th>quantity</th>\n",
              "      <th>purchase_period</th>\n",
              "      <th>purchase_recency</th>\n",
              "      <th>purchase_amount_per_trips</th>\n",
              "      <th>regularity</th>\n",
              "      <th>trips_cancellation</th>\n",
              "      <th>trips_cat85099</th>\n",
              "      <th>trips_cat85123</th>\n",
              "      <th>trips_cat22423</th>\n",
              "      <th>trips_cat47566</th>\n",
              "      <th>trips_cat84879</th>\n",
              "      <th>trips_cat20725</th>\n",
              "      <th>trips_cat22720</th>\n",
              "      <th>trips_catpost</th>\n",
              "      <th>trips_cat23203</th>\n",
              "      <th>trips_cat22383</th>\n",
              "      <th>mode_category_15044</th>\n",
              "      <th>mode_category_15056</th>\n",
              "      <th>mode_category_20718</th>\n",
              "      <th>mode_category_20725</th>\n",
              "      <th>mode_category_20727</th>\n",
              "      <th>mode_category_20728</th>\n",
              "      <th>mode_category_20971</th>\n",
              "      <th>mode_category_21034</th>\n",
              "      <th>mode_category_21084</th>\n",
              "      <th>mode_category_21116</th>\n",
              "      <th>mode_category_21136</th>\n",
              "      <th>mode_category_21137</th>\n",
              "      <th>mode_category_21181</th>\n",
              "      <th>mode_category_21216</th>\n",
              "      <th>mode_category_21313</th>\n",
              "      <th>mode_category_21314</th>\n",
              "      <th>mode_category_21326</th>\n",
              "      <th>mode_category_21340</th>\n",
              "      <th>mode_category_21417</th>\n",
              "      <th>mode_category_21466</th>\n",
              "      <th>mode_category_21495</th>\n",
              "      <th>mode_category_21519</th>\n",
              "      <th>...</th>\n",
              "      <th>mode_category_85036</th>\n",
              "      <th>mode_category_85039</th>\n",
              "      <th>mode_category_85040</th>\n",
              "      <th>mode_category_85049</th>\n",
              "      <th>mode_category_85059</th>\n",
              "      <th>mode_category_85066</th>\n",
              "      <th>mode_category_85071</th>\n",
              "      <th>mode_category_85099</th>\n",
              "      <th>mode_category_85114</th>\n",
              "      <th>mode_category_85116</th>\n",
              "      <th>mode_category_85118</th>\n",
              "      <th>mode_category_85123</th>\n",
              "      <th>mode_category_85131</th>\n",
              "      <th>mode_category_85132</th>\n",
              "      <th>mode_category_85141</th>\n",
              "      <th>mode_category_85152</th>\n",
              "      <th>mode_category_85159</th>\n",
              "      <th>mode_category_85169</th>\n",
              "      <th>mode_category_85170</th>\n",
              "      <th>mode_category_85175</th>\n",
              "      <th>mode_category_85178</th>\n",
              "      <th>mode_category_85180</th>\n",
              "      <th>mode_category_85183</th>\n",
              "      <th>mode_category_85186</th>\n",
              "      <th>mode_category_85194</th>\n",
              "      <th>mode_category_85202</th>\n",
              "      <th>mode_category_85206</th>\n",
              "      <th>mode_category_85212</th>\n",
              "      <th>mode_category_85230</th>\n",
              "      <th>mode_category_85231</th>\n",
              "      <th>mode_category_85232</th>\n",
              "      <th>mode_category_90125</th>\n",
              "      <th>mode_category_90200</th>\n",
              "      <th>mode_category_90201</th>\n",
              "      <th>mode_category_90214</th>\n",
              "      <th>mode_category_C2</th>\n",
              "      <th>mode_category_D</th>\n",
              "      <th>mode_category_M</th>\n",
              "      <th>mode_category_POST</th>\n",
              "      <th>mode_category_nan</th>\n",
              "    </tr>\n",
              "  </thead>\n",
              "  <tbody>\n",
              "  </tbody>\n",
              "</table>\n",
              "<p>0 rows × 334 columns</p>\n",
              "</div>"
            ],
            "text/plain": [
              "Empty DataFrame\n",
              "Columns: [trips, amount_of_yen, quantity, purchase_period, purchase_recency, purchase_amount_per_trips, regularity, trips_cancellation, trips_cat85099, trips_cat85123, trips_cat22423, trips_cat47566, trips_cat84879, trips_cat20725, trips_cat22720, trips_catpost, trips_cat23203, trips_cat22383, mode_category_15044, mode_category_15056, mode_category_20718, mode_category_20725, mode_category_20727, mode_category_20728, mode_category_20971, mode_category_21034, mode_category_21084, mode_category_21116, mode_category_21136, mode_category_21137, mode_category_21181, mode_category_21216, mode_category_21313, mode_category_21314, mode_category_21326, mode_category_21340, mode_category_21417, mode_category_21466, mode_category_21495, mode_category_21519, mode_category_21520, mode_category_21531, mode_category_21534, mode_category_21609, mode_category_21622, mode_category_21626, mode_category_21669, mode_category_21700, mode_category_21703, mode_category_21731, mode_category_21745, mode_category_21754, mode_category_21781, mode_category_21843, mode_category_21868, mode_category_21871, mode_category_21890, mode_category_21908, mode_category_21915, mode_category_21916, mode_category_21932, mode_category_21936, mode_category_21937, mode_category_21955, mode_category_21975, mode_category_21977, mode_category_22030, mode_category_22037, mode_category_22041, mode_category_22059, mode_category_22064, mode_category_22083, mode_category_22084, mode_category_22087, mode_category_22090, mode_category_22109, mode_category_22139, mode_category_22148, mode_category_22149, mode_category_22156, mode_category_22168, mode_category_22169, mode_category_22171, mode_category_22178, mode_category_22181, mode_category_22189, mode_category_22191, mode_category_22192, mode_category_22193, mode_category_22197, mode_category_22207, mode_category_22261, mode_category_22301, mode_category_22303, mode_category_22326, mode_category_22367, mode_category_22371, mode_category_22381, mode_category_22382, mode_category_22383, ...]\n",
              "Index: []\n",
              "\n",
              "[0 rows x 334 columns]"
            ]
          },
          "metadata": {
            "tags": []
          },
          "execution_count": 62
        }
      ]
    },
    {
      "cell_type": "markdown",
      "metadata": {
        "id": "hKLaY17LOxzu"
      },
      "source": [
        "**②モデリング**  \n",
        "※最初にGBCを定義済み"
      ]
    },
    {
      "cell_type": "code",
      "metadata": {
        "id": "guMO5wgWJoLa",
        "outputId": "e6369f7a-21a3-4011-b427-14d023a11625",
        "colab": {
          "base_uri": "https://localhost:8080/"
        }
      },
      "source": [
        "clf.fit(X_ohe_selected, y.values.ravel())#Xを標準化、勾配ブースティングを適用)\n",
        "#joblib.dump(clf, './03_output/'+ model_name + '.pkl')\n",
        "results = cross_val_score(clf, X_ohe_selected, y, scoring='roc_auc', cv=5)\n",
        "print('cv score:', np.average(results), '+-', np.std(results))"
      ],
      "execution_count": 73,
      "outputs": [
        {
          "output_type": "stream",
          "text": [
            "cv score: 0.7198053221288514 +- 0.02126526880177877\n"
          ],
          "name": "stdout"
        }
      ]
    },
    {
      "cell_type": "markdown",
      "metadata": {
        "id": "rBobysM2T6Vc"
      },
      "source": [
        "**score評価**"
      ]
    },
    {
      "cell_type": "code",
      "metadata": {
        "id": "raO6Bfo5OxOt"
      },
      "source": [
        "score = pd.DataFrame(clf.predict_proba(Xs_exp_selected)[:,1], columns=['pred_score'])\n",
        "IDs.join(score).to_csv('./data/'+  model_name + '_' + file_score + '_with_pred.csv', index=False)"
      ],
      "execution_count": 74,
      "outputs": []
    },
    {
      "cell_type": "code",
      "metadata": {
        "id": "4C9Z-iF0SBWj"
      },
      "source": [
        "imp = pd.DataFrame([clf.named_steps['est'].feature_importances_], columns=X_ohe_columns[selector.support_])\n",
        "imp.T.to_csv('./data/'+  model_name + '_feature_importances.csv', index=True)"
      ],
      "execution_count": 75,
      "outputs": []
    },
    {
      "cell_type": "code",
      "metadata": {
        "id": "9D1fNPutTwxU"
      },
      "source": [
        ""
      ],
      "execution_count": null,
      "outputs": []
    }
  ]
}