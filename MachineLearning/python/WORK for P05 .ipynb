{
  "nbformat": 4,
  "nbformat_minor": 0,
  "metadata": {
    "kernelspec": {
      "display_name": "Python 3",
      "language": "python",
      "name": "python3"
    },
    "language_info": {
      "codemirror_mode": {
        "name": "ipython",
        "version": 3
      },
      "file_extension": ".py",
      "mimetype": "text/x-python",
      "name": "python",
      "nbconvert_exporter": "python",
      "pygments_lexer": "ipython3",
      "version": "3.7.5"
    },
    "colab": {
      "name": "WORK for P05 .ipynb",
      "provenance": []
    }
  },
  "cells": [
    {
      "cell_type": "markdown",
      "metadata": {
        "id": "s5QkND3nG_A5"
      },
      "source": [
        "# WORK for P05"
      ]
    },
    {
      "cell_type": "code",
      "metadata": {
        "id": "lOep6nh7HDm7",
        "outputId": "84544d57-0d97-45b9-f6c7-d1fff75f1d82",
        "colab": {
          "base_uri": "https://localhost:8080/"
        }
      },
      "source": [
        "!git clone https://github.com/saiku122/AIJobcolle.git"
      ],
      "execution_count": 1,
      "outputs": [
        {
          "output_type": "stream",
          "text": [
            "Cloning into 'AIJobcolle'...\n",
            "remote: Enumerating objects: 465, done.\u001b[K\n",
            "remote: Counting objects: 100% (465/465), done.\u001b[K\n",
            "remote: Compressing objects: 100% (342/342), done.\u001b[K\n",
            "remote: Total 465 (delta 195), reused 221 (delta 70), pack-reused 0\u001b[K\n",
            "Receiving objects: 100% (465/465), 12.08 MiB | 14.35 MiB/s, done.\n",
            "Resolving deltas: 100% (195/195), done.\n"
          ],
          "name": "stdout"
        }
      ]
    },
    {
      "cell_type": "code",
      "metadata": {
        "id": "RZMLk_vPHH1N",
        "outputId": "60094926-d7d3-44f0-84b3-432f6e854131",
        "colab": {
          "base_uri": "https://localhost:8080/"
        }
      },
      "source": [
        "cd /content/AIJobcolle/MachineLearning/python"
      ],
      "execution_count": 2,
      "outputs": [
        {
          "output_type": "stream",
          "text": [
            "/content/AIJobcolle/MachineLearning/python\n"
          ],
          "name": "stdout"
        }
      ]
    },
    {
      "cell_type": "markdown",
      "metadata": {
        "id": "G8NnLLzlG_BC"
      },
      "source": [
        "## [Work-1]\n",
        "不均衡データへの対応処理のため、imbalanced-learnを以下ページ参照しインストールして下さい。<br>\n",
        "https://imbalanced-learn.readthedocs.io/en/stable/install.html"
      ]
    },
    {
      "cell_type": "code",
      "metadata": {
        "id": "XJHMmEnSHVBw",
        "outputId": "67d0e845-74da-47cc-98e4-2cfb4e6f34fb",
        "colab": {
          "base_uri": "https://localhost:8080/"
        }
      },
      "source": [
        "pip install -U imbalanced-learn"
      ],
      "execution_count": 3,
      "outputs": [
        {
          "output_type": "stream",
          "text": [
            "Collecting imbalanced-learn\n",
            "\u001b[?25l  Downloading https://files.pythonhosted.org/packages/80/98/dc784205a7e3034e84d41ac4781660c67ad6327f2f5a80c568df31673d1c/imbalanced_learn-0.8.0-py3-none-any.whl (206kB)\n",
            "\u001b[K     |████████████████████████████████| 215kB 11.9MB/s \n",
            "\u001b[?25hCollecting scikit-learn>=0.24\n",
            "\u001b[?25l  Downloading https://files.pythonhosted.org/packages/f3/74/eb899f41d55f957e2591cde5528e75871f817d9fb46d4732423ecaca736d/scikit_learn-0.24.1-cp37-cp37m-manylinux2010_x86_64.whl (22.3MB)\n",
            "\u001b[K     |████████████████████████████████| 22.3MB 1.5MB/s \n",
            "\u001b[?25hRequirement already satisfied, skipping upgrade: joblib>=0.11 in /usr/local/lib/python3.7/dist-packages (from imbalanced-learn) (1.0.1)\n",
            "Requirement already satisfied, skipping upgrade: scipy>=0.19.1 in /usr/local/lib/python3.7/dist-packages (from imbalanced-learn) (1.4.1)\n",
            "Requirement already satisfied, skipping upgrade: numpy>=1.13.3 in /usr/local/lib/python3.7/dist-packages (from imbalanced-learn) (1.19.5)\n",
            "Collecting threadpoolctl>=2.0.0\n",
            "  Downloading https://files.pythonhosted.org/packages/f7/12/ec3f2e203afa394a149911729357aa48affc59c20e2c1c8297a60f33f133/threadpoolctl-2.1.0-py3-none-any.whl\n",
            "Installing collected packages: threadpoolctl, scikit-learn, imbalanced-learn\n",
            "  Found existing installation: scikit-learn 0.22.2.post1\n",
            "    Uninstalling scikit-learn-0.22.2.post1:\n",
            "      Successfully uninstalled scikit-learn-0.22.2.post1\n",
            "  Found existing installation: imbalanced-learn 0.4.3\n",
            "    Uninstalling imbalanced-learn-0.4.3:\n",
            "      Successfully uninstalled imbalanced-learn-0.4.3\n",
            "Successfully installed imbalanced-learn-0.8.0 scikit-learn-0.24.1 threadpoolctl-2.1.0\n"
          ],
          "name": "stdout"
        }
      ]
    },
    {
      "cell_type": "markdown",
      "metadata": {
        "id": "rmZs0Y6-G_BD"
      },
      "source": [
        "## [Work-2]\n",
        "Pipelineをsklearnからimbalanced-learnへ切り替えることで、SMOTEをPipelineに組み込めることを確認せよ。<br>\n",
        "https://imbalanced-learn.readthedocs.io/en/stable/generated/imblearn.pipeline.Pipeline.html?highlight=pipeline"
      ]
    },
    {
      "cell_type": "code",
      "metadata": {
        "collapsed": true,
        "jupyter": {
          "outputs_hidden": true
        },
        "id": "uaarvsEMG_BE",
        "outputId": "2bac5ee5-05df-433e-a5c6-5b30cc942392",
        "colab": {
          "base_uri": "https://localhost:8080/"
        }
      },
      "source": [
        "import pandas as pd\n",
        "from sklearn.impute import SimpleImputer\n",
        "\n",
        "# import data\n",
        "df = pd.read_csv('./data/av_loan_u6lujuX_CVtuZ9i.csv', header=0)\n",
        "X = df.iloc[:,:-1]           # 最終列が審査結果のため最終列以前を特徴量Xとして読込\n",
        "X = X.drop('Loan_ID',axis=1) # 1列目のLoan_IDはローン審査のID情報のため特徴量ベクトルから削除\n",
        "y = df.iloc[:,-1]            # 最終列を正解データとして読込\n",
        "\n",
        "# ローン審査でNOとなったサンプルを1に変換\n",
        "class_mapping = {'N':1, 'Y':0}\n",
        "y = y.map(class_mapping)\n",
        "\n",
        "# one-hot エンコーディング\n",
        "ohe_columns = ['Dependents','Gender','Married','Education','Self_Employed','Property_Area']\n",
        "X_ohe = pd.get_dummies(X, dummy_na=True, columns=ohe_columns)\n",
        "\n",
        "# 欠損値補完\n",
        "imp = SimpleImputer()\n",
        "imp.fit(X_ohe)\n",
        "X_ohe_columns = X_ohe.columns.values\n",
        "X_ohe = pd.DataFrame(imp.transform(X_ohe), columns=X_ohe_columns)\n",
        "\n",
        "# 結果表示\n",
        "print('X_new_shape:(%i,%i)' % X_ohe.shape)\n",
        "print(y.value_counts())"
      ],
      "execution_count": 4,
      "outputs": [
        {
          "output_type": "stream",
          "text": [
            "X_new_shape:(614,26)\n",
            "0    422\n",
            "1    192\n",
            "Name: Loan_Status, dtype: int64\n"
          ],
          "name": "stdout"
        }
      ]
    },
    {
      "cell_type": "code",
      "metadata": {
        "collapsed": true,
        "jupyter": {
          "outputs_hidden": true
        },
        "id": "GIS8Y2XzG_BF",
        "outputId": "f51ec25b-4079-43df-f493-f7f41fb18e19",
        "colab": {
          "base_uri": "https://localhost:8080/"
        }
      },
      "source": [
        "from sklearn.model_selection import train_test_split\n",
        "from sklearn.preprocessing import StandardScaler\n",
        "from sklearn.ensemble import GradientBoostingClassifier\n",
        "from sklearn.metrics import f1_score\n",
        "from imblearn.pipeline import Pipeline   # pipelineの読み込み方法を変更していることに留意\n",
        "from imblearn.over_sampling import SMOTE\n",
        "\n",
        "# holdout\n",
        "X_train, X_test, y_train, y_test = train_test_split(X_ohe, \n",
        "                                                    y,\n",
        "                                                    test_size=0.3)\n",
        "# set pipeline\n",
        "pipe_gb = Pipeline([('sm', SMOTE(random_state=0)),\n",
        "                    ('scl',StandardScaler()),\n",
        "                    ('est',GradientBoostingClassifier(random_state=1))])\n",
        "# Modeling\n",
        "pipe_gb.fit(X_train, y_train)\n",
        "\n",
        "# Modeling & Evaluation\n",
        "print('F1 @train', f1_score(y_train, pipe_gb.predict(X_train)))\n",
        "print('F1 @test',  f1_score(y_test, pipe_gb.predict(X_test)))"
      ],
      "execution_count": 5,
      "outputs": [
        {
          "output_type": "stream",
          "text": [
            "F1 @train 0.7878787878787878\n",
            "F1 @test 0.5176470588235293\n"
          ],
          "name": "stdout"
        }
      ]
    },
    {
      "cell_type": "code",
      "metadata": {
        "id": "vaEh7HiDHh4X"
      },
      "source": [
        ""
      ],
      "execution_count": null,
      "outputs": []
    }
  ]
}