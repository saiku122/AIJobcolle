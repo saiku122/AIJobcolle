{
 "cells": [
  {
   "cell_type": "markdown",
   "metadata": {},
   "source": [
    "# WORK for P05"
   ]
  },
  {
   "cell_type": "markdown",
   "metadata": {},
   "source": [
    "## [Work-1]\n",
    "不均衡データへの対応処理のため、imbalanced-learnを以下ページ参照しインストールして下さい。<br>\n",
    "https://imbalanced-learn.readthedocs.io/en/stable/install.html"
   ]
  },
  {
   "cell_type": "markdown",
   "metadata": {},
   "source": [
    "## [Work-2]\n",
    "Pipelineをsklearnからimbalanced-learnへ切り替えることで、SMOTEをPipelineに組み込めることを確認せよ。<br>\n",
    "https://imbalanced-learn.readthedocs.io/en/stable/generated/imblearn.pipeline.Pipeline.html?highlight=pipeline"
   ]
  },
  {
   "cell_type": "code",
   "execution_count": null,
   "metadata": {
    "collapsed": true,
    "jupyter": {
     "outputs_hidden": true
    }
   },
   "outputs": [],
   "source": [
    "import pandas as pd\n",
    "from sklearn.impute import SimpleImputer\n",
    "\n",
    "# import data\n",
    "df = pd.read_csv('./data/av_loan_u6lujuX_CVtuZ9i.csv', header=0)\n",
    "X = df.iloc[:,:-1]           # 最終列が審査結果のため最終列以前を特徴量Xとして読込\n",
    "X = X.drop('Loan_ID',axis=1) # 1列目のLoan_IDはローン審査のID情報のため特徴量ベクトルから削除\n",
    "y = df.iloc[:,-1]            # 最終列を正解データとして読込\n",
    "\n",
    "# ローン審査でNOとなったサンプルを1に変換\n",
    "class_mapping = {'N':1, 'Y':0}\n",
    "y = y.map(class_mapping)\n",
    "\n",
    "# one-hot エンコーディング\n",
    "ohe_columns = ['Dependents','Gender','Married','Education','Self_Employed','Property_Area']\n",
    "X_ohe = pd.get_dummies(X, dummy_na=True, columns=ohe_columns)\n",
    "\n",
    "# 欠損値補完\n",
    "imp = SimpleImputer()\n",
    "imp.fit(X_ohe)\n",
    "X_ohe_columns = X_ohe.columns.values\n",
    "X_ohe = pd.DataFrame(imp.transform(X_ohe), columns=X_ohe_columns)\n",
    "\n",
    "# 結果表示\n",
    "print('X_new_shape:(%i,%i)' % X_ohe.shape)\n",
    "print(y.value_counts())"
   ]
  },
  {
   "cell_type": "code",
   "execution_count": null,
   "metadata": {
    "collapsed": true,
    "jupyter": {
     "outputs_hidden": true
    }
   },
   "outputs": [],
   "source": [
    "from sklearn.model_selection import train_test_split\n",
    "from sklearn.preprocessing import StandardScaler\n",
    "from sklearn.ensemble import GradientBoostingClassifier\n",
    "from sklearn.metrics import f1_score\n",
    "from imblearn.pipeline import Pipeline   # pipelineの読み込み方法を変更していることに留意\n",
    "from imblearn.over_sampling import SMOTE\n",
    "\n",
    "# holdout\n",
    "X_train, X_test, y_train, y_test = train_test_split(X_ohe, \n",
    "                                                    y,\n",
    "                                                    test_size=0.3)\n",
    "# set pipeline\n",
    "pipe_gb = Pipeline([('sm', SMOTE(random_state=0)),\n",
    "                    ('scl',StandardScaler()),\n",
    "                    ('est',GradientBoostingClassifier(random_state=1))])\n",
    "# Modeling\n",
    "pipe_gb.fit(X_train, y_train)\n",
    "\n",
    "# Modeling & Evaluation\n",
    "print('F1 @train', f1_score(y_train, pipe_gb.predict(X_train)))\n",
    "print('F1 @test',  f1_score(y_test, pipe_gb.predict(X_test)))"
   ]
  }
 ],
 "metadata": {
  "kernelspec": {
   "display_name": "Python 3",
   "language": "python",
   "name": "python3"
  },
  "language_info": {
   "codemirror_mode": {
    "name": "ipython",
    "version": 3
   },
   "file_extension": ".py",
   "mimetype": "text/x-python",
   "name": "python",
   "nbconvert_exporter": "python",
   "pygments_lexer": "ipython3",
   "version": "3.7.5"
  }
 },
 "nbformat": 4,
 "nbformat_minor": 4
}
