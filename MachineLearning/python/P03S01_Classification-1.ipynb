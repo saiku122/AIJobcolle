{
  "nbformat": 4,
  "nbformat_minor": 0,
  "metadata": {
    "kernelspec": {
      "display_name": "Python 3",
      "language": "python",
      "name": "python3"
    },
    "language_info": {
      "codemirror_mode": {
        "name": "ipython",
        "version": 3
      },
      "file_extension": ".py",
      "mimetype": "text/x-python",
      "name": "python",
      "nbconvert_exporter": "python",
      "pygments_lexer": "ipython3",
      "version": "3.5.3"
    },
    "colab": {
      "name": "P03S01_Classification-1.ipynb",
      "provenance": [],
      "include_colab_link": true
    }
  },
  "cells": [
    {
      "cell_type": "markdown",
      "metadata": {
        "id": "view-in-github",
        "colab_type": "text"
      },
      "source": [
        "<a href=\"https://colab.research.google.com/github/saiku122/AIJobcolle/blob/master/MachineLearning/python/P03S01_Classification-1.ipynb\" target=\"_parent\"><img src=\"https://colab.research.google.com/assets/colab-badge.svg\" alt=\"Open In Colab\"/></a>"
      ]
    },
    {
      "cell_type": "markdown",
      "metadata": {
        "id": "kHA07eQkLvOR"
      },
      "source": [
        "# Classification-1"
      ]
    },
    {
      "cell_type": "code",
      "metadata": {
        "id": "pyaTtTSBLzHV",
        "outputId": "a34fa21f-71de-4314-c95a-5ff5ffdc5169",
        "colab": {
          "base_uri": "https://localhost:8080/"
        }
      },
      "source": [
        "!git clone https://github.com/saiku122/AIJobcolle.git"
      ],
      "execution_count": 1,
      "outputs": [
        {
          "output_type": "stream",
          "text": [
            "Cloning into 'AIJobcolle'...\n",
            "remote: Enumerating objects: 109, done.\u001b[K\n",
            "remote: Counting objects: 100% (109/109), done.\u001b[K\n",
            "remote: Compressing objects: 100% (78/78), done.\u001b[K\n",
            "remote: Total 109 (delta 37), reused 54 (delta 12), pack-reused 0\u001b[K\n",
            "Receiving objects: 100% (109/109), 2.53 MiB | 12.29 MiB/s, done.\n",
            "Resolving deltas: 100% (37/37), done.\n"
          ],
          "name": "stdout"
        }
      ]
    },
    {
      "cell_type": "markdown",
      "metadata": {
        "id": "ZkBT0iRMLvOe"
      },
      "source": [
        "2値分類用のサンプルデータである乳がんデータを読み込みます。<br>特徴量が全て数値データで欠損値もないキレイなサンプルデータです。"
      ]
    },
    {
      "cell_type": "code",
      "metadata": {
        "id": "h_Q5EgteL2Mq",
        "outputId": "2dcd4301-8730-497c-b12b-ed91f8afd710",
        "colab": {
          "base_uri": "https://localhost:8080/"
        }
      },
      "source": [
        "cd /content/AIJobcolle/MachineLearning/python"
      ],
      "execution_count": 2,
      "outputs": [
        {
          "output_type": "stream",
          "text": [
            "/content/AIJobcolle/MachineLearning/python\n"
          ],
          "name": "stdout"
        }
      ]
    },
    {
      "cell_type": "code",
      "metadata": {
        "id": "FwXJo-F7LvOf",
        "outputId": "818d3dc2-40d4-4f17-a4e3-c05146adfe51",
        "colab": {
          "base_uri": "https://localhost:8080/",
          "height": 411
        }
      },
      "source": [
        "# Load and return the breast cancer wisconsin dataset (classification).\n",
        "# The breast cancer dataset is a classic and very easy binary classification dataset.\n",
        "import pandas as pd\n",
        "from sklearn.datasets import load_breast_cancer\n",
        "\n",
        "# set data by role\n",
        "dataset = load_breast_cancer()\n",
        "X = pd.DataFrame(dataset.data, columns=dataset.feature_names)\n",
        "y = pd.Series(dataset.target, name='y')\n",
        "\n",
        "# check the shape\n",
        "print('--------------------------------------------------')\n",
        "print('X shape: (%i,%i)' %X.shape)\n",
        "print('--------------------------------------------------')\n",
        "print(y.value_counts())\n",
        "print('--------------------------------------------------')\n",
        "print('y=0 means Marignant(悪性),y=1 means Benign(良性):')\n",
        "print('--------------------------------------------------')\n",
        "X.join(y).head()"
      ],
      "execution_count": 3,
      "outputs": [
        {
          "output_type": "stream",
          "text": [
            "--------------------------------------------------\n",
            "X shape: (569,30)\n",
            "--------------------------------------------------\n",
            "1    357\n",
            "0    212\n",
            "Name: y, dtype: int64\n",
            "--------------------------------------------------\n",
            "y=0 means Marignant(悪性),y=1 means Benign(良性):\n",
            "--------------------------------------------------\n"
          ],
          "name": "stdout"
        },
        {
          "output_type": "execute_result",
          "data": {
            "text/html": [
              "<div>\n",
              "<style scoped>\n",
              "    .dataframe tbody tr th:only-of-type {\n",
              "        vertical-align: middle;\n",
              "    }\n",
              "\n",
              "    .dataframe tbody tr th {\n",
              "        vertical-align: top;\n",
              "    }\n",
              "\n",
              "    .dataframe thead th {\n",
              "        text-align: right;\n",
              "    }\n",
              "</style>\n",
              "<table border=\"1\" class=\"dataframe\">\n",
              "  <thead>\n",
              "    <tr style=\"text-align: right;\">\n",
              "      <th></th>\n",
              "      <th>mean radius</th>\n",
              "      <th>mean texture</th>\n",
              "      <th>mean perimeter</th>\n",
              "      <th>mean area</th>\n",
              "      <th>mean smoothness</th>\n",
              "      <th>mean compactness</th>\n",
              "      <th>mean concavity</th>\n",
              "      <th>mean concave points</th>\n",
              "      <th>mean symmetry</th>\n",
              "      <th>mean fractal dimension</th>\n",
              "      <th>radius error</th>\n",
              "      <th>texture error</th>\n",
              "      <th>perimeter error</th>\n",
              "      <th>area error</th>\n",
              "      <th>smoothness error</th>\n",
              "      <th>compactness error</th>\n",
              "      <th>concavity error</th>\n",
              "      <th>concave points error</th>\n",
              "      <th>symmetry error</th>\n",
              "      <th>fractal dimension error</th>\n",
              "      <th>worst radius</th>\n",
              "      <th>worst texture</th>\n",
              "      <th>worst perimeter</th>\n",
              "      <th>worst area</th>\n",
              "      <th>worst smoothness</th>\n",
              "      <th>worst compactness</th>\n",
              "      <th>worst concavity</th>\n",
              "      <th>worst concave points</th>\n",
              "      <th>worst symmetry</th>\n",
              "      <th>worst fractal dimension</th>\n",
              "      <th>y</th>\n",
              "    </tr>\n",
              "  </thead>\n",
              "  <tbody>\n",
              "    <tr>\n",
              "      <th>0</th>\n",
              "      <td>17.99</td>\n",
              "      <td>10.38</td>\n",
              "      <td>122.80</td>\n",
              "      <td>1001.0</td>\n",
              "      <td>0.11840</td>\n",
              "      <td>0.27760</td>\n",
              "      <td>0.3001</td>\n",
              "      <td>0.14710</td>\n",
              "      <td>0.2419</td>\n",
              "      <td>0.07871</td>\n",
              "      <td>1.0950</td>\n",
              "      <td>0.9053</td>\n",
              "      <td>8.589</td>\n",
              "      <td>153.40</td>\n",
              "      <td>0.006399</td>\n",
              "      <td>0.04904</td>\n",
              "      <td>0.05373</td>\n",
              "      <td>0.01587</td>\n",
              "      <td>0.03003</td>\n",
              "      <td>0.006193</td>\n",
              "      <td>25.38</td>\n",
              "      <td>17.33</td>\n",
              "      <td>184.60</td>\n",
              "      <td>2019.0</td>\n",
              "      <td>0.1622</td>\n",
              "      <td>0.6656</td>\n",
              "      <td>0.7119</td>\n",
              "      <td>0.2654</td>\n",
              "      <td>0.4601</td>\n",
              "      <td>0.11890</td>\n",
              "      <td>0</td>\n",
              "    </tr>\n",
              "    <tr>\n",
              "      <th>1</th>\n",
              "      <td>20.57</td>\n",
              "      <td>17.77</td>\n",
              "      <td>132.90</td>\n",
              "      <td>1326.0</td>\n",
              "      <td>0.08474</td>\n",
              "      <td>0.07864</td>\n",
              "      <td>0.0869</td>\n",
              "      <td>0.07017</td>\n",
              "      <td>0.1812</td>\n",
              "      <td>0.05667</td>\n",
              "      <td>0.5435</td>\n",
              "      <td>0.7339</td>\n",
              "      <td>3.398</td>\n",
              "      <td>74.08</td>\n",
              "      <td>0.005225</td>\n",
              "      <td>0.01308</td>\n",
              "      <td>0.01860</td>\n",
              "      <td>0.01340</td>\n",
              "      <td>0.01389</td>\n",
              "      <td>0.003532</td>\n",
              "      <td>24.99</td>\n",
              "      <td>23.41</td>\n",
              "      <td>158.80</td>\n",
              "      <td>1956.0</td>\n",
              "      <td>0.1238</td>\n",
              "      <td>0.1866</td>\n",
              "      <td>0.2416</td>\n",
              "      <td>0.1860</td>\n",
              "      <td>0.2750</td>\n",
              "      <td>0.08902</td>\n",
              "      <td>0</td>\n",
              "    </tr>\n",
              "    <tr>\n",
              "      <th>2</th>\n",
              "      <td>19.69</td>\n",
              "      <td>21.25</td>\n",
              "      <td>130.00</td>\n",
              "      <td>1203.0</td>\n",
              "      <td>0.10960</td>\n",
              "      <td>0.15990</td>\n",
              "      <td>0.1974</td>\n",
              "      <td>0.12790</td>\n",
              "      <td>0.2069</td>\n",
              "      <td>0.05999</td>\n",
              "      <td>0.7456</td>\n",
              "      <td>0.7869</td>\n",
              "      <td>4.585</td>\n",
              "      <td>94.03</td>\n",
              "      <td>0.006150</td>\n",
              "      <td>0.04006</td>\n",
              "      <td>0.03832</td>\n",
              "      <td>0.02058</td>\n",
              "      <td>0.02250</td>\n",
              "      <td>0.004571</td>\n",
              "      <td>23.57</td>\n",
              "      <td>25.53</td>\n",
              "      <td>152.50</td>\n",
              "      <td>1709.0</td>\n",
              "      <td>0.1444</td>\n",
              "      <td>0.4245</td>\n",
              "      <td>0.4504</td>\n",
              "      <td>0.2430</td>\n",
              "      <td>0.3613</td>\n",
              "      <td>0.08758</td>\n",
              "      <td>0</td>\n",
              "    </tr>\n",
              "    <tr>\n",
              "      <th>3</th>\n",
              "      <td>11.42</td>\n",
              "      <td>20.38</td>\n",
              "      <td>77.58</td>\n",
              "      <td>386.1</td>\n",
              "      <td>0.14250</td>\n",
              "      <td>0.28390</td>\n",
              "      <td>0.2414</td>\n",
              "      <td>0.10520</td>\n",
              "      <td>0.2597</td>\n",
              "      <td>0.09744</td>\n",
              "      <td>0.4956</td>\n",
              "      <td>1.1560</td>\n",
              "      <td>3.445</td>\n",
              "      <td>27.23</td>\n",
              "      <td>0.009110</td>\n",
              "      <td>0.07458</td>\n",
              "      <td>0.05661</td>\n",
              "      <td>0.01867</td>\n",
              "      <td>0.05963</td>\n",
              "      <td>0.009208</td>\n",
              "      <td>14.91</td>\n",
              "      <td>26.50</td>\n",
              "      <td>98.87</td>\n",
              "      <td>567.7</td>\n",
              "      <td>0.2098</td>\n",
              "      <td>0.8663</td>\n",
              "      <td>0.6869</td>\n",
              "      <td>0.2575</td>\n",
              "      <td>0.6638</td>\n",
              "      <td>0.17300</td>\n",
              "      <td>0</td>\n",
              "    </tr>\n",
              "    <tr>\n",
              "      <th>4</th>\n",
              "      <td>20.29</td>\n",
              "      <td>14.34</td>\n",
              "      <td>135.10</td>\n",
              "      <td>1297.0</td>\n",
              "      <td>0.10030</td>\n",
              "      <td>0.13280</td>\n",
              "      <td>0.1980</td>\n",
              "      <td>0.10430</td>\n",
              "      <td>0.1809</td>\n",
              "      <td>0.05883</td>\n",
              "      <td>0.7572</td>\n",
              "      <td>0.7813</td>\n",
              "      <td>5.438</td>\n",
              "      <td>94.44</td>\n",
              "      <td>0.011490</td>\n",
              "      <td>0.02461</td>\n",
              "      <td>0.05688</td>\n",
              "      <td>0.01885</td>\n",
              "      <td>0.01756</td>\n",
              "      <td>0.005115</td>\n",
              "      <td>22.54</td>\n",
              "      <td>16.67</td>\n",
              "      <td>152.20</td>\n",
              "      <td>1575.0</td>\n",
              "      <td>0.1374</td>\n",
              "      <td>0.2050</td>\n",
              "      <td>0.4000</td>\n",
              "      <td>0.1625</td>\n",
              "      <td>0.2364</td>\n",
              "      <td>0.07678</td>\n",
              "      <td>0</td>\n",
              "    </tr>\n",
              "  </tbody>\n",
              "</table>\n",
              "</div>"
            ],
            "text/plain": [
              "   mean radius  mean texture  ...  worst fractal dimension  y\n",
              "0        17.99         10.38  ...                  0.11890  0\n",
              "1        20.57         17.77  ...                  0.08902  0\n",
              "2        19.69         21.25  ...                  0.08758  0\n",
              "3        11.42         20.38  ...                  0.17300  0\n",
              "4        20.29         14.34  ...                  0.07678  0\n",
              "\n",
              "[5 rows x 31 columns]"
            ]
          },
          "metadata": {
            "tags": []
          },
          "execution_count": 3
        }
      ]
    },
    {
      "cell_type": "markdown",
      "metadata": {
        "collapsed": true,
        "id": "Ae4r3cEVLvOh"
      },
      "source": [
        "次に評価指標についてです。回帰モデルの評価にはR2スコアなどがありました。分類モデルの評価の場合、最もわかりやすいものが正解率（Accuracy）です。正解率は予測対象データ（スコアリングデータ）の全件をNとした時、正例を正しく正例と分類できた数TP、負例を正しく負例と分類できた数TFとすると、 以下の数式で表せます。<br><center>Accuracy = (TP + TF) / N</center><br>つまり、正例・負例を問わず正しく分類されたサンプル数の割合です。sklearnでは正解データと予測データを与えると、Accuracyを計算してくれる関数が存在します。以下で呼び出しておきます。"
      ]
    },
    {
      "cell_type": "code",
      "metadata": {
        "collapsed": true,
        "id": "81KL-L_QLvOi"
      },
      "source": [
        "# 分類モデルの評価指標計算のための関数の読込\n",
        "from sklearn.metrics import accuracy_score"
      ],
      "execution_count": 4,
      "outputs": []
    },
    {
      "cell_type": "markdown",
      "metadata": {
        "id": "wACBSYVuLvOi"
      },
      "source": [
        "下記コードは回帰と同様ですので、各行の役割を理解できていることを確認して下さい。"
      ]
    },
    {
      "cell_type": "code",
      "metadata": {
        "id": "qruDDxc6LvOi",
        "outputId": "aa2e0b3d-263e-4314-a583-0a157d71cd30",
        "colab": {
          "base_uri": "https://localhost:8080/"
        }
      },
      "source": [
        "# import libraries\n",
        "import numpy as np\n",
        "import pandas as pd\n",
        "from sklearn.model_selection import train_test_split\n",
        "from sklearn.neighbors import KNeighborsClassifier\n",
        "from sklearn.linear_model import LogisticRegression\n",
        "from sklearn.preprocessing import StandardScaler\n",
        "from sklearn.pipeline import Pipeline\n",
        "\n",
        "# Holdout\n",
        "X_train,X_test,y_train,y_test = train_test_split(X,\n",
        "                                                 y,\n",
        "                                                 test_size=0.20,\n",
        "                                                 random_state=1)\n",
        "# set pipelines for two different algorithms\n",
        "pipelines ={\n",
        "    'knn': Pipeline([('scl',StandardScaler()),\n",
        "                       ('est',KNeighborsClassifier())]),\n",
        "\n",
        "    'logistic': Pipeline([('scl',StandardScaler()),\n",
        "                          ('est',LogisticRegression(random_state=1))])    \n",
        "}\n",
        "\n",
        "# fit the models\n",
        "for pipe_name, pipeline in pipelines.items():\n",
        "    pipeline.fit(X_train,y_train)\n",
        "    print(pipe_name, ': Fitting Done')"
      ],
      "execution_count": 7,
      "outputs": [
        {
          "output_type": "stream",
          "text": [
            "knn : Fitting Done\n",
            "logistic : Fitting Done\n"
          ],
          "name": "stdout"
        }
      ]
    },
    {
      "cell_type": "code",
      "metadata": {
        "id": "f0p829LjNOnI",
        "outputId": "4972524f-c7aa-4df9-f163-f4033fcf5ee9",
        "colab": {
          "base_uri": "https://localhost:8080/"
        }
      },
      "source": [
        "from sklearn.metrics import f1_score\r\n",
        "print(f1_score(y_test.values.ravel(),pipelines[\"knn\"].predict(X_test))) #k近傍\r\n",
        "print(f1_score(y_test.values.ravel(),pipelines[\"logistic\"].predict(X_test))) #logistic回帰"
      ],
      "execution_count": 14,
      "outputs": [
        {
          "output_type": "stream",
          "text": [
            "0.9664429530201343\n",
            "0.9793103448275863\n"
          ],
          "name": "stdout"
        }
      ]
    },
    {
      "cell_type": "markdown",
      "metadata": {
        "id": "uQtcH935LvOj"
      },
      "source": [
        "学習を終えたので、２つのパイプラインの分類器としての性能（正解率）を比較します。<br>まず、pipelineのpredictメソッドによる出力ベクトルを見て下さい。<br>y_pred in {0,1}で予測ラベルが付与されていることがわかります。"
      ]
    },
    {
      "cell_type": "code",
      "metadata": {
        "id": "kYfnLQy0LvOj",
        "outputId": "3d23c811-afe5-4ede-90f0-bb6fc9f40917",
        "colab": {
          "base_uri": "https://localhost:8080/"
        }
      },
      "source": [
        "pipelines['logistic'].predict(X_train)[:10]"
      ],
      "execution_count": 15,
      "outputs": [
        {
          "output_type": "execute_result",
          "data": {
            "text/plain": [
              "array([0, 0, 1, 1, 1, 1, 1, 0, 0, 1])"
            ]
          },
          "metadata": {
            "tags": []
          },
          "execution_count": 15
        }
      ]
    },
    {
      "cell_type": "markdown",
      "metadata": {
        "id": "ir2HsW7pLvOk"
      },
      "source": [
        "ちなみに、今回は使いませんが、実務では予測ラベルの他に各クラスに分類される予測確率をよく使います。<b>予測確率を出力させたい場合はpredictをpredic_probaに変更します。</b>最初の列はy=0と分類される予測確率、2番目の列はy=1と分類される予測確率です。"
      ]
    },
    {
      "cell_type": "code",
      "metadata": {
        "id": "XdTI2r7ELvOk",
        "outputId": "fc30a8a1-70d9-4dd8-f435-7ca4d534505d",
        "colab": {
          "base_uri": "https://localhost:8080/"
        }
      },
      "source": [
        "pipelines['logistic'].predict_proba(X_train)[:10]"
      ],
      "execution_count": 16,
      "outputs": [
        {
          "output_type": "execute_result",
          "data": {
            "text/plain": [
              "array([[9.99418236e-01, 5.81764051e-04],\n",
              "       [9.99957753e-01, 4.22467006e-05],\n",
              "       [1.05256053e-06, 9.99998947e-01],\n",
              "       [4.02739137e-04, 9.99597261e-01],\n",
              "       [1.75511145e-04, 9.99824489e-01],\n",
              "       [7.77824273e-03, 9.92221757e-01],\n",
              "       [6.66717409e-02, 9.33328259e-01],\n",
              "       [9.99953387e-01, 4.66128892e-05],\n",
              "       [9.99999129e-01, 8.70634846e-07],\n",
              "       [2.29495984e-02, 9.77050402e-01]])"
            ]
          },
          "metadata": {
            "tags": []
          },
          "execution_count": 16
        }
      ]
    },
    {
      "cell_type": "markdown",
      "metadata": {
        "id": "xrM8RGuYLvOk"
      },
      "source": [
        "さて、accuracy_scoreは第一引数に正解ラベル、第二引数に予測ラベル（確率ではない）を指定します。ですので、今回はpredictメソッドで予測ラベルを与えましょう。"
      ]
    },
    {
      "cell_type": "code",
      "metadata": {
        "id": "I_aXe50FLvOl",
        "outputId": "bfc1b7a4-6fe6-4c28-8f99-cab2fafec40a",
        "colab": {
          "base_uri": "https://localhost:8080/",
          "height": 111
        }
      },
      "source": [
        "scores = {}\n",
        "for pipe_name, pipeline in pipelines.items():\n",
        "    scores[(pipe_name,'train')] = accuracy_score(y_train, pipeline.predict(X_train))\n",
        "    scores[(pipe_name,'test')] = accuracy_score(y_test, pipeline.predict(X_test))\n",
        "\n",
        "pd.Series(scores).unstack()"
      ],
      "execution_count": 17,
      "outputs": [
        {
          "output_type": "execute_result",
          "data": {
            "text/html": [
              "<div>\n",
              "<style scoped>\n",
              "    .dataframe tbody tr th:only-of-type {\n",
              "        vertical-align: middle;\n",
              "    }\n",
              "\n",
              "    .dataframe tbody tr th {\n",
              "        vertical-align: top;\n",
              "    }\n",
              "\n",
              "    .dataframe thead th {\n",
              "        text-align: right;\n",
              "    }\n",
              "</style>\n",
              "<table border=\"1\" class=\"dataframe\">\n",
              "  <thead>\n",
              "    <tr style=\"text-align: right;\">\n",
              "      <th></th>\n",
              "      <th>test</th>\n",
              "      <th>train</th>\n",
              "    </tr>\n",
              "  </thead>\n",
              "  <tbody>\n",
              "    <tr>\n",
              "      <th>knn</th>\n",
              "      <td>0.956140</td>\n",
              "      <td>0.982418</td>\n",
              "    </tr>\n",
              "    <tr>\n",
              "      <th>logistic</th>\n",
              "      <td>0.973684</td>\n",
              "      <td>0.991209</td>\n",
              "    </tr>\n",
              "  </tbody>\n",
              "</table>\n",
              "</div>"
            ],
            "text/plain": [
              "              test     train\n",
              "knn       0.956140  0.982418\n",
              "logistic  0.973684  0.991209"
            ]
          },
          "metadata": {
            "tags": []
          },
          "execution_count": 17
        }
      ]
    },
    {
      "cell_type": "markdown",
      "metadata": {
        "id": "5VDvZEdsLvOl"
      },
      "source": [
        "このデータに対しては、kNNよりもロジスティック回帰による精度（正解率）の方が勝ることを確認できました。アルゴリズムの知識を増やして、様々なパイプラインを設計できるようになりましょう。"
      ]
    }
  ]
}