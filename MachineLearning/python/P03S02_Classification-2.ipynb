{
 "cells": [
  {
   "cell_type": "markdown",
   "metadata": {},
   "source": [
    "# Classification-2"
   ]
  },
  {
   "cell_type": "markdown",
   "metadata": {},
   "source": [
    "これまで学習した様々なアルゴリズムの実行方法を確認しましょう。<br>分類用のサンプルデータである乳がんデータを使います。"
   ]
  },
  {
   "cell_type": "code",
   "execution_count": null,
   "metadata": {},
   "outputs": [],
   "source": [
    "# Load and return the breast cancer wisconsin dataset (classification).\n",
    "# The breast cancer dataset is a classic and very easy binary classification dataset.\n",
    "import pandas as pd\n",
    "from sklearn.datasets import load_breast_cancer\n",
    "\n",
    "# set data by role\n",
    "dataset = load_breast_cancer()\n",
    "X = pd.DataFrame(dataset.data, columns=dataset.feature_names)\n",
    "y = pd.Series(dataset.target, name='y')\n",
    "\n",
    "# check the shape\n",
    "print('----------------------------------------')\n",
    "print('X shape: (%i,%i)' %X.shape)\n",
    "print('----------------------------------------')\n",
    "print(y.value_counts())\n",
    "print('y=0 means Marignant(悪性), y=1 means Benign(良性):')\n",
    "print('----------------------------------------')\n",
    "X.join(y).head()"
   ]
  },
  {
   "cell_type": "markdown",
   "metadata": {},
   "source": [
    "アルゴリズムとしてKNN、ロジスティック回帰、決定木、ランダムフォレスト、勾配ブースティング、多層ニューラルネットワーク、サポートベクタマシンをパイプライン化します。評価指標は正解率、評価方法はHoldout法としました。"
   ]
  },
  {
   "cell_type": "code",
   "execution_count": null,
   "metadata": {
    "scrolled": true
   },
   "outputs": [],
   "source": [
    "import numpy as np\n",
    "import pandas as pd\n",
    "from sklearn.preprocessing import StandardScaler\n",
    "from sklearn.neighbors import KNeighborsClassifier\n",
    "from sklearn.linear_model import LogisticRegression\n",
    "from sklearn.svm import SVC, LinearSVC\n",
    "from sklearn.tree import DecisionTreeClassifier\n",
    "from sklearn.ensemble import RandomForestClassifier\n",
    "from sklearn.ensemble import GradientBoostingClassifier\n",
    "from sklearn.neural_network import MLPClassifier\n",
    "from sklearn.pipeline import Pipeline\n",
    "from sklearn.model_selection import train_test_split\n",
    "from sklearn.metrics import accuracy_score\n",
    "\n",
    "# holdout\n",
    "X_train,X_test,y_train,y_test=train_test_split(X,\n",
    "                                               y,\n",
    "                                               test_size=0.3,\n",
    "                                               random_state=1)\n",
    "# set pipelines for different algorithms\n",
    "pipelines = {\n",
    "    'knn':\n",
    "        Pipeline([('scl',StandardScaler()),\n",
    "                  ('est',KNeighborsClassifier())]),\n",
    "    'logistic':\n",
    "        Pipeline([('scl',StandardScaler()),\n",
    "                  ('est',LogisticRegression(random_state=1))]),\n",
    "    'rsvc':\n",
    "        Pipeline([('scl',StandardScaler()),\n",
    "                  ('est',SVC(C=1.0, kernel='rbf', class_weight='balanced', random_state=1))]),\n",
    "    'lsvc':\n",
    "        Pipeline([('scl',StandardScaler()),\n",
    "                  ('est',LinearSVC(C=1.0, class_weight='balanced', random_state=1))]),\n",
    "    'tree':\n",
    "        Pipeline([('scl',StandardScaler()),\n",
    "                  ('est',DecisionTreeClassifier(random_state=1))]),\n",
    "    'rf':\n",
    "        Pipeline([('scl',StandardScaler()),\n",
    "                  ('est',RandomForestClassifier(random_state=1))]),\n",
    "    'gb':\n",
    "        Pipeline([('scl',StandardScaler()),\n",
    "                  ('est',GradientBoostingClassifier(random_state=1))]),\n",
    "    'mlp':\n",
    "        Pipeline([('scl',StandardScaler()),\n",
    "                  ('est',MLPClassifier(hidden_layer_sizes=(3,3),\n",
    "                                       max_iter=1000,\n",
    "                                       random_state=1))])\n",
    "}\n",
    "# fit & evaluation\n",
    "scores = {}\n",
    "for pipe_name, pipeline in pipelines.items():\n",
    "    pipeline.fit(X_train, y_train)\n",
    "    scores[(pipe_name,'train')] = accuracy_score(y_train, pipeline.predict(X_train))\n",
    "    scores[(pipe_name,'test')] = accuracy_score(y_test, pipeline.predict(X_test))\n",
    "\n",
    "pd.Series(scores).unstack()"
   ]
  },
  {
   "cell_type": "markdown",
   "metadata": {},
   "source": [
    "このデータではロジスティック回帰の正解率が最も高い結果となりました。"
   ]
  },
  {
   "cell_type": "markdown",
   "metadata": {},
   "source": [
    "<b>[確認してみよう]</b>アルゴリズムのハイパーパラメータの数値を様々に組み合わせ結果を確認してみよう。\n",
    "- サポートベクターのclass_weight='balanced'を外したらどうなるか？\n",
    "- サポートベクターのカーネルの種類を変えたらどうなるか？\n",
    "- hidden_layer_sizes=(3,3)を(3,3,3)にしたらどうなるか？ etc."
   ]
  }
 ],
 "metadata": {
  "kernelspec": {
   "display_name": "Python 3",
   "language": "python",
   "name": "python3"
  },
  "language_info": {
   "codemirror_mode": {
    "name": "ipython",
    "version": 3
   },
   "file_extension": ".py",
   "mimetype": "text/x-python",
   "name": "python",
   "nbconvert_exporter": "python",
   "pygments_lexer": "ipython3",
   "version": "3.5.3"
  }
 },
 "nbformat": 4,
 "nbformat_minor": 2
}
