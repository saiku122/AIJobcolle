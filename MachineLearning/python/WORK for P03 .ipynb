{
 "cells": [
  {
   "cell_type": "markdown",
   "metadata": {},
   "source": [
    "# WORK for P03"
   ]
  },
  {
   "cell_type": "markdown",
   "metadata": {},
   "source": [
    "## [Work-1]（提出課題）\n",
    "分類器を評価するスコアにAUCという指標がある（正解率とは定義が違う別の評価指標）。AUCとは何かを調査しパワポ2枚以下でまとめ、次回講義の前日までにslack（ワーク提出用）へ提出下さい（パワポまたはPDF）。ファイル名は「P03WK1_yourname」（yournameはあなたの氏名）として下さい。<br>\n",
    "【キーワード】ROC曲線、AUCスコア"
   ]
  },
  {
   "cell_type": "markdown",
   "metadata": {},
   "source": [
    "## [Work-2]\n",
    "以下ページなどを参考に、sklearnにおけるAUCの取得方法を確認せよ。<br>\n",
    "http://scikit-learn.org/stable/modules/generated/sklearn.metrics.roc_auc_score.html#sklearn.metrics.roc_auc_score"
   ]
  }
 ],
 "metadata": {
  "kernelspec": {
   "display_name": "Python 3",
   "language": "python",
   "name": "python3"
  },
  "language_info": {
   "codemirror_mode": {
    "name": "ipython",
    "version": 3
   },
   "file_extension": ".py",
   "mimetype": "text/x-python",
   "name": "python",
   "nbconvert_exporter": "python",
   "pygments_lexer": "ipython3",
   "version": "3.6.5"
  }
 },
 "nbformat": 4,
 "nbformat_minor": 2
}
