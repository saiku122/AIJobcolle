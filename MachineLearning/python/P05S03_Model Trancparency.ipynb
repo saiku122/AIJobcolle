{
 "cells": [
  {
   "cell_type": "markdown",
   "metadata": {},
   "source": [
    "# モデルの中身を覗く"
   ]
  },
  {
   "cell_type": "markdown",
   "metadata": {},
   "source": [
    "ここでは変数の重要度の取得方法とPDPの作図法を学びます。"
   ]
  },
  {
   "cell_type": "markdown",
   "metadata": {},
   "source": [
    "##### サンプルデータの読み込み\n",
    "データはボストン住宅価格データを用います。"
   ]
  },
  {
   "cell_type": "code",
   "execution_count": null,
   "metadata": {},
   "outputs": [],
   "source": [
    "import pandas as pd\n",
    "from sklearn.datasets import load_boston\n",
    "\n",
    "dataset = load_boston()\n",
    "X = pd.DataFrame(dataset.data,columns=dataset.feature_names)\n",
    "y = pd.Series(dataset.target,name='y')\n",
    "display(X.join(y).head(5))"
   ]
  },
  {
   "cell_type": "markdown",
   "metadata": {},
   "source": [
    "##### モデルの学習\n",
    "変数の重要度とPDP作図の元となる学習器を構築します。"
   ]
  },
  {
   "cell_type": "code",
   "execution_count": null,
   "metadata": {},
   "outputs": [],
   "source": [
    "from sklearn.preprocessing import StandardScaler\n",
    "from sklearn.ensemble import GradientBoostingRegressor\n",
    "from sklearn.pipeline import Pipeline\n",
    "\n",
    "pipe_gbr = Pipeline([('scl',StandardScaler()),\n",
    "                     ('est',GradientBoostingRegressor(random_state=0))])\n",
    "pipe_gbr.fit(X,y)"
   ]
  },
  {
   "cell_type": "markdown",
   "metadata": {},
   "source": [
    "##### 変数の重要度の取得\n",
    "変数の重要度を取得するには、`feature_importances_`属性にアクセスします。"
   ]
  },
  {
   "cell_type": "code",
   "execution_count": null,
   "metadata": {},
   "outputs": [],
   "source": [
    "imp = pipe_gbr.named_steps['est'].feature_importances_\n",
    "imp = pd.Series(imp,index=dataset.feature_names)\n",
    "display(imp)"
   ]
  },
  {
   "cell_type": "markdown",
   "metadata": {},
   "source": [
    "##### PDP(Partial Dependent Plot)の作図\n",
    "PDPの作図には以下のパラメータを指定します。\n",
    "- 学習済みモデル：パイプライン全体ではなく分類/回帰の部分\n",
    "- PDP作図のためのデータセット：訓練データ\n",
    "- データセットのカラムリスト（feature_names)\n",
    "- 作図したい変数（features)"
   ]
  },
  {
   "cell_type": "code",
   "execution_count": null,
   "metadata": {},
   "outputs": [],
   "source": [
    "from sklearn.ensemble.partial_dependence import plot_partial_dependence\n",
    "import matplotlib.pyplot as plt\n",
    "\n",
    "fig,axs= plot_partial_dependence(pipe_gbr.named_steps['est'],\n",
    "                                 pipe_gbr.named_steps['scl'].transform(X),\n",
    "                                 feature_names=dataset.feature_names,\n",
    "                                 features=['RM','LSTAT'])\n",
    "plt.show()"
   ]
  }
 ],
 "metadata": {
  "kernelspec": {
   "display_name": "Python 3",
   "language": "python",
   "name": "python3"
  },
  "language_info": {
   "codemirror_mode": {
    "name": "ipython",
    "version": 3
   },
   "file_extension": ".py",
   "mimetype": "text/x-python",
   "name": "python",
   "nbconvert_exporter": "python",
   "pygments_lexer": "ipython3",
   "version": "3.5.3"
  }
 },
 "nbformat": 4,
 "nbformat_minor": 2
}
