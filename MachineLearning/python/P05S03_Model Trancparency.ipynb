{
  "nbformat": 4,
  "nbformat_minor": 0,
  "metadata": {
    "kernelspec": {
      "display_name": "Python 3",
      "language": "python",
      "name": "python3"
    },
    "language_info": {
      "codemirror_mode": {
        "name": "ipython",
        "version": 3
      },
      "file_extension": ".py",
      "mimetype": "text/x-python",
      "name": "python",
      "nbconvert_exporter": "python",
      "pygments_lexer": "ipython3",
      "version": "3.5.3"
    },
    "colab": {
      "name": "P05S03_Model Trancparency.ipynb",
      "provenance": []
    }
  },
  "cells": [
    {
      "cell_type": "markdown",
      "metadata": {
        "id": "BeH9TS69QuYL"
      },
      "source": [
        "# モデルの中身を覗く"
      ]
    },
    {
      "cell_type": "code",
      "metadata": {
        "id": "B_xkS9MHQ5uE",
        "outputId": "18f50b90-b034-47b3-83f6-464ffeb05726",
        "colab": {
          "base_uri": "https://localhost:8080/"
        }
      },
      "source": [
        "!git clone https://github.com/saiku122/AIJobcolle.git"
      ],
      "execution_count": 1,
      "outputs": [
        {
          "output_type": "stream",
          "text": [
            "Cloning into 'AIJobcolle'...\n",
            "remote: Enumerating objects: 465, done.\u001b[K\n",
            "remote: Counting objects: 100% (465/465), done.\u001b[K\n",
            "remote: Compressing objects: 100% (342/342), done.\u001b[K\n",
            "remote: Total 465 (delta 195), reused 221 (delta 70), pack-reused 0\u001b[K\n",
            "Receiving objects: 100% (465/465), 12.08 MiB | 5.50 MiB/s, done.\n",
            "Resolving deltas: 100% (195/195), done.\n"
          ],
          "name": "stdout"
        }
      ]
    },
    {
      "cell_type": "markdown",
      "metadata": {
        "id": "_R6OmZ-oQuYV"
      },
      "source": [
        "ここでは変数の重要度の取得方法とPDPの作図法を学びます。"
      ]
    },
    {
      "cell_type": "markdown",
      "metadata": {
        "id": "ZSRQt0HsQuYV"
      },
      "source": [
        "##### サンプルデータの読み込み\n",
        "データはボストン住宅価格データを用います。"
      ]
    },
    {
      "cell_type": "code",
      "metadata": {
        "id": "5WEfDbwPQuYW"
      },
      "source": [
        "import pandas as pd\n",
        "from sklearn.datasets import load_boston\n",
        "\n",
        "dataset = load_boston()\n",
        "X = pd.DataFrame(dataset.data,columns=dataset.feature_names)\n",
        "y = pd.Series(dataset.target,name='y')\n",
        "display(X.join(y).head(5))"
      ],
      "execution_count": null,
      "outputs": []
    },
    {
      "cell_type": "markdown",
      "metadata": {
        "id": "vV02Vu3mQuYX"
      },
      "source": [
        "##### モデルの学習\n",
        "変数の重要度とPDP作図の元となる学習器を構築します。"
      ]
    },
    {
      "cell_type": "code",
      "metadata": {
        "id": "IhpsqFwpQuYX"
      },
      "source": [
        "from sklearn.preprocessing import StandardScaler\n",
        "from sklearn.ensemble import GradientBoostingRegressor\n",
        "from sklearn.pipeline import Pipeline\n",
        "\n",
        "pipe_gbr = Pipeline([('scl',StandardScaler()),\n",
        "                     ('est',GradientBoostingRegressor(random_state=0))])\n",
        "pipe_gbr.fit(X,y)"
      ],
      "execution_count": null,
      "outputs": []
    },
    {
      "cell_type": "markdown",
      "metadata": {
        "id": "7X--iXeMQuYY"
      },
      "source": [
        "##### 変数の重要度の取得\n",
        "変数の重要度を取得するには、`feature_importances_`属性にアクセスします。"
      ]
    },
    {
      "cell_type": "code",
      "metadata": {
        "id": "OP34iXXuQuYY"
      },
      "source": [
        "imp = pipe_gbr.named_steps['est'].feature_importances_\n",
        "imp = pd.Series(imp,index=dataset.feature_names)\n",
        "display(imp)"
      ],
      "execution_count": null,
      "outputs": []
    },
    {
      "cell_type": "markdown",
      "metadata": {
        "id": "3jIKIVh5QuYY"
      },
      "source": [
        "##### PDP(Partial Dependent Plot)の作図\n",
        "PDPの作図には以下のパラメータを指定します。\n",
        "- 学習済みモデル：パイプライン全体ではなく分類/回帰の部分\n",
        "- PDP作図のためのデータセット：訓練データ\n",
        "- データセットのカラムリスト（feature_names)\n",
        "- 作図したい変数（features)"
      ]
    },
    {
      "cell_type": "code",
      "metadata": {
        "id": "gIlo5CO7QuYY"
      },
      "source": [
        "from sklearn.ensemble.partial_dependence import plot_partial_dependence\n",
        "import matplotlib.pyplot as plt\n",
        "\n",
        "fig,axs= plot_partial_dependence(pipe_gbr.named_steps['est'],\n",
        "                                 pipe_gbr.named_steps['scl'].transform(X),\n",
        "                                 feature_names=dataset.feature_names,\n",
        "                                 features=['RM','LSTAT'])\n",
        "plt.show()"
      ],
      "execution_count": null,
      "outputs": []
    }
  ]
}