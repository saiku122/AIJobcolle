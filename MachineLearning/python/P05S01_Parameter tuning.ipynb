{
  "nbformat": 4,
  "nbformat_minor": 0,
  "metadata": {
    "kernelspec": {
      "display_name": "Python 3",
      "language": "python",
      "name": "python3"
    },
    "language_info": {
      "codemirror_mode": {
        "name": "ipython",
        "version": 3
      },
      "file_extension": ".py",
      "mimetype": "text/x-python",
      "name": "python",
      "nbconvert_exporter": "python",
      "pygments_lexer": "ipython3",
      "version": "3.5.3"
    },
    "colab": {
      "name": "P05S01_Parameter tuning.ipynb",
      "provenance": []
    }
  },
  "cells": [
    {
      "cell_type": "markdown",
      "metadata": {
        "id": "S1VPU2lkMli7"
      },
      "source": [
        "## パラメータ・チューニング（グリッドサーチ）"
      ]
    },
    {
      "cell_type": "code",
      "metadata": {
        "id": "3x4-5qiGMxd7",
        "outputId": "5cb29fa6-8dd3-4b95-ca62-d02c278ccc24",
        "colab": {
          "base_uri": "https://localhost:8080/"
        }
      },
      "source": [
        "!git clone https://github.com/saiku122/AIJobcolle.git"
      ],
      "execution_count": 1,
      "outputs": [
        {
          "output_type": "stream",
          "text": [
            "Cloning into 'AIJobcolle'...\n",
            "remote: Enumerating objects: 465, done.\u001b[K\n",
            "remote: Counting objects: 100% (465/465), done.\u001b[K\n",
            "remote: Compressing objects: 100% (342/342), done.\u001b[K\n",
            "remote: Total 465 (delta 195), reused 221 (delta 70), pack-reused 0\u001b[K\n",
            "Receiving objects: 100% (465/465), 12.08 MiB | 15.50 MiB/s, done.\n",
            "Resolving deltas: 100% (195/195), done.\n"
          ],
          "name": "stdout"
        }
      ]
    },
    {
      "cell_type": "code",
      "metadata": {
        "id": "pvoSrHQfM2ia",
        "outputId": "df4b0c70-b85d-4248-dae0-6e3045e5d28b",
        "colab": {
          "base_uri": "https://localhost:8080/"
        }
      },
      "source": [
        "cd /content/AIJobcolle/MachineLearning/python"
      ],
      "execution_count": 2,
      "outputs": [
        {
          "output_type": "stream",
          "text": [
            "/content/AIJobcolle/MachineLearning/python\n"
          ],
          "name": "stdout"
        }
      ]
    },
    {
      "cell_type": "markdown",
      "metadata": {
        "id": "4tn3xyBLMljC"
      },
      "source": [
        "##### サンプルデータの読み込み\n",
        "ここではグリッドサーチの実行方法について学びます。<br>\n",
        "まずはサンプルデータ（分類用）を読み込みます。"
      ]
    },
    {
      "cell_type": "code",
      "metadata": {
        "collapsed": true,
        "id": "Ue35fgV3MljD",
        "outputId": "e9fcfa32-49f5-4025-ed85-ec6a1145135b",
        "colab": {
          "base_uri": "https://localhost:8080/",
          "height": 193
        }
      },
      "source": [
        "# Breast cancer dataset for binary classification\n",
        "import pandas as pd\n",
        "from sklearn.datasets import load_breast_cancer\n",
        "\n",
        "# Set X and y\n",
        "dataset = load_breast_cancer()\n",
        "X = pd.DataFrame(dataset.data, columns=dataset.feature_names)\n",
        "y = pd.Series(dataset.target, name='y')\n",
        "X.join(y).head(3)"
      ],
      "execution_count": 3,
      "outputs": [
        {
          "output_type": "execute_result",
          "data": {
            "text/html": [
              "<div>\n",
              "<style scoped>\n",
              "    .dataframe tbody tr th:only-of-type {\n",
              "        vertical-align: middle;\n",
              "    }\n",
              "\n",
              "    .dataframe tbody tr th {\n",
              "        vertical-align: top;\n",
              "    }\n",
              "\n",
              "    .dataframe thead th {\n",
              "        text-align: right;\n",
              "    }\n",
              "</style>\n",
              "<table border=\"1\" class=\"dataframe\">\n",
              "  <thead>\n",
              "    <tr style=\"text-align: right;\">\n",
              "      <th></th>\n",
              "      <th>mean radius</th>\n",
              "      <th>mean texture</th>\n",
              "      <th>mean perimeter</th>\n",
              "      <th>mean area</th>\n",
              "      <th>mean smoothness</th>\n",
              "      <th>mean compactness</th>\n",
              "      <th>mean concavity</th>\n",
              "      <th>mean concave points</th>\n",
              "      <th>mean symmetry</th>\n",
              "      <th>mean fractal dimension</th>\n",
              "      <th>radius error</th>\n",
              "      <th>texture error</th>\n",
              "      <th>perimeter error</th>\n",
              "      <th>area error</th>\n",
              "      <th>smoothness error</th>\n",
              "      <th>compactness error</th>\n",
              "      <th>concavity error</th>\n",
              "      <th>concave points error</th>\n",
              "      <th>symmetry error</th>\n",
              "      <th>fractal dimension error</th>\n",
              "      <th>worst radius</th>\n",
              "      <th>worst texture</th>\n",
              "      <th>worst perimeter</th>\n",
              "      <th>worst area</th>\n",
              "      <th>worst smoothness</th>\n",
              "      <th>worst compactness</th>\n",
              "      <th>worst concavity</th>\n",
              "      <th>worst concave points</th>\n",
              "      <th>worst symmetry</th>\n",
              "      <th>worst fractal dimension</th>\n",
              "      <th>y</th>\n",
              "    </tr>\n",
              "  </thead>\n",
              "  <tbody>\n",
              "    <tr>\n",
              "      <th>0</th>\n",
              "      <td>17.99</td>\n",
              "      <td>10.38</td>\n",
              "      <td>122.8</td>\n",
              "      <td>1001.0</td>\n",
              "      <td>0.11840</td>\n",
              "      <td>0.27760</td>\n",
              "      <td>0.3001</td>\n",
              "      <td>0.14710</td>\n",
              "      <td>0.2419</td>\n",
              "      <td>0.07871</td>\n",
              "      <td>1.0950</td>\n",
              "      <td>0.9053</td>\n",
              "      <td>8.589</td>\n",
              "      <td>153.40</td>\n",
              "      <td>0.006399</td>\n",
              "      <td>0.04904</td>\n",
              "      <td>0.05373</td>\n",
              "      <td>0.01587</td>\n",
              "      <td>0.03003</td>\n",
              "      <td>0.006193</td>\n",
              "      <td>25.38</td>\n",
              "      <td>17.33</td>\n",
              "      <td>184.6</td>\n",
              "      <td>2019.0</td>\n",
              "      <td>0.1622</td>\n",
              "      <td>0.6656</td>\n",
              "      <td>0.7119</td>\n",
              "      <td>0.2654</td>\n",
              "      <td>0.4601</td>\n",
              "      <td>0.11890</td>\n",
              "      <td>0</td>\n",
              "    </tr>\n",
              "    <tr>\n",
              "      <th>1</th>\n",
              "      <td>20.57</td>\n",
              "      <td>17.77</td>\n",
              "      <td>132.9</td>\n",
              "      <td>1326.0</td>\n",
              "      <td>0.08474</td>\n",
              "      <td>0.07864</td>\n",
              "      <td>0.0869</td>\n",
              "      <td>0.07017</td>\n",
              "      <td>0.1812</td>\n",
              "      <td>0.05667</td>\n",
              "      <td>0.5435</td>\n",
              "      <td>0.7339</td>\n",
              "      <td>3.398</td>\n",
              "      <td>74.08</td>\n",
              "      <td>0.005225</td>\n",
              "      <td>0.01308</td>\n",
              "      <td>0.01860</td>\n",
              "      <td>0.01340</td>\n",
              "      <td>0.01389</td>\n",
              "      <td>0.003532</td>\n",
              "      <td>24.99</td>\n",
              "      <td>23.41</td>\n",
              "      <td>158.8</td>\n",
              "      <td>1956.0</td>\n",
              "      <td>0.1238</td>\n",
              "      <td>0.1866</td>\n",
              "      <td>0.2416</td>\n",
              "      <td>0.1860</td>\n",
              "      <td>0.2750</td>\n",
              "      <td>0.08902</td>\n",
              "      <td>0</td>\n",
              "    </tr>\n",
              "    <tr>\n",
              "      <th>2</th>\n",
              "      <td>19.69</td>\n",
              "      <td>21.25</td>\n",
              "      <td>130.0</td>\n",
              "      <td>1203.0</td>\n",
              "      <td>0.10960</td>\n",
              "      <td>0.15990</td>\n",
              "      <td>0.1974</td>\n",
              "      <td>0.12790</td>\n",
              "      <td>0.2069</td>\n",
              "      <td>0.05999</td>\n",
              "      <td>0.7456</td>\n",
              "      <td>0.7869</td>\n",
              "      <td>4.585</td>\n",
              "      <td>94.03</td>\n",
              "      <td>0.006150</td>\n",
              "      <td>0.04006</td>\n",
              "      <td>0.03832</td>\n",
              "      <td>0.02058</td>\n",
              "      <td>0.02250</td>\n",
              "      <td>0.004571</td>\n",
              "      <td>23.57</td>\n",
              "      <td>25.53</td>\n",
              "      <td>152.5</td>\n",
              "      <td>1709.0</td>\n",
              "      <td>0.1444</td>\n",
              "      <td>0.4245</td>\n",
              "      <td>0.4504</td>\n",
              "      <td>0.2430</td>\n",
              "      <td>0.3613</td>\n",
              "      <td>0.08758</td>\n",
              "      <td>0</td>\n",
              "    </tr>\n",
              "  </tbody>\n",
              "</table>\n",
              "</div>"
            ],
            "text/plain": [
              "   mean radius  mean texture  ...  worst fractal dimension  y\n",
              "0        17.99         10.38  ...                  0.11890  0\n",
              "1        20.57         17.77  ...                  0.08902  0\n",
              "2        19.69         21.25  ...                  0.08758  0\n",
              "\n",
              "[3 rows x 31 columns]"
            ]
          },
          "metadata": {
            "tags": []
          },
          "execution_count": 3
        }
      ]
    },
    {
      "cell_type": "markdown",
      "metadata": {
        "id": "nAoFbCyoMljE"
      },
      "source": [
        "##### チューニングするパイプラインの設定\n",
        "分類器としてロジスティック回帰を設定しておきます。<br>\n",
        "その際、以下を認識しておきましょう。\n",
        "- ここでは、学習器の略称として\"est\"、次元圧縮に\"pca\"を使います\n",
        "- 本記号がグリッドサーチ時の設定にも使われます。"
      ]
    },
    {
      "cell_type": "code",
      "metadata": {
        "collapsed": true,
        "id": "t805a2mHMljE"
      },
      "source": [
        "from sklearn.preprocessing import StandardScaler\n",
        "from sklearn.model_selection import GridSearchCV\n",
        "from sklearn.decomposition import PCA\n",
        "from sklearn.linear_model import LogisticRegression\n",
        "from sklearn.ensemble import GradientBoostingClassifier\n",
        "from sklearn.pipeline import Pipeline\n",
        "from sklearn.metrics import f1_score\n",
        "\n",
        "# パイプラインの設定\n",
        "pipe_logistic = Pipeline([('scl', StandardScaler()),\n",
        "                          ('pca', PCA(random_state=1)),\n",
        "                          ('est', LogisticRegression(solver='lbfgs',random_state=1))])"
      ],
      "execution_count": 4,
      "outputs": []
    },
    {
      "cell_type": "markdown",
      "metadata": {
        "id": "adPlqW4xMljF"
      },
      "source": [
        "##### グリッドサーチ条件の設定方法\n",
        "グリッドサーチによる探索条件の設定は、以下のルールに従います。\n",
        "- 上記指定の文字列\"pca\"や\"est\"と各アルゴリズムが持つパラメータ名の文字列を結合"
      ]
    },
    {
      "cell_type": "markdown",
      "metadata": {
        "id": "puyOs87FMljF"
      },
      "source": [
        "下記設定例で、具体的に、上記ルールの設定方法を確認しましょう。\n",
        "- 主成分圧縮：抽出主成分数を5,7,9の3通り\n",
        "- ロジスティック回帰：正則化パラメータは0.1から100の4通り"
      ]
    },
    {
      "cell_type": "code",
      "metadata": {
        "collapsed": true,
        "id": "4B-a2XAHMljF"
      },
      "source": [
        "# パラメータグリッドの設定方法\n",
        "param_grid_logistic = {'pca__n_components':[5,7,9],\n",
        "                       'est__C':[0.1,1.0,10.0,100.0]}"
      ],
      "execution_count": 5,
      "outputs": []
    },
    {
      "cell_type": "markdown",
      "metadata": {
        "id": "Sskio3_YMljF"
      },
      "source": [
        "##### グリッドサーチの実行（学習）\n",
        "ハイパーパラメータの異なるモデルの評価はGridSerachCVで行うことができます。<br>\n",
        "gsをfitした時点で、各パラメータのモデルの構築と評価を終え、ベストモデルを内部で保持するところまで全自動で動きます。"
      ]
    },
    {
      "cell_type": "code",
      "metadata": {
        "id": "Nzlfnz4YMljG",
        "outputId": "e2282d91-3c57-475f-843a-55e95e4d07e2",
        "colab": {
          "base_uri": "https://localhost:8080/"
        }
      },
      "source": [
        "print('探索空間:%s' %param_grid_logistic)\n",
        "gs = GridSearchCV(estimator=pipe_logistic,\n",
        "                  param_grid=param_grid_logistic,\n",
        "                  scoring='f1',\n",
        "                  cv=3,\n",
        "                  return_train_score=False)\n",
        "gs.fit(X, y)"
      ],
      "execution_count": 6,
      "outputs": [
        {
          "output_type": "stream",
          "text": [
            "探索空間:{'pca__n_components': [5, 7, 9], 'est__C': [0.1, 1.0, 10.0, 100.0]}\n"
          ],
          "name": "stdout"
        },
        {
          "output_type": "execute_result",
          "data": {
            "text/plain": [
              "GridSearchCV(cv=3, error_score=nan,\n",
              "             estimator=Pipeline(memory=None,\n",
              "                                steps=[('scl',\n",
              "                                        StandardScaler(copy=True,\n",
              "                                                       with_mean=True,\n",
              "                                                       with_std=True)),\n",
              "                                       ('pca',\n",
              "                                        PCA(copy=True, iterated_power='auto',\n",
              "                                            n_components=None, random_state=1,\n",
              "                                            svd_solver='auto', tol=0.0,\n",
              "                                            whiten=False)),\n",
              "                                       ('est',\n",
              "                                        LogisticRegression(C=1.0,\n",
              "                                                           class_weight=None,\n",
              "                                                           dual=False,\n",
              "                                                           fit_intercept=True,\n",
              "                                                           intercept_scaling=1,\n",
              "                                                           l1_ratio=None,\n",
              "                                                           max_iter=100,\n",
              "                                                           multi_class='auto',\n",
              "                                                           n_jobs=None,\n",
              "                                                           penalty='l2',\n",
              "                                                           random_state=1,\n",
              "                                                           solver='lbfgs',\n",
              "                                                           tol=0.0001,\n",
              "                                                           verbose=0,\n",
              "                                                           warm_start=False))],\n",
              "                                verbose=False),\n",
              "             iid='deprecated', n_jobs=None,\n",
              "             param_grid={'est__C': [0.1, 1.0, 10.0, 100.0],\n",
              "                         'pca__n_components': [5, 7, 9]},\n",
              "             pre_dispatch='2*n_jobs', refit=True, return_train_score=False,\n",
              "             scoring='f1', verbose=0)"
            ]
          },
          "metadata": {
            "tags": []
          },
          "execution_count": 6
        }
      ]
    },
    {
      "cell_type": "markdown",
      "metadata": {
        "id": "FOQhCpEgMljH"
      },
      "source": [
        "ベストモデルで予測をしたい場合は以下です。"
      ]
    },
    {
      "cell_type": "code",
      "metadata": {
        "collapsed": true,
        "id": "NyiD49wQMljH",
        "outputId": "50d4329e-9340-460b-d491-afbdf735ba8a",
        "colab": {
          "base_uri": "https://localhost:8080/"
        }
      },
      "source": [
        "gs.predict_proba(X)"
      ],
      "execution_count": 7,
      "outputs": [
        {
          "output_type": "execute_result",
          "data": {
            "text/plain": [
              "array([[9.99999991e-01, 9.16949126e-09],\n",
              "       [9.99858219e-01, 1.41781006e-04],\n",
              "       [9.99999722e-01, 2.78322042e-07],\n",
              "       ...,\n",
              "       [9.94479111e-01, 5.52088883e-03],\n",
              "       [1.00000000e+00, 2.00899844e-11],\n",
              "       [7.89925108e-06, 9.99992101e-01]])"
            ]
          },
          "metadata": {
            "tags": []
          },
          "execution_count": 7
        }
      ]
    },
    {
      "cell_type": "markdown",
      "metadata": {
        "id": "9OtfK_KeMljH"
      },
      "source": [
        "グリッドサーチの探索結果を閲覧したい場合は以下です。"
      ]
    },
    {
      "cell_type": "code",
      "metadata": {
        "collapsed": true,
        "id": "sScNLJXgMljH",
        "outputId": "536237cc-5da4-48bd-a90c-f9755aa62e5a",
        "colab": {
          "base_uri": "https://localhost:8080/",
          "height": 389
        }
      },
      "source": [
        "pd.DataFrame(gs.cv_results_).head()"
      ],
      "execution_count": 8,
      "outputs": [
        {
          "output_type": "execute_result",
          "data": {
            "text/html": [
              "<div>\n",
              "<style scoped>\n",
              "    .dataframe tbody tr th:only-of-type {\n",
              "        vertical-align: middle;\n",
              "    }\n",
              "\n",
              "    .dataframe tbody tr th {\n",
              "        vertical-align: top;\n",
              "    }\n",
              "\n",
              "    .dataframe thead th {\n",
              "        text-align: right;\n",
              "    }\n",
              "</style>\n",
              "<table border=\"1\" class=\"dataframe\">\n",
              "  <thead>\n",
              "    <tr style=\"text-align: right;\">\n",
              "      <th></th>\n",
              "      <th>mean_fit_time</th>\n",
              "      <th>std_fit_time</th>\n",
              "      <th>mean_score_time</th>\n",
              "      <th>std_score_time</th>\n",
              "      <th>param_est__C</th>\n",
              "      <th>param_pca__n_components</th>\n",
              "      <th>params</th>\n",
              "      <th>split0_test_score</th>\n",
              "      <th>split1_test_score</th>\n",
              "      <th>split2_test_score</th>\n",
              "      <th>mean_test_score</th>\n",
              "      <th>std_test_score</th>\n",
              "      <th>rank_test_score</th>\n",
              "    </tr>\n",
              "  </thead>\n",
              "  <tbody>\n",
              "    <tr>\n",
              "      <th>0</th>\n",
              "      <td>0.022323</td>\n",
              "      <td>0.013587</td>\n",
              "      <td>0.004618</td>\n",
              "      <td>0.001824</td>\n",
              "      <td>0.1</td>\n",
              "      <td>5</td>\n",
              "      <td>{'est__C': 0.1, 'pca__n_components': 5}</td>\n",
              "      <td>0.979424</td>\n",
              "      <td>0.975410</td>\n",
              "      <td>0.978903</td>\n",
              "      <td>0.977912</td>\n",
              "      <td>0.001782</td>\n",
              "      <td>5</td>\n",
              "    </tr>\n",
              "    <tr>\n",
              "      <th>1</th>\n",
              "      <td>0.012787</td>\n",
              "      <td>0.000774</td>\n",
              "      <td>0.003422</td>\n",
              "      <td>0.000127</td>\n",
              "      <td>0.1</td>\n",
              "      <td>7</td>\n",
              "      <td>{'est__C': 0.1, 'pca__n_components': 7}</td>\n",
              "      <td>0.983471</td>\n",
              "      <td>0.975410</td>\n",
              "      <td>0.983051</td>\n",
              "      <td>0.980644</td>\n",
              "      <td>0.003705</td>\n",
              "      <td>2</td>\n",
              "    </tr>\n",
              "    <tr>\n",
              "      <th>2</th>\n",
              "      <td>0.013005</td>\n",
              "      <td>0.000161</td>\n",
              "      <td>0.006128</td>\n",
              "      <td>0.004042</td>\n",
              "      <td>0.1</td>\n",
              "      <td>9</td>\n",
              "      <td>{'est__C': 0.1, 'pca__n_components': 9}</td>\n",
              "      <td>0.983471</td>\n",
              "      <td>0.971429</td>\n",
              "      <td>0.983193</td>\n",
              "      <td>0.979364</td>\n",
              "      <td>0.005613</td>\n",
              "      <td>4</td>\n",
              "    </tr>\n",
              "    <tr>\n",
              "      <th>3</th>\n",
              "      <td>0.015355</td>\n",
              "      <td>0.002602</td>\n",
              "      <td>0.003933</td>\n",
              "      <td>0.000858</td>\n",
              "      <td>1</td>\n",
              "      <td>5</td>\n",
              "      <td>{'est__C': 1.0, 'pca__n_components': 5}</td>\n",
              "      <td>0.983333</td>\n",
              "      <td>0.983471</td>\n",
              "      <td>0.974359</td>\n",
              "      <td>0.980388</td>\n",
              "      <td>0.004263</td>\n",
              "      <td>3</td>\n",
              "    </tr>\n",
              "    <tr>\n",
              "      <th>4</th>\n",
              "      <td>0.014794</td>\n",
              "      <td>0.001019</td>\n",
              "      <td>0.003361</td>\n",
              "      <td>0.000151</td>\n",
              "      <td>1</td>\n",
              "      <td>7</td>\n",
              "      <td>{'est__C': 1.0, 'pca__n_components': 7}</td>\n",
              "      <td>0.983333</td>\n",
              "      <td>0.971193</td>\n",
              "      <td>0.974359</td>\n",
              "      <td>0.976295</td>\n",
              "      <td>0.005142</td>\n",
              "      <td>6</td>\n",
              "    </tr>\n",
              "  </tbody>\n",
              "</table>\n",
              "</div>"
            ],
            "text/plain": [
              "   mean_fit_time  std_fit_time  ...  std_test_score  rank_test_score\n",
              "0       0.022323      0.013587  ...        0.001782                5\n",
              "1       0.012787      0.000774  ...        0.003705                2\n",
              "2       0.013005      0.000161  ...        0.005613                4\n",
              "3       0.015355      0.002602  ...        0.004263                3\n",
              "4       0.014794      0.001019  ...        0.005142                6\n",
              "\n",
              "[5 rows x 13 columns]"
            ]
          },
          "metadata": {
            "tags": []
          },
          "execution_count": 8
        }
      ]
    },
    {
      "cell_type": "markdown",
      "metadata": {
        "id": "5sCI6suCMljI"
      },
      "source": [
        "以上でグリッドサーチの実行は終了です。"
      ]
    },
    {
      "cell_type": "markdown",
      "metadata": {
        "id": "2DjUCivpMljI"
      },
      "source": [
        "<b>[確認してみよう]</b>Scikit-learn公式ドキュメントで、GridSearchCVクラスのメソッド（precidt, predict_proba）が、ベストモデルで行われているということを確認しよう。\n",
        "- 以下のページで、Methods部分の説明文を読んでみよう\n",
        "- https://scikit-learn.org/stable/modules/generated/sklearn.model_selection.GridSearchCV.html#sklearn.model_selection.GridSearchCV"
      ]
    }
  ]
}