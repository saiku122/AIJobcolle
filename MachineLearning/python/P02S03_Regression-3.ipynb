{
  "nbformat": 4,
  "nbformat_minor": 0,
  "metadata": {
    "kernelspec": {
      "display_name": "Python 3",
      "language": "python",
      "name": "python3"
    },
    "language_info": {
      "codemirror_mode": {
        "name": "ipython",
        "version": 3
      },
      "file_extension": ".py",
      "mimetype": "text/x-python",
      "name": "python",
      "nbconvert_exporter": "python",
      "pygments_lexer": "ipython3",
      "version": "3.5.3"
    },
    "colab": {
      "name": "P02S03_Regression-3.ipynb",
      "provenance": [],
      "include_colab_link": true
    }
  },
  "cells": [
    {
      "cell_type": "markdown",
      "metadata": {
        "id": "view-in-github",
        "colab_type": "text"
      },
      "source": [
        "<a href=\"https://colab.research.google.com/github/saiku122/AIJobcolle/blob/master/MachineLearning/python/P02S03_Regression-3.ipynb\" target=\"_parent\"><img src=\"https://colab.research.google.com/assets/colab-badge.svg\" alt=\"Open In Colab\"/></a>"
      ]
    },
    {
      "cell_type": "markdown",
      "metadata": {
        "id": "LJ3vb0hTBkHX"
      },
      "source": [
        "# Regression-3: model performance"
      ]
    },
    {
      "cell_type": "code",
      "metadata": {
        "id": "vDZaCyWrBmRn",
        "outputId": "0d05b19f-66be-4da9-a44d-6d279c7e813e",
        "colab": {
          "base_uri": "https://localhost:8080/"
        }
      },
      "source": [
        "!git clone https://github.com/saiku122/AIJobcolle.git"
      ],
      "execution_count": 1,
      "outputs": [
        {
          "output_type": "stream",
          "text": [
            "Cloning into 'AIJobcolle'...\n",
            "remote: Enumerating objects: 109, done.\u001b[K\n",
            "remote: Counting objects: 100% (109/109), done.\u001b[K\n",
            "remote: Compressing objects: 100% (78/78), done.\u001b[K\n",
            "remote: Total 109 (delta 37), reused 54 (delta 12), pack-reused 0\u001b[K\n",
            "Receiving objects: 100% (109/109), 2.53 MiB | 6.55 MiB/s, done.\n",
            "Resolving deltas: 100% (37/37), done.\n"
          ],
          "name": "stdout"
        }
      ]
    },
    {
      "cell_type": "markdown",
      "metadata": {
        "id": "hGpMCIVFBkHd"
      },
      "source": [
        "これまでに学習した様々なアルゴリズムの性能を比較してみましょう。<br>データはボストン・ハウジングデータを使います。"
      ]
    },
    {
      "cell_type": "code",
      "metadata": {
        "id": "sjw9lKz-BvV2",
        "outputId": "14bce62a-5e95-49d8-d087-96d20495df8f",
        "colab": {
          "base_uri": "https://localhost:8080/"
        }
      },
      "source": [
        "cd /content/AIJobcolle/MachineLearning/python"
      ],
      "execution_count": 2,
      "outputs": [
        {
          "output_type": "stream",
          "text": [
            "/content/AIJobcolle/MachineLearning/python\n"
          ],
          "name": "stdout"
        }
      ]
    },
    {
      "cell_type": "code",
      "metadata": {
        "id": "dWZ6Ak09BkHe",
        "outputId": "54a49d70-29e7-4af8-8118-25555570a8f4",
        "colab": {
          "base_uri": "https://localhost:8080/",
          "height": 255
        }
      },
      "source": [
        "# import data for regression\n",
        "import pandas as pd\n",
        "from IPython.core.display import display\n",
        "from sklearn.datasets import load_boston\n",
        "\n",
        "# set data by role\n",
        "dataset = load_boston()\n",
        "X = pd.DataFrame(dataset.data, columns=dataset.feature_names)\n",
        "y = pd.Series(dataset.target, name='y')\n",
        "\n",
        "# check the shape\n",
        "print('-----------------------------------')\n",
        "print('X shape: (%i,%i)' %X.shape)\n",
        "print('-----------------------------------')\n",
        "display(X.join(y).head())"
      ],
      "execution_count": 3,
      "outputs": [
        {
          "output_type": "stream",
          "text": [
            "-----------------------------------\n",
            "X shape: (506,13)\n",
            "-----------------------------------\n"
          ],
          "name": "stdout"
        },
        {
          "output_type": "display_data",
          "data": {
            "text/html": [
              "<div>\n",
              "<style scoped>\n",
              "    .dataframe tbody tr th:only-of-type {\n",
              "        vertical-align: middle;\n",
              "    }\n",
              "\n",
              "    .dataframe tbody tr th {\n",
              "        vertical-align: top;\n",
              "    }\n",
              "\n",
              "    .dataframe thead th {\n",
              "        text-align: right;\n",
              "    }\n",
              "</style>\n",
              "<table border=\"1\" class=\"dataframe\">\n",
              "  <thead>\n",
              "    <tr style=\"text-align: right;\">\n",
              "      <th></th>\n",
              "      <th>CRIM</th>\n",
              "      <th>ZN</th>\n",
              "      <th>INDUS</th>\n",
              "      <th>CHAS</th>\n",
              "      <th>NOX</th>\n",
              "      <th>RM</th>\n",
              "      <th>AGE</th>\n",
              "      <th>DIS</th>\n",
              "      <th>RAD</th>\n",
              "      <th>TAX</th>\n",
              "      <th>PTRATIO</th>\n",
              "      <th>B</th>\n",
              "      <th>LSTAT</th>\n",
              "      <th>y</th>\n",
              "    </tr>\n",
              "  </thead>\n",
              "  <tbody>\n",
              "    <tr>\n",
              "      <th>0</th>\n",
              "      <td>0.00632</td>\n",
              "      <td>18.0</td>\n",
              "      <td>2.31</td>\n",
              "      <td>0.0</td>\n",
              "      <td>0.538</td>\n",
              "      <td>6.575</td>\n",
              "      <td>65.2</td>\n",
              "      <td>4.0900</td>\n",
              "      <td>1.0</td>\n",
              "      <td>296.0</td>\n",
              "      <td>15.3</td>\n",
              "      <td>396.90</td>\n",
              "      <td>4.98</td>\n",
              "      <td>24.0</td>\n",
              "    </tr>\n",
              "    <tr>\n",
              "      <th>1</th>\n",
              "      <td>0.02731</td>\n",
              "      <td>0.0</td>\n",
              "      <td>7.07</td>\n",
              "      <td>0.0</td>\n",
              "      <td>0.469</td>\n",
              "      <td>6.421</td>\n",
              "      <td>78.9</td>\n",
              "      <td>4.9671</td>\n",
              "      <td>2.0</td>\n",
              "      <td>242.0</td>\n",
              "      <td>17.8</td>\n",
              "      <td>396.90</td>\n",
              "      <td>9.14</td>\n",
              "      <td>21.6</td>\n",
              "    </tr>\n",
              "    <tr>\n",
              "      <th>2</th>\n",
              "      <td>0.02729</td>\n",
              "      <td>0.0</td>\n",
              "      <td>7.07</td>\n",
              "      <td>0.0</td>\n",
              "      <td>0.469</td>\n",
              "      <td>7.185</td>\n",
              "      <td>61.1</td>\n",
              "      <td>4.9671</td>\n",
              "      <td>2.0</td>\n",
              "      <td>242.0</td>\n",
              "      <td>17.8</td>\n",
              "      <td>392.83</td>\n",
              "      <td>4.03</td>\n",
              "      <td>34.7</td>\n",
              "    </tr>\n",
              "    <tr>\n",
              "      <th>3</th>\n",
              "      <td>0.03237</td>\n",
              "      <td>0.0</td>\n",
              "      <td>2.18</td>\n",
              "      <td>0.0</td>\n",
              "      <td>0.458</td>\n",
              "      <td>6.998</td>\n",
              "      <td>45.8</td>\n",
              "      <td>6.0622</td>\n",
              "      <td>3.0</td>\n",
              "      <td>222.0</td>\n",
              "      <td>18.7</td>\n",
              "      <td>394.63</td>\n",
              "      <td>2.94</td>\n",
              "      <td>33.4</td>\n",
              "    </tr>\n",
              "    <tr>\n",
              "      <th>4</th>\n",
              "      <td>0.06905</td>\n",
              "      <td>0.0</td>\n",
              "      <td>2.18</td>\n",
              "      <td>0.0</td>\n",
              "      <td>0.458</td>\n",
              "      <td>7.147</td>\n",
              "      <td>54.2</td>\n",
              "      <td>6.0622</td>\n",
              "      <td>3.0</td>\n",
              "      <td>222.0</td>\n",
              "      <td>18.7</td>\n",
              "      <td>396.90</td>\n",
              "      <td>5.33</td>\n",
              "      <td>36.2</td>\n",
              "    </tr>\n",
              "  </tbody>\n",
              "</table>\n",
              "</div>"
            ],
            "text/plain": [
              "      CRIM    ZN  INDUS  CHAS    NOX  ...    TAX  PTRATIO       B  LSTAT     y\n",
              "0  0.00632  18.0   2.31   0.0  0.538  ...  296.0     15.3  396.90   4.98  24.0\n",
              "1  0.02731   0.0   7.07   0.0  0.469  ...  242.0     17.8  396.90   9.14  21.6\n",
              "2  0.02729   0.0   7.07   0.0  0.469  ...  242.0     17.8  392.83   4.03  34.7\n",
              "3  0.03237   0.0   2.18   0.0  0.458  ...  222.0     18.7  394.63   2.94  33.4\n",
              "4  0.06905   0.0   2.18   0.0  0.458  ...  222.0     18.7  396.90   5.33  36.2\n",
              "\n",
              "[5 rows x 14 columns]"
            ]
          },
          "metadata": {
            "tags": []
          }
        }
      ]
    },
    {
      "cell_type": "markdown",
      "metadata": {
        "id": "-nmvhAbKBkHf"
      },
      "source": [
        "ツリー系のアルゴリズム（ランダムフォレストや勾配ブースティングなど）を除き、通常、機械学習モデルは入力ベクトルのスケールを統一させる必要があります。ここではその処理をPipelineに組み込み対応しています。"
      ]
    },
    {
      "cell_type": "code",
      "metadata": {
        "id": "zRIN-KuPBkHh",
        "outputId": "c264244f-557d-4e00-8b4b-28b7e45b2e6c",
        "colab": {
          "base_uri": "https://localhost:8080/",
          "height": 235
        }
      },
      "source": [
        "from sklearn.preprocessing import StandardScaler\n",
        "from sklearn.model_selection import train_test_split\n",
        "from sklearn.linear_model import LinearRegression,Ridge\n",
        "from sklearn.tree import DecisionTreeRegressor\n",
        "from sklearn.ensemble import RandomForestRegressor,GradientBoostingRegressor\n",
        "from sklearn.pipeline import Pipeline\n",
        "from sklearn.metrics import r2_score\n",
        "\n",
        "# ホールドアウト\n",
        "X_train,X_test,y_train,y_test = train_test_split(X,\n",
        "                                                 y,\n",
        "                                                 test_size=0.20,\n",
        "                                                 random_state=1)\n",
        "# pipeline setting\n",
        "pipelines = {\n",
        "     'ols': Pipeline([('scl',StandardScaler()),\n",
        "                      ('est',LinearRegression())]),\n",
        "     \n",
        "     'ridge':Pipeline([('scl',StandardScaler()),\n",
        "                       ('est',Ridge(random_state=0))]),\n",
        "\n",
        "     'tree': Pipeline([('scl',StandardScaler()),\n",
        "                     ('est',DecisionTreeRegressor(random_state=0))]),\n",
        "\n",
        "     'rf': Pipeline([('scl',StandardScaler()),\n",
        "                     ('est',RandomForestRegressor(random_state=0))]),\n",
        "     \n",
        "     'gbr1': Pipeline([('scl',StandardScaler()),\n",
        "                      ('est',GradientBoostingRegressor(random_state=0))]),\n",
        "\n",
        "     'gbr2': Pipeline([('scl',StandardScaler()),\n",
        "                      ('est',GradientBoostingRegressor(n_estimators=250,\n",
        "                                                       random_state=0))])\n",
        "}\n",
        "\n",
        "# build and evaluate\n",
        "scores = {}\n",
        "for pipe_name, pipeline in pipelines.items():\n",
        "    pipeline.fit(X_train, y_train)\n",
        "    scores[(pipe_name,'train')] = r2_score(y_train, pipeline.predict(X_train))\n",
        "    scores[(pipe_name,'test')] = r2_score(y_test, pipeline.predict(X_test))\n",
        "\n",
        "pd.Series(scores).unstack()"
      ],
      "execution_count": 4,
      "outputs": [
        {
          "output_type": "execute_result",
          "data": {
            "text/html": [
              "<div>\n",
              "<style scoped>\n",
              "    .dataframe tbody tr th:only-of-type {\n",
              "        vertical-align: middle;\n",
              "    }\n",
              "\n",
              "    .dataframe tbody tr th {\n",
              "        vertical-align: top;\n",
              "    }\n",
              "\n",
              "    .dataframe thead th {\n",
              "        text-align: right;\n",
              "    }\n",
              "</style>\n",
              "<table border=\"1\" class=\"dataframe\">\n",
              "  <thead>\n",
              "    <tr style=\"text-align: right;\">\n",
              "      <th></th>\n",
              "      <th>test</th>\n",
              "      <th>train</th>\n",
              "    </tr>\n",
              "  </thead>\n",
              "  <tbody>\n",
              "    <tr>\n",
              "      <th>gbr1</th>\n",
              "      <td>0.924835</td>\n",
              "      <td>0.977915</td>\n",
              "    </tr>\n",
              "    <tr>\n",
              "      <th>gbr2</th>\n",
              "      <td>0.925223</td>\n",
              "      <td>0.994840</td>\n",
              "    </tr>\n",
              "    <tr>\n",
              "      <th>ols</th>\n",
              "      <td>0.763417</td>\n",
              "      <td>0.729359</td>\n",
              "    </tr>\n",
              "    <tr>\n",
              "      <th>rf</th>\n",
              "      <td>0.910477</td>\n",
              "      <td>0.982888</td>\n",
              "    </tr>\n",
              "    <tr>\n",
              "      <th>ridge</th>\n",
              "      <td>0.763404</td>\n",
              "      <td>0.729336</td>\n",
              "    </tr>\n",
              "    <tr>\n",
              "      <th>tree</th>\n",
              "      <td>0.821282</td>\n",
              "      <td>1.000000</td>\n",
              "    </tr>\n",
              "  </tbody>\n",
              "</table>\n",
              "</div>"
            ],
            "text/plain": [
              "           test     train\n",
              "gbr1   0.924835  0.977915\n",
              "gbr2   0.925223  0.994840\n",
              "ols    0.763417  0.729359\n",
              "rf     0.910477  0.982888\n",
              "ridge  0.763404  0.729336\n",
              "tree   0.821282  1.000000"
            ]
          },
          "metadata": {
            "tags": []
          },
          "execution_count": 4
        }
      ]
    },
    {
      "cell_type": "code",
      "metadata": {
        "id": "_8sGYIANB-fQ"
      },
      "source": [
        ""
      ],
      "execution_count": null,
      "outputs": []
    }
  ]
}