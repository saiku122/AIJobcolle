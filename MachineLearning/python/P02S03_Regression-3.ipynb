{
 "cells": [
  {
   "cell_type": "markdown",
   "metadata": {},
   "source": [
    "# Regression-3: model performance"
   ]
  },
  {
   "cell_type": "markdown",
   "metadata": {},
   "source": [
    "これまでに学習した様々なアルゴリズムの性能を比較してみましょう。<br>データはボストン・ハウジングデータを使います。"
   ]
  },
  {
   "cell_type": "code",
   "execution_count": null,
   "metadata": {},
   "outputs": [],
   "source": [
    "# import data for regression\n",
    "import pandas as pd\n",
    "from IPython.core.display import display\n",
    "from sklearn.datasets import load_boston\n",
    "\n",
    "# set data by role\n",
    "dataset = load_boston()\n",
    "X = pd.DataFrame(dataset.data, columns=dataset.feature_names)\n",
    "y = pd.Series(dataset.target, name='y')\n",
    "\n",
    "# check the shape\n",
    "print('-----------------------------------')\n",
    "print('X shape: (%i,%i)' %X.shape)\n",
    "print('-----------------------------------')\n",
    "display(X.join(y).head())"
   ]
  },
  {
   "cell_type": "markdown",
   "metadata": {},
   "source": [
    "ツリー系のアルゴリズム（ランダムフォレストや勾配ブースティングなど）を除き、通常、機械学習モデルは入力ベクトルのスケールを統一させる必要があります。ここではその処理をPipelineに組み込み対応しています。"
   ]
  },
  {
   "cell_type": "code",
   "execution_count": null,
   "metadata": {},
   "outputs": [],
   "source": [
    "from sklearn.preprocessing import StandardScaler\n",
    "from sklearn.model_selection import train_test_split\n",
    "from sklearn.linear_model import LinearRegression,Ridge\n",
    "from sklearn.tree import DecisionTreeRegressor\n",
    "from sklearn.ensemble import RandomForestRegressor,GradientBoostingRegressor\n",
    "from sklearn.pipeline import Pipeline\n",
    "from sklearn.metrics import r2_score\n",
    "\n",
    "# ホールドアウト\n",
    "X_train,X_test,y_train,y_test = train_test_split(X,\n",
    "                                                 y,\n",
    "                                                 test_size=0.20,\n",
    "                                                 random_state=1)\n",
    "# pipeline setting\n",
    "pipelines = {\n",
    "     'ols': Pipeline([('scl',StandardScaler()),\n",
    "                      ('est',LinearRegression())]),\n",
    "     \n",
    "     'ridge':Pipeline([('scl',StandardScaler()),\n",
    "                       ('est',Ridge(random_state=0))]),\n",
    "\n",
    "     'tree': Pipeline([('scl',StandardScaler()),\n",
    "                     ('est',DecisionTreeRegressor(random_state=0))]),\n",
    "\n",
    "     'rf': Pipeline([('scl',StandardScaler()),\n",
    "                     ('est',RandomForestRegressor(random_state=0))]),\n",
    "     \n",
    "     'gbr1': Pipeline([('scl',StandardScaler()),\n",
    "                      ('est',GradientBoostingRegressor(random_state=0))]),\n",
    "\n",
    "     'gbr2': Pipeline([('scl',StandardScaler()),\n",
    "                      ('est',GradientBoostingRegressor(n_estimators=250,\n",
    "                                                       random_state=0))])\n",
    "}\n",
    "\n",
    "# build and evaluate\n",
    "scores = {}\n",
    "for pipe_name, pipeline in pipelines.items():\n",
    "    pipeline.fit(X_train, y_train)\n",
    "    scores[(pipe_name,'train')] = r2_score(y_train, pipeline.predict(X_train))\n",
    "    scores[(pipe_name,'test')] = r2_score(y_test, pipeline.predict(X_test))\n",
    "\n",
    "pd.Series(scores).unstack()"
   ]
  }
 ],
 "metadata": {
  "kernelspec": {
   "display_name": "Python 3",
   "language": "python",
   "name": "python3"
  },
  "language_info": {
   "codemirror_mode": {
    "name": "ipython",
    "version": 3
   },
   "file_extension": ".py",
   "mimetype": "text/x-python",
   "name": "python",
   "nbconvert_exporter": "python",
   "pygments_lexer": "ipython3",
   "version": "3.5.3"
  }
 },
 "nbformat": 4,
 "nbformat_minor": 2
}
