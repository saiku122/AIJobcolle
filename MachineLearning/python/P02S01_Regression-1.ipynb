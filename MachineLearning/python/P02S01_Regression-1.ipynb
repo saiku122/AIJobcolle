{
 "cells": [
  {
   "cell_type": "markdown",
   "metadata": {},
   "source": [
    "# Regression-1: Build quick models"
   ]
  },
  {
   "cell_type": "markdown",
   "metadata": {},
   "source": [
    "ここではモデル構築の大きな流れを掴みましょう。<br>まずは、サンプルデータ（回帰用）を読み込みます。"
   ]
  },
  {
   "cell_type": "code",
   "execution_count": null,
   "metadata": {},
   "outputs": [],
   "source": [
    "# import the data for regression\n",
    "import pandas as pd\n",
    "from IPython.core.display import display\n",
    "from sklearn.datasets import load_boston\n",
    "dataset = load_boston()\n",
    "\n",
    "# set dataframe\n",
    "X = pd.DataFrame(dataset.data,columns=dataset.feature_names)\n",
    "y = pd.Series(dataset.target,name='y')\n",
    "\n",
    "# check the shape\n",
    "print('--------------------------------------')\n",
    "print('X shape: (%i,%i)' %X.shape)\n",
    "print('--------------------------------------')\n",
    "print(y.describe())\n",
    "display(X.join(y).head())"
   ]
  },
  {
   "cell_type": "markdown",
   "metadata": {},
   "source": [
    "アンサンブル学習（ブースティング）の一つである勾配ブースティンレグレッサーを読み込み学習（fit）します。予測値と正解データの整合性をR2値で評価しています。データを読み込み、学習させ、評価する流れを掴んで下さい。"
   ]
  },
  {
   "cell_type": "code",
   "execution_count": null,
   "metadata": {},
   "outputs": [],
   "source": [
    "from sklearn.ensemble import GradientBoostingRegressor\n",
    "\n",
    "# build a model\n",
    "est = GradientBoostingRegressor(n_estimators=100,\n",
    "                                max_depth=3,\n",
    "                                random_state=0)\n",
    "est.fit(X,y)\n",
    "\n",
    "# evaluate a model by R2 score\n",
    "from sklearn.metrics import r2_score\n",
    "y_pred = est.predict(X)\n",
    "r2 = r2_score(y, y_pred)\n",
    "print('R2 score: %.3f' % r2)"
   ]
  },
  {
   "cell_type": "markdown",
   "metadata": {},
   "source": [
    "モデル構築は以上ですが、事前の精度確認作業を含む場合、モデル構築ステップは増加します。それは未知データへの当てはまりを確認する必要があるためです。予測上の最大の敵は<b>過学習</b>であり、この過学習へ対処するためのステップが増えると理解して下さい。<b>ホールドアウト法</b>はその対処法の一つで、汎化性能を確認しベストなモデルを選択するのに役立ちます。ここではモデル比較のため、パラメータ違いの勾配ブースティングモデルを準備します。"
   ]
  },
  {
   "cell_type": "code",
   "execution_count": null,
   "metadata": {},
   "outputs": [],
   "source": [
    "from sklearn.ensemble import GradientBoostingRegressor\n",
    "from sklearn.model_selection import train_test_split\n",
    "from sklearn.metrics import r2_score\n",
    "\n",
    "# ホールドアウト\n",
    "# 訓練を80%,テストを20%に分割\n",
    "X_train,X_test,y_train,y_test = train_test_split(X,\n",
    "                                                 y,\n",
    "                                                 test_size=0.20,\n",
    "                                                 random_state=1)\n",
    "# 二つのモデルを構築(比較用)\n",
    "# Standard model\n",
    "est1 = GradientBoostingRegressor(max_depth=3,random_state=1)\n",
    "est1.fit(X_train,y_train)\n",
    "# Complex model\n",
    "est2 = GradientBoostingRegressor(max_depth=10,random_state=1) \n",
    "est2.fit(X_train,y_train)\n",
    "\n",
    "# モデルパフォーマンス指標(R2)の取得\n",
    "# for training data\n",
    "r2_est1_train = r2_score(y_train,est1.predict(X_train))\n",
    "r2_est2_train = r2_score(y_train,est2.predict(X_train))\n",
    "# for test data\n",
    "r2_est1_test = r2_score(y_test,est1.predict(X_test))\n",
    "r2_est2_test = r2_score(y_test,est2.predict(X_test))\n",
    "\n",
    "# 性能指標の表示\n",
    "print('Train Score(est1,est2):(%.3f,%.3f)'% (r2_est1_train, r2_est2_train))\n",
    "print('Test Score(est1,est2):(%.3f,%.3f)'% (r2_est1_test, r2_est2_test))"
   ]
  }
 ],
 "metadata": {
  "kernelspec": {
   "display_name": "Python 3",
   "language": "python",
   "name": "python3"
  },
  "language_info": {
   "codemirror_mode": {
    "name": "ipython",
    "version": 3
   },
   "file_extension": ".py",
   "mimetype": "text/x-python",
   "name": "python",
   "nbconvert_exporter": "python",
   "pygments_lexer": "ipython3",
   "version": "3.5.3"
  }
 },
 "nbformat": 4,
 "nbformat_minor": 2
}
