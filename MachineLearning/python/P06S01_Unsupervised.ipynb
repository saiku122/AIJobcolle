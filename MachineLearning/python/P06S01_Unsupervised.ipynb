{
  "nbformat": 4,
  "nbformat_minor": 0,
  "metadata": {
    "kernelspec": {
      "display_name": "Python 3",
      "language": "python",
      "name": "python3"
    },
    "language_info": {
      "codemirror_mode": {
        "name": "ipython",
        "version": 3
      },
      "file_extension": ".py",
      "mimetype": "text/x-python",
      "name": "python",
      "nbconvert_exporter": "python",
      "pygments_lexer": "ipython3",
      "version": "3.5.3"
    },
    "colab": {
      "name": "P06S01_Unsupervised.ipynb",
      "provenance": []
    }
  },
  "cells": [
    {
      "cell_type": "markdown",
      "metadata": {
        "id": "EgsyD53i5_wk"
      },
      "source": [
        "# クラスタリング"
      ]
    },
    {
      "cell_type": "markdown",
      "metadata": {
        "id": "b6AExDym5_wy"
      },
      "source": [
        "## KMeansの学習と予測"
      ]
    },
    {
      "cell_type": "markdown",
      "metadata": {
        "id": "vb8fZ3PH5_w0"
      },
      "source": [
        "クラスタリングの学習結果を理解しやすくするため、サンプルデータの生成から始めます。<br>\n",
        "make_blobsは、各軸正規分布に従った乱数を生成してくれるデータ生成関数です。"
      ]
    },
    {
      "cell_type": "code",
      "metadata": {
        "id": "bLs-Bzs96GB6",
        "colab": {
          "base_uri": "https://localhost:8080/"
        },
        "outputId": "fb07d932-9557-47e0-ca94-a350be4eb0b5"
      },
      "source": [
        "!git clone https://github.com/saiku122/AIJobcolle.git"
      ],
      "execution_count": 1,
      "outputs": [
        {
          "output_type": "stream",
          "text": [
            "Cloning into 'AIJobcolle'...\n",
            "remote: Enumerating objects: 465, done.\u001b[K\n",
            "remote: Counting objects: 100% (465/465), done.\u001b[K\n",
            "remote: Compressing objects: 100% (342/342), done.\u001b[K\n",
            "remote: Total 465 (delta 195), reused 221 (delta 70), pack-reused 0\u001b[K\n",
            "Receiving objects: 100% (465/465), 12.08 MiB | 17.72 MiB/s, done.\n",
            "Resolving deltas: 100% (195/195), done.\n"
          ],
          "name": "stdout"
        }
      ]
    },
    {
      "cell_type": "code",
      "metadata": {
        "id": "diihgVKL6JwC",
        "colab": {
          "base_uri": "https://localhost:8080/"
        },
        "outputId": "27a534a4-72f0-48d7-b0da-69d7c6625410"
      },
      "source": [
        "cd /content/AIJobcolle/MachineLearning/python"
      ],
      "execution_count": 2,
      "outputs": [
        {
          "output_type": "stream",
          "text": [
            "/content/AIJobcolle/MachineLearning/python\n"
          ],
          "name": "stdout"
        }
      ]
    },
    {
      "cell_type": "code",
      "metadata": {
        "id": "8wVY-87N5_w1",
        "colab": {
          "base_uri": "https://localhost:8080/"
        },
        "outputId": "cf19bb61-d2ae-4b1e-8a7f-22a0ba6b6b24"
      },
      "source": [
        "import numpy as np\n",
        "import pandas as pd\n",
        "from sklearn.datasets import make_blobs\n",
        "%matplotlib inline\n",
        "import matplotlib.pyplot as plt\n",
        "\n",
        "X, labels_true = make_blobs(\n",
        "    n_samples=1000,               # サンプル数\n",
        "    centers=[[-5,-5],[0,0],[5,5]],# クラスタ重心座標設定(3クラスタを2次元で作成)\n",
        "    cluster_std=1.0,              # 乱数生成時の標準偏差\n",
        "    random_state=0)\n",
        "print('Generated data X:\\n', X[:5])\n",
        "print('Generated data y:\\n', labels_true[:5])"
      ],
      "execution_count": 3,
      "outputs": [
        {
          "output_type": "stream",
          "text": [
            "Generated data X:\n",
            " [[-6.04855297 -6.42001794]\n",
            " [-3.23594765 -4.59984279]\n",
            " [ 4.50420451  6.21657771]\n",
            " [ 2.11679102 -1.6108784 ]\n",
            " [ 4.26912641  3.35829677]]\n",
            "Generated data y:\n",
            " [0 0 2 1 2]\n"
          ],
          "name": "stdout"
        }
      ]
    },
    {
      "cell_type": "markdown",
      "metadata": {
        "id": "w9q6cgca5_w3"
      },
      "source": [
        "横軸をX0、縦軸をX1として、生成したサンプルデータを可視化します。<br>\n",
        "クラスタリングによって期待されるのは、データがいずれのクラスタに属するかを正しく予測することです。"
      ]
    },
    {
      "cell_type": "code",
      "metadata": {
        "id": "Vz8kkIsa5_w4",
        "colab": {
          "base_uri": "https://localhost:8080/",
          "height": 243
        },
        "outputId": "334a1ce9-7344-47aa-de0f-c471abefa9ec"
      },
      "source": [
        "df = pd.DataFrame(np.hstack([X,labels_true.reshape(len(labels_true),1)]),\n",
        "                  columns=[\"X0\",\"X1\",\"label\"])\n",
        "col = df.label.map({0:'b', 1:'g', 2:'r'})\n",
        "df.plot(x='X0', y='X1', kind='scatter', c=col, colorbar=False, figsize=(3,3))"
      ],
      "execution_count": 4,
      "outputs": [
        {
          "output_type": "execute_result",
          "data": {
            "text/plain": [
              "<matplotlib.axes._subplots.AxesSubplot at 0x7f17abe11690>"
            ]
          },
          "metadata": {
            "tags": []
          },
          "execution_count": 4
        },
        {
          "output_type": "display_data",
          "data": {
            "image/png": "[encoded data removed]",
            "text/plain": [
              "<Figure size 216x216 with 1 Axes>"
            ]
          },
          "metadata": {
            "tags": [],
            "needs_background": "light"
          }
        }
      ]
    },
    {
      "cell_type": "markdown",
      "metadata": {
        "id": "FaKeVQka5_w5"
      },
      "source": [
        "KMeansの実行です。KMeansではクラスタ数を設定する必要があるため3としました。<br>\n",
        "下記では学習されたクラスタ重心座標を出力しています。<br>先ほど私達が設定した値とほぼ合致することを確認して下さい。"
      ]
    },
    {
      "cell_type": "code",
      "metadata": {
        "id": "D5kRKNB15_w5",
        "colab": {
          "base_uri": "https://localhost:8080/"
        },
        "outputId": "fd1c15df-c9c1-4d35-a8d5-f47243ea994c"
      },
      "source": [
        "from sklearn.cluster import KMeans\n",
        "from sklearn.preprocessing import StandardScaler\n",
        "kmeans = KMeans(n_clusters=3, random_state=0)\n",
        "\n",
        "scl = StandardScaler()\n",
        "X_std = scl.fit_transform(X)\n",
        "kmeans.fit(X_std)\n",
        "\n",
        "print(kmeans.cluster_centers_[0], ':Centroid-0 is a cluster Green')\n",
        "print(kmeans.cluster_centers_[1], ':Centroid-1 is a cluster Blue')\n",
        "print(kmeans.cluster_centers_[2], ':Centroid-2 is a cluster Red')"
      ],
      "execution_count": 5,
      "outputs": [
        {
          "output_type": "stream",
          "text": [
            "[1.18185453 1.19622489] :Centroid-0 is a cluster Green\n",
            "[-1.20075939 -1.18599884] :Centroid-1 is a cluster Blue\n",
            "[ 0.02251074 -0.00666449] :Centroid-2 is a cluster Red\n"
          ],
          "name": "stdout"
        }
      ]
    },
    {
      "cell_type": "markdown",
      "metadata": {
        "id": "RQd4H3X_5_w6"
      },
      "source": [
        "学習したモデルを使って未知座標Xのクラスタ番号の予測をしましょう。<br>予測ロジックは単純で予測したいデータと最も近いクラスタ重心座標を持つクラスタ番号を返しているだけです。"
      ]
    },
    {
      "cell_type": "code",
      "metadata": {
        "id": "IrBYMH5D5_w7",
        "colab": {
          "base_uri": "https://localhost:8080/"
        },
        "outputId": "5cc28f26-e886-44c0-dbbf-0a20d00f0596"
      },
      "source": [
        "kmeans.predict([[-6,-4],[-2,0],[6,8]])\n",
        "print(scl.transform([[-6,-4],[-2,0],[6,8]]))\n",
        "kmeans.predict(scl.transform([[-6,-4],[-2,0],[6,8]]))"
      ],
      "execution_count": 6,
      "outputs": [
        {
          "output_type": "stream",
          "text": [
            "[[-1.41639207 -0.94130448]\n",
            " [-0.46790415  0.00352025]\n",
            " [ 1.42907169  1.8931697 ]]\n"
          ],
          "name": "stdout"
        },
        {
          "output_type": "execute_result",
          "data": {
            "text/plain": [
              "array([1, 2, 0], dtype=int32)"
            ]
          },
          "metadata": {
            "tags": []
          },
          "execution_count": 6
        }
      ]
    },
    {
      "cell_type": "markdown",
      "metadata": {
        "id": "LpL6PEo-5_w8"
      },
      "source": [
        "### KMeansにおけるクラスタ数の決定"
      ]
    },
    {
      "cell_type": "markdown",
      "metadata": {
        "id": "6rP6PvQj5_w8"
      },
      "source": [
        "#### 問題意識\n",
        "上記では3つの重心座標の周辺にデータを生成したため、私達はデータを3つのクラスタで学習させました。<br>しかし、実際のデータについてはこのような決定はできません。<br>それではクラスタ数をどのように決めたら良いでしょうか。"
      ]
    },
    {
      "cell_type": "markdown",
      "metadata": {
        "id": "vi1pg8mA5_w9"
      },
      "source": [
        "#### エルボー法\n",
        "このような時に役立つのが<b>エルボー法</b>です。<br>\n",
        "クラスタ数を変化させていったとき、クラスタ重心点とクラスタ所属点の間の距離の総和をプロットしたものです。<br>\n",
        "クラスタ数が少ない場合、重心に近い点もあるでしょうが多くの点は遠方の点になるでしょう。<br>\n",
        "またクラスタ数が十分に大きければその総和は0に近づくことが予想できます。<br><br>\n",
        "<b>エルボー法はこの総和の低下が急速に進む箇所と緩やかに進む箇所、それらを分離する場所でクラスタ数の候補を得ましょう</b>というものです。<br>\n",
        "さて、クラスタ重心点とクラスタ所属点の距離の総和はintertia_で取得できます。<br>\n",
        "クラスタ数1以上11未満で、距離総和の減少の様子をプロットしてみましょう。"
      ]
    },
    {
      "cell_type": "code",
      "metadata": {
        "id": "fCPc5dLG5_w9",
        "colab": {
          "base_uri": "https://localhost:8080/",
          "height": 283
        },
        "outputId": "5bc6d4dd-559c-4100-edfc-702f25eb2405"
      },
      "source": [
        "# エルボー図の作成\n",
        "distortions = []\n",
        "for i in range(1,11):\n",
        "    km=KMeans(n_clusters=i, random_state=0).fit(X)\n",
        "    distortions.append(km.inertia_)\n",
        "\n",
        "plt.plot(range(1,11), distortions, marker='o')"
      ],
      "execution_count": 7,
      "outputs": [
        {
          "output_type": "execute_result",
          "data": {
            "text/plain": [
              "[<matplotlib.lines.Line2D at 0x7f179ee10550>]"
            ]
          },
          "metadata": {
            "tags": []
          },
          "execution_count": 7
        },
        {
          "output_type": "display_data",
          "data": {
            "image/png": "[encoded data removed]",
            "text/plain": [
              "<Figure size 432x288 with 1 Axes>"
            ]
          },
          "metadata": {
            "tags": [],
            "needs_background": "light"
          }
        }
      ]
    },
    {
      "cell_type": "markdown",
      "metadata": {
        "id": "3XgFFsP_5_w-"
      },
      "source": [
        "上記の通り、クラスタ数が3まではクラスタ数を増やすことで重心点とサンプル間の距離が急速に減少します。<br>\n",
        "しかしクラスタを4以上にしても、もはやその低下幅は限定的です。<br>\n",
        "以上より、このデータについてはクラスタ数は3で十分ではないかと考えるわけです。"
      ]
    },
    {
      "cell_type": "markdown",
      "metadata": {
        "id": "N2nfN0yo5_w_"
      },
      "source": [
        "## DBSCANによる学習と予測"
      ]
    },
    {
      "cell_type": "markdown",
      "metadata": {
        "id": "mpK4J05M5_w_"
      },
      "source": [
        "最後に密度ベースのクラスタリングであるDBSCANの実装について学びます。<br>ここではDBSCANのご利益を確認すべくサンプルデータを変更します。<br>make_moons関数で、月型のデータサンプルを生成します。"
      ]
    },
    {
      "cell_type": "code",
      "metadata": {
        "id": "FuKJ3fZ55_xA",
        "colab": {
          "base_uri": "https://localhost:8080/"
        },
        "outputId": "27a607b5-02b2-4cfb-e471-74ce4ac57f73"
      },
      "source": [
        "from sklearn.datasets import make_moons\n",
        "X, labels_true = make_moons(\n",
        "    n_samples=1000,\n",
        "    noise=0.05,\n",
        "    random_state=0)\n",
        "print('Generated Data:\\n', X[:5])\n",
        "print('\\nGenerated Label:\\n', labels_true[:5])"
      ],
      "execution_count": 8,
      "outputs": [
        {
          "output_type": "stream",
          "text": [
            "Generated Data:\n",
            " [[ 2.02100097  0.49017924]\n",
            " [ 1.6782009  -0.20198687]\n",
            " [-0.28224484  0.85878484]\n",
            " [-0.02143996  0.17628146]\n",
            " [ 0.50484202 -0.3910431 ]]\n",
            "\n",
            "Generated Label:\n",
            " [1 1 0 1 1]\n"
          ],
          "name": "stdout"
        }
      ]
    },
    {
      "cell_type": "markdown",
      "metadata": {
        "id": "v07xt2NY5_xA"
      },
      "source": [
        "以下で新しい生成サンプルデータの散布図を描いています。<br>色は本データの理想的なクラスタ分割のされ方です。"
      ]
    },
    {
      "cell_type": "code",
      "metadata": {
        "id": "95PXxyJ45_xB",
        "colab": {
          "base_uri": "https://localhost:8080/",
          "height": 297
        },
        "outputId": "12d4319b-8aff-4e05-c952-6f17e4794668"
      },
      "source": [
        "df = pd.DataFrame(np.hstack([X, labels_true.reshape(len(labels_true),1)]),\n",
        "                  columns=[\"X0\",\"X1\",\"label\"])\n",
        "col = df.label.map({0:'g', 1:'b'})\n",
        "df.plot(x='X0', y='X1', kind='scatter', c=col, colorbar=False, figsize=(6,4))"
      ],
      "execution_count": 9,
      "outputs": [
        {
          "output_type": "execute_result",
          "data": {
            "text/plain": [
              "<matplotlib.axes._subplots.AxesSubplot at 0x7f179ed4d890>"
            ]
          },
          "metadata": {
            "tags": []
          },
          "execution_count": 9
        },
        {
          "output_type": "display_data",
          "data": {
            "image/png": "[encoded data removed]",
            "text/plain": [
              "<Figure size 432x288 with 1 Axes>"
            ]
          },
          "metadata": {
            "tags": [],
            "needs_background": "light"
          }
        }
      ]
    },
    {
      "cell_type": "markdown",
      "metadata": {
        "id": "3gr9S2-75_xB"
      },
      "source": [
        "さてこのデータをDBSCANで学習するとどうなるでしょうか。"
      ]
    },
    {
      "cell_type": "code",
      "metadata": {
        "id": "yrwADeJV5_xC",
        "colab": {
          "base_uri": "https://localhost:8080/",
          "height": 265
        },
        "outputId": "63bf35b5-27b8-4fb5-c803-a5a486704b8c"
      },
      "source": [
        "from sklearn.cluster import DBSCAN\n",
        "db = DBSCAN(eps=0.2, min_samples=5, metric='euclidean')\n",
        "fig2, ax2 = plt.subplots()\n",
        "\n",
        "# 学習と予測を同時に実施\n",
        "for j in range(3):\n",
        "    ax2.plot(X[db.fit_predict(X) == j, 0],\n",
        "             X[db.fit_predict(X) == j, 1], 'o',\n",
        "             label='series ' + str(j))"
      ],
      "execution_count": 10,
      "outputs": [
        {
          "output_type": "display_data",
          "data": {
            "image/png": "[encoded data removed]",
            "text/plain": [
              "<Figure size 432x288 with 1 Axes>"
            ]
          },
          "metadata": {
            "tags": [],
            "needs_background": "light"
          }
        }
      ]
    },
    {
      "cell_type": "markdown",
      "metadata": {
        "id": "igt2VBOF5_xD"
      },
      "source": [
        "上記の通り、このような形状にはDBSCANがフィットしていることがわかりました。実際のデータはより高次元でしょうからシンプルにKmeansが良い、DBSCANが良いと事前に決定することは困難です。クラスタ別に実施されたモデリングや施策効果結果などを通し、実証的にアルゴリズムを選択するなどしましょう。"
      ]
    },
    {
      "cell_type": "markdown",
      "metadata": {
        "id": "lyJ8E6-T5_xD"
      },
      "source": [
        "<b>[確認してみよう]</b> 上記DBSCANのハイパーパラメータである`eps`を0.2から1.0に変更するとどうなるか確認してみよう。"
      ]
    },
    {
      "cell_type": "markdown",
      "metadata": {
        "id": "yWA4iUyp5_xE"
      },
      "source": [
        "<b>[確認してみよう]</b> ある調査への回答データが「mental_survey.tsv」に格納されています。脳の使い方には右脳型や左脳型があるなどと言われていますが、このデータからそのような傾向は確認できるでしょうか。データカラムの`Q1`から`Q20`の20変数をKMeans法でクラスタリングし、そのクラスタ重心の解釈をしてみて下さい。カラム内容は「mental_survey_codebook.txt」で確認できます。またサンプルデータは「タブ区切り」である点を留意ください。"
      ]
    }
  ]
}