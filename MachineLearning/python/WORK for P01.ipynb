{
  "nbformat": 4,
  "nbformat_minor": 0,
  "metadata": {
    "kernelspec": {
      "display_name": "Python 3",
      "language": "python",
      "name": "python3"
    },
    "language_info": {
      "codemirror_mode": {
        "name": "ipython",
        "version": 3
      },
      "file_extension": ".py",
      "mimetype": "text/x-python",
      "name": "python",
      "nbconvert_exporter": "python",
      "pygments_lexer": "ipython3",
      "version": "3.6.5"
    },
    "colab": {
      "name": "WORK for P01.ipynb",
      "provenance": []
    }
  },
  "cells": [
    {
      "cell_type": "markdown",
      "metadata": {
        "id": "CBeFrFGNf5ty"
      },
      "source": [
        "# WORK for P01"
      ]
    },
    {
      "cell_type": "markdown",
      "metadata": {
        "id": "0k8U653af5t2"
      },
      "source": [
        "## [Work-1]\n",
        "以下にクライアントから質問されている場面をイメージし、簡潔な答えを用意して下さい。\n",
        "- 機械学習とは何か？\n",
        "      データと答えからルールを推測するもの\n",
        "- 機械学習を分類するとどうなるか？\n",
        "      強化学習、教師あり学習、教師なし学習\n",
        "- 教師あり学習と教師なし学習の違いは何か？\n",
        "      教師あり学習は正解データを持つが教師なし学習にはない。\n",
        "      教師あり学習は特徴量と正解データの相関関係の学習から主に予測に使われる。\n",
        "      教師なし学習は特徴量データ間の構造把握などに使われる。\n",
        "- 精度の高いモデル構築には何が大切か？\n",
        "      多種多少なデータ\n",
        "\n",
        "- AML（Automated Machine Learning）とはどのようなものか？\n",
        "      時間のかかる反復的な機械学習モデルの開発タスクを自動化するプロセス\n",
        "      アルゴリズムが持つハイパーパラメータ（損失関数の最適化対象外のパラメータ）までも最適化対象とした機械学習の枠組み\n",
        "\n",
        "- Pythonでデータ読込やデータフレーム処理を担うライブラリは何か？\n",
        "      Pandas\n",
        "- 特徴量とは何か、正解データとは何か？\n",
        "      特徴量：予測したい対象（正解データ）に影響を与える因子のこと。\n",
        "      正解データ：そもそも何を予測したいのかのテーマに対する回答情報\n"
      ]
    },
    {
      "cell_type": "markdown",
      "metadata": {
        "id": "AZdUOXT9f5t3"
      },
      "source": [
        "## [Work-2]\n",
        "プロダクト研究（機械学習サービスの提供価値の実際）として、DataRobotに関する以下の資料にまずは目を通してみて下さい。\n",
        "- DataRobot_1.pdf\n",
        "- DataRobot_2_DataRobot-2_JCR17_LS2B_NSSOL_DL_v3.pdf\n",
        "- https://www.datarobot.com/blog/a-new-frontier-how-machine-learning-explanations-will-improve-your-business/\n",
        "\n",
        "以下についての自分なりの回答を準備しておきましょう（クライアントに問い合わせをされて、30秒以内に回答するイメージで）。\n",
        "- DataRobotは誰をターゲットとした商品か？（顧客は誰か）\n",
        "- DataRobotの提供価値は何か？（顧客のベネフィットは何か）\n",
        "- DataRobotにあるリーズンコードとは何か？"
      ]
    }
  ]
}