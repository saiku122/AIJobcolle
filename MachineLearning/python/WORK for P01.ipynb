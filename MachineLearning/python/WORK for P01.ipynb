{
 "cells": [
  {
   "cell_type": "markdown",
   "metadata": {},
   "source": [
    "# WORK for P01"
   ]
  },
  {
   "cell_type": "markdown",
   "metadata": {},
   "source": [
    "## [Work-1]\n",
    "以下にクライアントから質問されている場面をイメージし、簡潔な答えを用意して下さい。\n",
    "- 機械学習とは何か？\n",
    "- 機械学習を分類するとどうなるか？\n",
    "- 教師あり学習と教師なし学習の違いは何か？\n",
    "- 精度の高いモデル構築には何が大切か？\n",
    "- AML（Automated Machine Learning）とはどのようなものか？\n",
    "- Pythonでデータ読込やデータフレーム処理を担うライブラリは何か？\n",
    "- 特徴量とは何か、正解データとは何か？"
   ]
  },
  {
   "cell_type": "markdown",
   "metadata": {},
   "source": [
    "## [Work-2]\n",
    "プロダクト研究（機械学習サービスの提供価値の実際）として、DataRobotに関する以下の資料にまずは目を通してみて下さい。\n",
    "- DataRobot_1.pdf\n",
    "- DataRobot_2_DataRobot-2_JCR17_LS2B_NSSOL_DL_v3.pdf\n",
    "- https://www.datarobot.com/blog/a-new-frontier-how-machine-learning-explanations-will-improve-your-business/\n",
    "\n",
    "以下についての自分なりの回答を準備しておきましょう（クライアントに問い合わせをされて、30秒以内に回答するイメージで）。\n",
    "- DataRobotは誰をターゲットとした商品か？（顧客は誰か）\n",
    "- DataRobotの提供価値は何か？（顧客のベネフィットは何か）\n",
    "- DataRobotにあるリーズンコードとは何か？"
   ]
  }
 ],
 "metadata": {
  "kernelspec": {
   "display_name": "Python 3",
   "language": "python",
   "name": "python3"
  },
  "language_info": {
   "codemirror_mode": {
    "name": "ipython",
    "version": 3
   },
   "file_extension": ".py",
   "mimetype": "text/x-python",
   "name": "python",
   "nbconvert_exporter": "python",
   "pygments_lexer": "ipython3",
   "version": "3.6.5"
  }
 },
 "nbformat": 4,
 "nbformat_minor": 2
}
