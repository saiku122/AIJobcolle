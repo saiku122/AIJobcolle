{
  "nbformat": 4,
  "nbformat_minor": 0,
  "metadata": {
    "kernelspec": {
      "display_name": "Python 3",
      "language": "python",
      "name": "python3"
    },
    "language_info": {
      "codemirror_mode": {
        "name": "ipython",
        "version": 3
      },
      "file_extension": ".py",
      "mimetype": "text/x-python",
      "name": "python",
      "nbconvert_exporter": "python",
      "pygments_lexer": "ipython3",
      "version": "3.6.5"
    },
    "colab": {
      "name": "WORK Ans for P01.ipynb",
      "provenance": [],
      "include_colab_link": true
    }
  },
  "cells": [
    {
      "cell_type": "markdown",
      "metadata": {
        "id": "view-in-github",
        "colab_type": "text"
      },
      "source": [
        "<a href=\"https://colab.research.google.com/github/saiku122/AIJobcolle/blob/master/MachineLearning/python/WORK%20Ans%20for%20P01.ipynb\" target=\"_parent\"><img src=\"https://colab.research.google.com/assets/colab-badge.svg\" alt=\"Open In Colab\"/></a>"
      ]
    },
    {
      "cell_type": "markdown",
      "metadata": {
        "id": "ApsyGAbZafv4"
      },
      "source": [
        "# WORK for P01"
      ]
    },
    {
      "cell_type": "markdown",
      "metadata": {
        "id": "AKcmPC-iafwD"
      },
      "source": [
        "## [Work-1]\n",
        "以下に対し簡潔に答えて下さい。\n",
        "- 機械学習とは何か？\n",
        "    - 人間の介在なく機械がデータから学び判断・振る舞いを決められるようにする技術・研究領域\n",
        "<br><br>\n",
        "- 機械学習を分類するとどうなるか？\n",
        "    - 教師あり学習、教師なし学習、強化学習\n",
        "<br><br>\n",
        "- 教師あり学習と教師なし学習の違いは何か？\n",
        "    - 教師あり学習は正解データを持つが教師なし学習にはない。\n",
        "    - 教師あり学習は特徴量と正解データの相関関係の学習から主に予測に使われる。\n",
        "    - 教師なし学習は特徴量データ間の構造把握などに使われる。\n",
        "<br><br>\n",
        "- 精度の高いモデル構築には何が大切か？\n",
        "    - 多種多少なデータができれば大量に（多様性の例：長い時間軸、データ収集ポイントのエリア、顧客属性など）\n",
        "<br><br>\n",
        "- AML（Automated Machine Learning）とはどのようなものか？\n",
        "    - アルゴリズムが持つハイパーパラメータ（損失関数の最適化対象外のパラメータ）までも最適化対象とした機械学習の枠組み\n",
        "<br><br>\n",
        "- Pythonでデータ読込やデータフレーム処理を担うライブラリは何か？\n",
        "    - Pandas\n",
        "<br><br>\n",
        "- 特徴量とは何か、正解データとは何か？\n",
        "    - 特徴量は説明変数と同義。予測したい対象（正解データ）に影響を与える因子のこと。\n",
        "    - 正解データは目的変数と同義。そもそも何を予測したいのかのテーマに対する回答情報。"
      ]
    },
    {
      "cell_type": "markdown",
      "metadata": {
        "id": "JAz9fxT6afwF"
      },
      "source": [
        "## [Work-2]\n",
        "プロダクト研究として、DataRobotに関する以下の資料に、まずは目を通してみて下さい。\n",
        "- DataRobot_1.pdf\n",
        "- DataRobot_2_DataRobot-2_JCR17_LS2B_NSSOL_DL_v3.pdf\n",
        "- https://www.datarobot.com/blog/a-new-frontier-how-machine-learning-explanations-will-improve-your-business/\n",
        "\n",
        "以下についての自分なりの回答を準備してみましょう。  \n",
        "- DataRobotは誰をターゲットとした商品か？（顧客は誰か）\n",
        "- DataRobotの提供価値は何か？（顧客のベネフィットは何か）\n",
        "- DataRobotにあるリーズンコードとは何か？\n",
        "-->上記は回答は求めずグループディスカッションをやってもらっています。\n",
        "<br><br>\n",
        "参考：以下のグループセッションの実施例。\n",
        "- DRのセールスとなり、エレベータピッチを作成して下さい。\n",
        "    - Target（誰を顧客とするか）をグループごとに決めてもらう\n",
        "    - Goal（顧客にとっての理想）が何かを決めてもらう\n",
        "    - Connect（顧客と理想をつなぐもの）がどのようにして提供できるかを述べてもらう\n",
        "<br><br>\n",
        "    - Target例：データリテラシーが高い層狙いと低い層狙いかで回答は分かれる傾向\n",
        "    - Goal例：高い層は業務効率化、低い層は採用課題の解消と設定が分かれる傾向\n",
        "    - Connect例：高い層は重み付きスタッキングまで勝手にやってくれるなどの手軽さとパフォーマンスの初期値見極め、モデル管理業務からの解放、API化のスピード向上（開発工数の圧縮）、低い層はデータ準備だけで良い手軽ささや教育プログラム、サポートの提供があげられる傾向"
      ]
    }
  ]
}