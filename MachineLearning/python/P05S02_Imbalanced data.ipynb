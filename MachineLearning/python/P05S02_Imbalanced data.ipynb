{
  "nbformat": 4,
  "nbformat_minor": 0,
  "metadata": {
    "kernelspec": {
      "display_name": "Python 3",
      "language": "python",
      "name": "python3"
    },
    "language_info": {
      "codemirror_mode": {
        "name": "ipython",
        "version": 3
      },
      "file_extension": ".py",
      "mimetype": "text/x-python",
      "name": "python",
      "nbconvert_exporter": "python",
      "pygments_lexer": "ipython3",
      "version": "3.5.3"
    },
    "colab": {
      "name": "P05S02_Imbalanced data.ipynb",
      "provenance": []
    }
  },
  "cells": [
    {
      "cell_type": "markdown",
      "metadata": {
        "id": "_JspC8uesJ8V"
      },
      "source": [
        "## 不均衡データへの対応"
      ]
    },
    {
      "cell_type": "code",
      "metadata": {
        "id": "S1GTs8WEsN5H",
        "colab": {
          "base_uri": "https://localhost:8080/"
        },
        "outputId": "d743f4ae-c254-4f15-a40f-899bcbf54f9a"
      },
      "source": [
        "!git clone https://github.com/saiku122/AIJobcolle.git"
      ],
      "execution_count": 1,
      "outputs": [
        {
          "output_type": "stream",
          "text": [
            "Cloning into 'AIJobcolle'...\n",
            "remote: Enumerating objects: 465, done.\u001b[K\n",
            "remote: Counting objects: 100% (465/465), done.\u001b[K\n",
            "remote: Compressing objects: 100% (342/342), done.\u001b[K\n",
            "remote: Total 465 (delta 195), reused 221 (delta 70), pack-reused 0\u001b[K\n",
            "Receiving objects: 100% (465/465), 12.08 MiB | 13.65 MiB/s, done.\n",
            "Resolving deltas: 100% (195/195), done.\n"
          ],
          "name": "stdout"
        }
      ]
    },
    {
      "cell_type": "code",
      "metadata": {
        "id": "aWbCUIBssTB0",
        "colab": {
          "base_uri": "https://localhost:8080/"
        },
        "outputId": "39cc1f40-f6af-41ac-acdb-13bcc0b9fbcb"
      },
      "source": [
        "cd /content/AIJobcolle/MachineLearning/python"
      ],
      "execution_count": 2,
      "outputs": [
        {
          "output_type": "stream",
          "text": [
            "/content/AIJobcolle/MachineLearning/python\n"
          ],
          "name": "stdout"
        }
      ]
    },
    {
      "cell_type": "markdown",
      "metadata": {
        "id": "aeWNwklqsJ8k"
      },
      "source": [
        "まず分類用のサンプルデータであるローン審査データを読み込みます。<br>データ前処理はone-hotエンコーディングと欠損値補完までを行っています。"
      ]
    },
    {
      "cell_type": "code",
      "metadata": {
        "collapsed": true,
        "id": "42JcSlUNsJ8m"
      },
      "source": [
        "import pandas as pd\n",
        "from sklearn.impute import SimpleImputer\n",
        "\n",
        "# import data\n",
        "df = pd.read_csv('./data/av_loan_u6lujuX_CVtuZ9i.csv', header=0)\n",
        "X = df.iloc[:, :-1]          # 最終列外を特徴量X\n",
        "X = X.drop('Loan_ID',axis=1) # Loan_IDはID情報のため特徴量から削除\n",
        "y = df.iloc[:,-1]            # 最終列を正解データ\n",
        "\n",
        "# ローン審査でNOとなったサンプルを1に変換\n",
        "class_mapping = {'N':1, 'Y':0}\n",
        "y = y.map(class_mapping)"
      ],
      "execution_count": 10,
      "outputs": []
    },
    {
      "cell_type": "code",
      "metadata": {
        "id": "IuBX8A8rsJ8o",
        "colab": {
          "base_uri": "https://localhost:8080/",
          "height": 235
        },
        "outputId": "521ea3a3-cc4f-4319-f72d-eee3a87f0207"
      },
      "source": [
        "# one-hot エンコーディング\n",
        "ohe_columns = ['Dependents',\n",
        "               'Gender',\n",
        "               'Married',\n",
        "               'Education',\n",
        "               'Self_Employed',\n",
        "               'Property_Area']\n",
        "\n",
        "X_ohe = pd.get_dummies(X,\n",
        "                       dummy_na=True,\n",
        "                       columns=ohe_columns)\n",
        "\n",
        "imp = SimpleImputer()\n",
        "imp.fit(X_ohe)\n",
        "X_ohe_columns = X_ohe.columns.values\n",
        "X_ohe = pd.DataFrame(imp.transform(X_ohe), columns=X_ohe_columns)\n",
        "\n",
        "display(X_ohe.head())"
      ],
      "execution_count": 11,
      "outputs": [
        {
          "output_type": "display_data",
          "data": {
            "text/html": [
              "<div>\n",
              "<style scoped>\n",
              "    .dataframe tbody tr th:only-of-type {\n",
              "        vertical-align: middle;\n",
              "    }\n",
              "\n",
              "    .dataframe tbody tr th {\n",
              "        vertical-align: top;\n",
              "    }\n",
              "\n",
              "    .dataframe thead th {\n",
              "        text-align: right;\n",
              "    }\n",
              "</style>\n",
              "<table border=\"1\" class=\"dataframe\">\n",
              "  <thead>\n",
              "    <tr style=\"text-align: right;\">\n",
              "      <th></th>\n",
              "      <th>ApplicantIncome</th>\n",
              "      <th>CoapplicantIncome</th>\n",
              "      <th>LoanAmount</th>\n",
              "      <th>Loan_Amount_Term</th>\n",
              "      <th>Credit_History</th>\n",
              "      <th>Dependents_0</th>\n",
              "      <th>Dependents_1</th>\n",
              "      <th>Dependents_2</th>\n",
              "      <th>Dependents_3+</th>\n",
              "      <th>Dependents_nan</th>\n",
              "      <th>Gender_Female</th>\n",
              "      <th>Gender_Male</th>\n",
              "      <th>Gender_nan</th>\n",
              "      <th>Married_No</th>\n",
              "      <th>Married_Yes</th>\n",
              "      <th>Married_nan</th>\n",
              "      <th>Education_Graduate</th>\n",
              "      <th>Education_Not Graduate</th>\n",
              "      <th>Education_nan</th>\n",
              "      <th>Self_Employed_No</th>\n",
              "      <th>Self_Employed_Yes</th>\n",
              "      <th>Self_Employed_nan</th>\n",
              "      <th>Property_Area_Rural</th>\n",
              "      <th>Property_Area_Semiurban</th>\n",
              "      <th>Property_Area_Urban</th>\n",
              "      <th>Property_Area_nan</th>\n",
              "    </tr>\n",
              "  </thead>\n",
              "  <tbody>\n",
              "    <tr>\n",
              "      <th>0</th>\n",
              "      <td>5849.0</td>\n",
              "      <td>0.0</td>\n",
              "      <td>146.412162</td>\n",
              "      <td>360.0</td>\n",
              "      <td>1.0</td>\n",
              "      <td>1.0</td>\n",
              "      <td>0.0</td>\n",
              "      <td>0.0</td>\n",
              "      <td>0.0</td>\n",
              "      <td>0.0</td>\n",
              "      <td>0.0</td>\n",
              "      <td>1.0</td>\n",
              "      <td>0.0</td>\n",
              "      <td>1.0</td>\n",
              "      <td>0.0</td>\n",
              "      <td>0.0</td>\n",
              "      <td>1.0</td>\n",
              "      <td>0.0</td>\n",
              "      <td>0.0</td>\n",
              "      <td>1.0</td>\n",
              "      <td>0.0</td>\n",
              "      <td>0.0</td>\n",
              "      <td>0.0</td>\n",
              "      <td>0.0</td>\n",
              "      <td>1.0</td>\n",
              "      <td>0.0</td>\n",
              "    </tr>\n",
              "    <tr>\n",
              "      <th>1</th>\n",
              "      <td>4583.0</td>\n",
              "      <td>1508.0</td>\n",
              "      <td>128.000000</td>\n",
              "      <td>360.0</td>\n",
              "      <td>1.0</td>\n",
              "      <td>0.0</td>\n",
              "      <td>1.0</td>\n",
              "      <td>0.0</td>\n",
              "      <td>0.0</td>\n",
              "      <td>0.0</td>\n",
              "      <td>0.0</td>\n",
              "      <td>1.0</td>\n",
              "      <td>0.0</td>\n",
              "      <td>0.0</td>\n",
              "      <td>1.0</td>\n",
              "      <td>0.0</td>\n",
              "      <td>1.0</td>\n",
              "      <td>0.0</td>\n",
              "      <td>0.0</td>\n",
              "      <td>1.0</td>\n",
              "      <td>0.0</td>\n",
              "      <td>0.0</td>\n",
              "      <td>1.0</td>\n",
              "      <td>0.0</td>\n",
              "      <td>0.0</td>\n",
              "      <td>0.0</td>\n",
              "    </tr>\n",
              "    <tr>\n",
              "      <th>2</th>\n",
              "      <td>3000.0</td>\n",
              "      <td>0.0</td>\n",
              "      <td>66.000000</td>\n",
              "      <td>360.0</td>\n",
              "      <td>1.0</td>\n",
              "      <td>1.0</td>\n",
              "      <td>0.0</td>\n",
              "      <td>0.0</td>\n",
              "      <td>0.0</td>\n",
              "      <td>0.0</td>\n",
              "      <td>0.0</td>\n",
              "      <td>1.0</td>\n",
              "      <td>0.0</td>\n",
              "      <td>0.0</td>\n",
              "      <td>1.0</td>\n",
              "      <td>0.0</td>\n",
              "      <td>1.0</td>\n",
              "      <td>0.0</td>\n",
              "      <td>0.0</td>\n",
              "      <td>0.0</td>\n",
              "      <td>1.0</td>\n",
              "      <td>0.0</td>\n",
              "      <td>0.0</td>\n",
              "      <td>0.0</td>\n",
              "      <td>1.0</td>\n",
              "      <td>0.0</td>\n",
              "    </tr>\n",
              "    <tr>\n",
              "      <th>3</th>\n",
              "      <td>2583.0</td>\n",
              "      <td>2358.0</td>\n",
              "      <td>120.000000</td>\n",
              "      <td>360.0</td>\n",
              "      <td>1.0</td>\n",
              "      <td>1.0</td>\n",
              "      <td>0.0</td>\n",
              "      <td>0.0</td>\n",
              "      <td>0.0</td>\n",
              "      <td>0.0</td>\n",
              "      <td>0.0</td>\n",
              "      <td>1.0</td>\n",
              "      <td>0.0</td>\n",
              "      <td>0.0</td>\n",
              "      <td>1.0</td>\n",
              "      <td>0.0</td>\n",
              "      <td>0.0</td>\n",
              "      <td>1.0</td>\n",
              "      <td>0.0</td>\n",
              "      <td>1.0</td>\n",
              "      <td>0.0</td>\n",
              "      <td>0.0</td>\n",
              "      <td>0.0</td>\n",
              "      <td>0.0</td>\n",
              "      <td>1.0</td>\n",
              "      <td>0.0</td>\n",
              "    </tr>\n",
              "    <tr>\n",
              "      <th>4</th>\n",
              "      <td>6000.0</td>\n",
              "      <td>0.0</td>\n",
              "      <td>141.000000</td>\n",
              "      <td>360.0</td>\n",
              "      <td>1.0</td>\n",
              "      <td>1.0</td>\n",
              "      <td>0.0</td>\n",
              "      <td>0.0</td>\n",
              "      <td>0.0</td>\n",
              "      <td>0.0</td>\n",
              "      <td>0.0</td>\n",
              "      <td>1.0</td>\n",
              "      <td>0.0</td>\n",
              "      <td>1.0</td>\n",
              "      <td>0.0</td>\n",
              "      <td>0.0</td>\n",
              "      <td>1.0</td>\n",
              "      <td>0.0</td>\n",
              "      <td>0.0</td>\n",
              "      <td>1.0</td>\n",
              "      <td>0.0</td>\n",
              "      <td>0.0</td>\n",
              "      <td>0.0</td>\n",
              "      <td>0.0</td>\n",
              "      <td>1.0</td>\n",
              "      <td>0.0</td>\n",
              "    </tr>\n",
              "  </tbody>\n",
              "</table>\n",
              "</div>"
            ],
            "text/plain": [
              "   ApplicantIncome  CoapplicantIncome  ...  Property_Area_Urban  Property_Area_nan\n",
              "0           5849.0                0.0  ...                  1.0                0.0\n",
              "1           4583.0             1508.0  ...                  0.0                0.0\n",
              "2           3000.0                0.0  ...                  1.0                0.0\n",
              "3           2583.0             2358.0  ...                  1.0                0.0\n",
              "4           6000.0                0.0  ...                  1.0                0.0\n",
              "\n",
              "[5 rows x 26 columns]"
            ]
          },
          "metadata": {
            "tags": []
          }
        }
      ]
    },
    {
      "cell_type": "markdown",
      "metadata": {
        "id": "2Y8xGBqysJ8p"
      },
      "source": [
        "### アンダーサンプリング"
      ]
    },
    {
      "cell_type": "markdown",
      "metadata": {
        "id": "9roPIt_VsJ8q"
      },
      "source": [
        "アンダーサンプリングの実装例です。<br>負例（422件）が正例の件数（192件）まで削減されていることが確認できます。"
      ]
    },
    {
      "cell_type": "code",
      "metadata": {
        "id": "QcLJXPEXsJ8r",
        "outputId": "5e0824d9-f667-4a8a-9297-473c27215dc3",
        "colab": {
          "base_uri": "https://localhost:8080/"
        }
      },
      "source": [
        "# ランダムアンダーサンプリング\n",
        "from collections import Counter\n",
        "from imblearn.under_sampling import RandomUnderSampler\n",
        "rus = RandomUnderSampler(random_state=0)\n",
        "X_under, y_under = rus.fit_sample(X_ohe, y)\n",
        "Counter(y_under)"
      ],
      "execution_count": 12,
      "outputs": [
        {
          "output_type": "stream",
          "text": [
            "/usr/local/lib/python3.7/dist-packages/sklearn/utils/deprecation.py:87: FutureWarning: Function safe_indexing is deprecated; safe_indexing is deprecated in version 0.22 and will be removed in version 0.24.\n",
            "  warnings.warn(msg, category=FutureWarning)\n"
          ],
          "name": "stderr"
        },
        {
          "output_type": "execute_result",
          "data": {
            "text/plain": [
              "Counter({0: 192, 1: 192})"
            ]
          },
          "metadata": {
            "tags": []
          },
          "execution_count": 12
        }
      ]
    },
    {
      "cell_type": "markdown",
      "metadata": {
        "id": "6CFBrGrqsJ8s"
      },
      "source": [
        "### オーバーサンプリング"
      ]
    },
    {
      "cell_type": "markdown",
      "metadata": {
        "id": "gG47oJXjsJ8s"
      },
      "source": [
        "以下、オーバーサンプリングの実装例です。<br>正例（192件）が負例の件数（422件）まで増加していることが確認できます。"
      ]
    },
    {
      "cell_type": "code",
      "metadata": {
        "id": "_MgBcafosJ8t",
        "outputId": "0f9fb963-8045-4d8a-a44c-29f8e69ef503",
        "colab": {
          "base_uri": "https://localhost:8080/"
        }
      },
      "source": [
        "# ランダムオーバーサンプリング, SMOTE\n",
        "from imblearn.over_sampling import RandomOverSampler,SMOTE\n",
        "ros = RandomOverSampler(random_state=0)\n",
        "smt = SMOTE(random_state=0)\n",
        "\n",
        "X_over,y_over = ros.fit_sample(X_ohe, y)\n",
        "X_smt,y_smt = smt.fit_sample(X_ohe, y)\n",
        "\n",
        "print('Random Over Sampler',Counter(y_over))\n",
        "print('SMOTE', Counter(y_smt))"
      ],
      "execution_count": 13,
      "outputs": [
        {
          "output_type": "stream",
          "text": [
            "Random Over Sampler Counter({0: 422, 1: 422})\n",
            "SMOTE Counter({0: 422, 1: 422})\n"
          ],
          "name": "stdout"
        },
        {
          "output_type": "stream",
          "text": [
            "/usr/local/lib/python3.7/dist-packages/sklearn/utils/deprecation.py:87: FutureWarning: Function safe_indexing is deprecated; safe_indexing is deprecated in version 0.22 and will be removed in version 0.24.\n",
            "  warnings.warn(msg, category=FutureWarning)\n",
            "/usr/local/lib/python3.7/dist-packages/sklearn/utils/deprecation.py:87: FutureWarning: Function safe_indexing is deprecated; safe_indexing is deprecated in version 0.22 and will be removed in version 0.24.\n",
            "  warnings.warn(msg, category=FutureWarning)\n"
          ],
          "name": "stderr"
        }
      ]
    },
    {
      "cell_type": "markdown",
      "metadata": {
        "id": "HHqy5XC4sJ8u"
      },
      "source": [
        "最後に、不均衡対応別のモデルの比較評価の実行例を確認します。<b><br>モデルの評価用データはリサンプリング前に確保されるべきで点に留意しましょう。</b>"
      ]
    },
    {
      "cell_type": "code",
      "metadata": {
        "id": "JVHAcEsusJ8v",
        "outputId": "09ff910c-3a63-4f1c-cdaf-c8428fa5396a",
        "colab": {
          "base_uri": "https://localhost:8080/"
        }
      },
      "source": [
        "from sklearn.model_selection import train_test_split\n",
        "from sklearn.preprocessing import StandardScaler\n",
        "from sklearn.ensemble import GradientBoostingClassifier\n",
        "from sklearn.pipeline import Pipeline\n",
        "from sklearn.metrics import accuracy_score,f1_score\n",
        "\n",
        "# holdout\n",
        "X_train,X_test,y_train,y_test= train_test_split(X_ohe,\n",
        "                                                y,\n",
        "                                                test_size=0.20,\n",
        "                                                random_state=0)\n",
        "# resampling\n",
        "X_train_under, y_train_under = rus.fit_sample(X_train, y_train)\n",
        "X_train_over, y_train_over = ros.fit_sample(X_train, y_train)\n",
        "X_train_smt, y_train_smt = smt.fit_sample(X_train, y_train)\n",
        "\n",
        "# modeling\n",
        "pipe_gb = Pipeline([('scl',StandardScaler()),\n",
        "                    ('est',GradientBoostingClassifier(random_state=1))])\n",
        "# evaluation\n",
        "###############################################\n",
        "pipe_gb.fit(X_train,\n",
        "            y_train)\n",
        "print('Original Train:', \n",
        "      f1_score(y_train,\n",
        "               pipe_gb.predict(X_train)))\n",
        "print('Original Test:', \n",
        "      f1_score(y_test,\n",
        "               pipe_gb.predict(X_test)))\n",
        "###############################################\n",
        "pipe_gb.fit(X_train_under,\n",
        "            y_train_under)\n",
        "print('Undersampling Train:',\n",
        "      f1_score(y_train_under,\n",
        "               pipe_gb.predict(X_train_under)))\n",
        "print('Undersampling Test:', \n",
        "      f1_score(y_test,\n",
        "               pipe_gb.predict(X_test)))\n",
        "###############################################\n",
        "pipe_gb.fit(X_train_over,\n",
        "            y_train_over)\n",
        "print('Oversampling Train:',\n",
        "      f1_score(y_train_over,\n",
        "               pipe_gb.predict(X_train_over)))\n",
        "print('Oversampling Test:',\n",
        "      f1_score(y_test,\n",
        "               pipe_gb.predict(X_test)))\n",
        "###############################################\n",
        "pipe_gb.fit(X_train_smt,\n",
        "            y_train_smt)\n",
        "print('SMOTE Train:',\n",
        "      f1_score(y_train_smt,\n",
        "               pipe_gb.predict(X_train_smt)))\n",
        "print('SMOTE Test:',\n",
        "      f1_score(y_test,\n",
        "               pipe_gb.predict(X_test)))"
      ],
      "execution_count": 14,
      "outputs": [
        {
          "output_type": "stream",
          "text": [
            "/usr/local/lib/python3.7/dist-packages/sklearn/utils/deprecation.py:87: FutureWarning: Function safe_indexing is deprecated; safe_indexing is deprecated in version 0.22 and will be removed in version 0.24.\n",
            "  warnings.warn(msg, category=FutureWarning)\n",
            "/usr/local/lib/python3.7/dist-packages/sklearn/utils/deprecation.py:87: FutureWarning: Function safe_indexing is deprecated; safe_indexing is deprecated in version 0.22 and will be removed in version 0.24.\n",
            "  warnings.warn(msg, category=FutureWarning)\n",
            "/usr/local/lib/python3.7/dist-packages/sklearn/utils/deprecation.py:87: FutureWarning: Function safe_indexing is deprecated; safe_indexing is deprecated in version 0.22 and will be removed in version 0.24.\n",
            "  warnings.warn(msg, category=FutureWarning)\n"
          ],
          "name": "stderr"
        },
        {
          "output_type": "stream",
          "text": [
            "Original Train: 0.7940074906367042\n",
            "Original Test: 0.6181818181818182\n",
            "Undersampling Train: 0.9411764705882353\n",
            "Undersampling Test: 0.6024096385542169\n",
            "Oversampling Train: 0.9079365079365079\n",
            "Oversampling Test: 0.6086956521739131\n",
            "SMOTE Train: 0.8990228013029316\n",
            "SMOTE Test: 0.5555555555555556\n"
          ],
          "name": "stdout"
        }
      ]
    },
    {
      "cell_type": "markdown",
      "metadata": {
        "id": "78n6ZffIsJ8w"
      },
      "source": [
        "上記結果から、本データについては不均衡を「完全に解消する」メリットは見られませんでした。不均衡を解消する前のモデルパフォーマンスを定量的に把握した上で、不均衡をどの程度解消するとパフォーマンスがどのように変化するかを記録し、エビデンスを持った対応を心掛けましょう。"
      ]
    }
  ]
}