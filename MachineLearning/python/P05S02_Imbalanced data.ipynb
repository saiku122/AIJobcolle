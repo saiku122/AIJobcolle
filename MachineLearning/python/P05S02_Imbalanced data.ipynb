{
 "cells": [
  {
   "cell_type": "markdown",
   "metadata": {},
   "source": [
    "## 不均衡データへの対応"
   ]
  },
  {
   "cell_type": "markdown",
   "metadata": {},
   "source": [
    "まず分類用のサンプルデータであるローン審査データを読み込みます。<br>データ前処理はone-hotエンコーディングと欠損値補完までを行っています。"
   ]
  },
  {
   "cell_type": "code",
   "execution_count": null,
   "metadata": {
    "collapsed": true
   },
   "outputs": [],
   "source": [
    "import pandas as pd\n",
    "from sklearn.preprocessing import Imputer\n",
    "\n",
    "# import data\n",
    "df = pd.read_csv('./data/av_loan_u6lujuX_CVtuZ9i.csv', header=0)\n",
    "X = df.iloc[:, :-1]          # 最終列外を特徴量X\n",
    "X = X.drop('Loan_ID',axis=1) # Loan_IDはID情報のため特徴量から削除\n",
    "y = df.iloc[:,-1]            # 最終列を正解データ\n",
    "\n",
    "# ローン審査でNOとなったサンプルを1に変換\n",
    "class_mapping = {'N':1, 'Y':0}\n",
    "y = y.map(class_mapping)"
   ]
  },
  {
   "cell_type": "code",
   "execution_count": null,
   "metadata": {},
   "outputs": [],
   "source": [
    "# one-hot エンコーディング\n",
    "ohe_columns = ['Dependents',\n",
    "               'Gender',\n",
    "               'Married',\n",
    "               'Education',\n",
    "               'Self_Employed',\n",
    "               'Property_Area']\n",
    "\n",
    "X_ohe = pd.get_dummies(X,\n",
    "                       dummy_na=True,\n",
    "                       columns=ohe_columns)\n",
    "\n",
    "imp = Imputer(missing_values='NaN', strategy='mean', axis=0)\n",
    "imp.fit(X_ohe)\n",
    "X_ohe_columns = X_ohe.columns.values\n",
    "X_ohe = pd.DataFrame(imp.transform(X_ohe), columns=X_ohe_columns)\n",
    "\n",
    "display(X_ohe.head())"
   ]
  },
  {
   "cell_type": "markdown",
   "metadata": {},
   "source": [
    "### アンダーサンプリング"
   ]
  },
  {
   "cell_type": "markdown",
   "metadata": {},
   "source": [
    "アンダーサンプリングの実装例です。<br>負例（422件）が正例の件数（192件）まで削減されていることが確認できます。"
   ]
  },
  {
   "cell_type": "code",
   "execution_count": null,
   "metadata": {},
   "outputs": [],
   "source": [
    "# ランダムアンダーサンプリング\n",
    "from collections import Counter\n",
    "from imblearn.under_sampling import RandomUnderSampler\n",
    "rus = RandomUnderSampler(random_state=0)\n",
    "X_under, y_under = rus.fit_sample(X_ohe, y)\n",
    "Counter(y_under)"
   ]
  },
  {
   "cell_type": "markdown",
   "metadata": {},
   "source": [
    "### オーバーサンプリング"
   ]
  },
  {
   "cell_type": "markdown",
   "metadata": {},
   "source": [
    "以下、オーバーサンプリングの実装例です。<br>正例（192件）が負例の件数（422件）まで増加していることが確認できます。"
   ]
  },
  {
   "cell_type": "code",
   "execution_count": null,
   "metadata": {},
   "outputs": [],
   "source": [
    "# ランダムオーバーサンプリング, SMOTE\n",
    "from imblearn.over_sampling import RandomOverSampler,SMOTE\n",
    "ros = RandomOverSampler(random_state=0)\n",
    "smt = SMOTE(random_state=0)\n",
    "\n",
    "X_over,y_over = ros.fit_sample(X_ohe, y)\n",
    "X_smt,y_smt = smt.fit_sample(X_ohe, y)\n",
    "\n",
    "print('Random Over Sampler',Counter(y_over))\n",
    "print('SMOTE', Counter(y_smt))"
   ]
  },
  {
   "cell_type": "markdown",
   "metadata": {},
   "source": [
    "最後に、不均衡対応別のモデルの比較評価の実行例を確認します。<b><br>モデルの評価用データはリサンプリング前に確保されるべきで点に留意しましょう。</b>"
   ]
  },
  {
   "cell_type": "code",
   "execution_count": null,
   "metadata": {},
   "outputs": [],
   "source": [
    "from sklearn.model_selection import train_test_split\n",
    "from sklearn.preprocessing import StandardScaler\n",
    "from sklearn.ensemble import GradientBoostingClassifier\n",
    "from sklearn.pipeline import Pipeline\n",
    "from sklearn.metrics import accuracy_score,f1_score\n",
    "\n",
    "# holdout\n",
    "X_train,X_test,y_train,y_test= train_test_split(X_ohe,\n",
    "                                                y,\n",
    "                                                test_size=0.20,\n",
    "                                                random_state=0)\n",
    "# resampling\n",
    "X_train_under, y_train_under = rus.fit_sample(X_train, y_train)\n",
    "X_train_over, y_train_over = ros.fit_sample(X_train, y_train)\n",
    "X_train_smt, y_train_smt = smt.fit_sample(X_train, y_train)\n",
    "\n",
    "# modeling\n",
    "pipe_gb = Pipeline([('scl',StandardScaler()),\n",
    "                    ('est',GradientBoostingClassifier(random_state=1))])\n",
    "# evaluation\n",
    "###############################################\n",
    "pipe_gb.fit(X_train,\n",
    "            y_train)\n",
    "print('Original Train:', \n",
    "      f1_score(y_train,\n",
    "               pipe_gb.predict(X_train)))\n",
    "print('Original Test:', \n",
    "      f1_score(y_test,\n",
    "               pipe_gb.predict(X_test)))\n",
    "###############################################\n",
    "pipe_gb.fit(X_train_under,\n",
    "            y_train_under)\n",
    "print('Undersampling Train:',\n",
    "      f1_score(y_train_under,\n",
    "               pipe_gb.predict(X_train_under)))\n",
    "print('Undersampling Test:', \n",
    "      f1_score(y_test,\n",
    "               pipe_gb.predict(X_test)))\n",
    "###############################################\n",
    "pipe_gb.fit(X_train_over,\n",
    "            y_train_over)\n",
    "print('Oversampling Train:',\n",
    "      f1_score(y_train_over,\n",
    "               pipe_gb.predict(X_train_over)))\n",
    "print('Oversampling Test:',\n",
    "      f1_score(y_test,\n",
    "               pipe_gb.predict(X_test)))\n",
    "###############################################\n",
    "pipe_gb.fit(X_train_smt,\n",
    "            y_train_smt)\n",
    "print('SMOTE Train:',\n",
    "      f1_score(y_train_smt,\n",
    "               pipe_gb.predict(X_train_smt)))\n",
    "print('SMOTE Test:',\n",
    "      f1_score(y_test,\n",
    "               pipe_gb.predict(X_test)))"
   ]
  },
  {
   "cell_type": "markdown",
   "metadata": {},
   "source": [
    "上記結果から、本データについては不均衡を「完全に解消する」メリットは見られませんでした。不均衡を解消する前のモデルパフォーマンスを定量的に把握した上で、不均衡をどの程度解消するとパフォーマンスがどのように変化するかを記録し、エビデンスを持った対応を心掛けましょう。"
   ]
  }
 ],
 "metadata": {
  "kernelspec": {
   "display_name": "Python 3",
   "language": "python",
   "name": "python3"
  },
  "language_info": {
   "codemirror_mode": {
    "name": "ipython",
    "version": 3
   },
   "file_extension": ".py",
   "mimetype": "text/x-python",
   "name": "python",
   "nbconvert_exporter": "python",
   "pygments_lexer": "ipython3",
   "version": "3.5.3"
  }
 },
 "nbformat": 4,
 "nbformat_minor": 2
}
