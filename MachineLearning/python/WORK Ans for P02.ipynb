{
 "cells": [
  {
   "cell_type": "markdown",
   "metadata": {},
   "source": [
    "# WORK: week-2"
   ]
  },
  {
   "cell_type": "markdown",
   "metadata": {},
   "source": [
    "## [Work-1]  \n",
    "以下の設問に答えて下さい。\n",
    "###### Q1.リッジ回帰とはどのようなアルゴリズムか（OLSとの違いは）？\n",
    "    -リッジ回帰は正則化が考慮されたアルゴリズムで過学習を避ける機能が内包されている。\n",
    "\n",
    "###### Q2. 過学習への対処法を４つ挙げよ。\n",
    "    -アルゴリズム前：次元圧縮、特徴量選択（厳密にはOne Categoryぽいですが,,）\n",
    "    -アルゴリズム内：正則化\n",
    "    -アルゴリズム後：交叉検証\n",
    "\n",
    "\n",
    "###### Q3. ランダムフォレストのmax_depthのデフォルトはNoneとなっている。どのような決定木が生成されるか説明せよ。\n",
    "    - しっかりした木が生成される\n",
    "    - 深さはデータ次第だが100%正例/負例になるか、min_samples_split以上のうちは分岐を続ける\n",
    "    - RFが属するバギングには弱学習器で性能を出せるかという問いはない\n",
    "Reference: http://scikit-learn.org/stable/modules/generated/sklearn.ensemble.RandomForestRegressor.html\n",
    ">max_depth : integer or None, optional (default=None)  \n",
    ">The maximum depth of the tree. If None, then nodes are expanded until all leaves are pure or until all leaves contain less than min_samples_split samples.\n",
    "\n",
    "##### Q4. sklearnのGradientBoostingRregressorのmax_depthのデフォルトを確認せよ。\n",
    "    -深さ3の木がデフォルト\n",
    "    -深さ3が深いのか浅いのかはデータ次第だが、大規模データに対してと考えると浅い設定である\n",
    "    -一つの決定木で予測値を精緻化しようとはなっていない（弱学習器）\n",
    "Reference: http://scikit-learn.org/stable/modules/generated/sklearn.ensemble.GradientBoostingRegressor.html\n",
    "\n",
    "\n",
    "##### Q5. 「ブースティング」は一般に「弱学習器」の集合（アンサンブル）学習である。Q5とQ6の違いからその設計思想の違いを理解できたか？\n",
    "    - デフォルト設定の違いはブースティングの特徴に基づいている\n",
    "Reference: https://ja.wikipedia.org/wiki/%E3%83%96%E3%83%BC%E3%82%B9%E3%83%86%E3%82%A3%E3%83%B3%E3%82%B0\n",
    ">ブースティング（英: Boosting）とは、教師あり学習を実行するための機械学習メタアルゴリズムの一種。ブースティングは、Michael Kearns の提示した「一連の弱い学習機をまとめることで強い学習機を生成できるか？」という疑問に基づいている。"
   ]
  }
 ],
 "metadata": {
  "kernelspec": {
   "display_name": "Python 3",
   "language": "python",
   "name": "python3"
  },
  "language_info": {
   "codemirror_mode": {
    "name": "ipython",
    "version": 3
   },
   "file_extension": ".py",
   "mimetype": "text/x-python",
   "name": "python",
   "nbconvert_exporter": "python",
   "pygments_lexer": "ipython3",
   "version": "3.5.3"
  }
 },
 "nbformat": 4,
 "nbformat_minor": 2
}
