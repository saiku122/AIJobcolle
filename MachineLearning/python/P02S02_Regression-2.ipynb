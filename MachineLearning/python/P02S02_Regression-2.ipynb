{
  "nbformat": 4,
  "nbformat_minor": 0,
  "metadata": {
    "kernelspec": {
      "display_name": "Python 3",
      "language": "python",
      "name": "python3"
    },
    "language_info": {
      "codemirror_mode": {
        "name": "ipython",
        "version": 3
      },
      "file_extension": ".py",
      "mimetype": "text/x-python",
      "name": "python",
      "nbconvert_exporter": "python",
      "pygments_lexer": "ipython3",
      "version": "3.5.3"
    },
    "colab": {
      "name": "P02S02_Regression-2.ipynb",
      "provenance": [],
      "toc_visible": true,
      "include_colab_link": true
    }
  },
  "cells": [
    {
      "cell_type": "markdown",
      "metadata": {
        "id": "view-in-github",
        "colab_type": "text"
      },
      "source": [
        "<a href=\"https://colab.research.google.com/github/saiku122/AIJobcolle/blob/master/MachineLearning/python/P02S02_Regression-2.ipynb\" target=\"_parent\"><img src=\"https://colab.research.google.com/assets/colab-badge.svg\" alt=\"Open In Colab\"/></a>"
      ]
    },
    {
      "cell_type": "markdown",
      "metadata": {
        "id": "_Es1w9lRLoJf"
      },
      "source": [
        "## Regression-2: ridge vs ols by holdout and cross-validation"
      ]
    },
    {
      "cell_type": "code",
      "metadata": {
        "id": "sPM0RsrKVhn4",
        "outputId": "0f99d36a-441d-4459-b3fb-95b937a66bde",
        "colab": {
          "base_uri": "https://localhost:8080/"
        }
      },
      "source": [
        "!git clone https://github.com/saiku122/AIJobcolle.git"
      ],
      "execution_count": 1,
      "outputs": [
        {
          "output_type": "stream",
          "text": [
            "Cloning into 'AIJobcolle'...\n",
            "remote: Enumerating objects: 67, done.\u001b[K\n",
            "remote: Counting objects: 100% (67/67), done.\u001b[K\n",
            "remote: Compressing objects: 100% (46/46), done.\u001b[K\n",
            "remote: Total 67 (delta 17), reused 41 (delta 8), pack-reused 0\u001b[K\n",
            "Unpacking objects: 100% (67/67), done.\n"
          ],
          "name": "stdout"
        }
      ]
    },
    {
      "cell_type": "markdown",
      "metadata": {
        "id": "J4IUocpCLoJp"
      },
      "source": [
        "最小２乗回帰とリッジ回帰モデルを構築しモデル性能とその中身を比較してみましょう。<br>データはボストン・ハウジングデータを使います。"
      ]
    },
    {
      "cell_type": "code",
      "metadata": {
        "id": "n4LN0rKAVpMV",
        "outputId": "42886b33-4a2c-4c30-b062-18cac600aa62",
        "colab": {
          "base_uri": "https://localhost:8080/"
        }
      },
      "source": [
        "cd /content/AIJobcolle/MachineLearning/python"
      ],
      "execution_count": 2,
      "outputs": [
        {
          "output_type": "stream",
          "text": [
            "/content/AIJobcolle/MachineLearning/python\n"
          ],
          "name": "stdout"
        }
      ]
    },
    {
      "cell_type": "code",
      "metadata": {
        "id": "cHoPe_smLoJq",
        "outputId": "d3fa9add-d81a-48c2-86b5-1cfe79cf643b",
        "colab": {
          "base_uri": "https://localhost:8080/",
          "height": 275
        }
      },
      "source": [
        "# import data for regression\n",
        "import pandas as pd\n",
        "from IPython.core.display import display\n",
        "from sklearn.datasets import load_boston\n",
        "\n",
        "# set data by role\n",
        "dataset = load_boston()\n",
        "X = pd.DataFrame(dataset.data,\n",
        "                 columns=dataset.feature_names)\n",
        "y = pd.Series(dataset.target, name='y')\n",
        "\n",
        "# check the shape\n",
        "print('--------------------------------------------')\n",
        "print('X shape: (%i,%i)' %X.shape)\n",
        "print('--------------------------------------------')\n",
        "display(X.join(y).head())"
      ],
      "execution_count": 3,
      "outputs": [
        {
          "output_type": "stream",
          "text": [
            "--------------------------------------------\n",
            "X shape: (506,13)\n",
            "--------------------------------------------\n"
          ],
          "name": "stdout"
        },
        {
          "output_type": "display_data",
          "data": {
            "text/html": [
              "<div>\n",
              "<style scoped>\n",
              "    .dataframe tbody tr th:only-of-type {\n",
              "        vertical-align: middle;\n",
              "    }\n",
              "\n",
              "    .dataframe tbody tr th {\n",
              "        vertical-align: top;\n",
              "    }\n",
              "\n",
              "    .dataframe thead th {\n",
              "        text-align: right;\n",
              "    }\n",
              "</style>\n",
              "<table border=\"1\" class=\"dataframe\">\n",
              "  <thead>\n",
              "    <tr style=\"text-align: right;\">\n",
              "      <th></th>\n",
              "      <th>CRIM</th>\n",
              "      <th>ZN</th>\n",
              "      <th>INDUS</th>\n",
              "      <th>CHAS</th>\n",
              "      <th>NOX</th>\n",
              "      <th>RM</th>\n",
              "      <th>AGE</th>\n",
              "      <th>DIS</th>\n",
              "      <th>RAD</th>\n",
              "      <th>TAX</th>\n",
              "      <th>PTRATIO</th>\n",
              "      <th>B</th>\n",
              "      <th>LSTAT</th>\n",
              "      <th>y</th>\n",
              "    </tr>\n",
              "  </thead>\n",
              "  <tbody>\n",
              "    <tr>\n",
              "      <th>0</th>\n",
              "      <td>0.00632</td>\n",
              "      <td>18.0</td>\n",
              "      <td>2.31</td>\n",
              "      <td>0.0</td>\n",
              "      <td>0.538</td>\n",
              "      <td>6.575</td>\n",
              "      <td>65.2</td>\n",
              "      <td>4.0900</td>\n",
              "      <td>1.0</td>\n",
              "      <td>296.0</td>\n",
              "      <td>15.3</td>\n",
              "      <td>396.90</td>\n",
              "      <td>4.98</td>\n",
              "      <td>24.0</td>\n",
              "    </tr>\n",
              "    <tr>\n",
              "      <th>1</th>\n",
              "      <td>0.02731</td>\n",
              "      <td>0.0</td>\n",
              "      <td>7.07</td>\n",
              "      <td>0.0</td>\n",
              "      <td>0.469</td>\n",
              "      <td>6.421</td>\n",
              "      <td>78.9</td>\n",
              "      <td>4.9671</td>\n",
              "      <td>2.0</td>\n",
              "      <td>242.0</td>\n",
              "      <td>17.8</td>\n",
              "      <td>396.90</td>\n",
              "      <td>9.14</td>\n",
              "      <td>21.6</td>\n",
              "    </tr>\n",
              "    <tr>\n",
              "      <th>2</th>\n",
              "      <td>0.02729</td>\n",
              "      <td>0.0</td>\n",
              "      <td>7.07</td>\n",
              "      <td>0.0</td>\n",
              "      <td>0.469</td>\n",
              "      <td>7.185</td>\n",
              "      <td>61.1</td>\n",
              "      <td>4.9671</td>\n",
              "      <td>2.0</td>\n",
              "      <td>242.0</td>\n",
              "      <td>17.8</td>\n",
              "      <td>392.83</td>\n",
              "      <td>4.03</td>\n",
              "      <td>34.7</td>\n",
              "    </tr>\n",
              "    <tr>\n",
              "      <th>3</th>\n",
              "      <td>0.03237</td>\n",
              "      <td>0.0</td>\n",
              "      <td>2.18</td>\n",
              "      <td>0.0</td>\n",
              "      <td>0.458</td>\n",
              "      <td>6.998</td>\n",
              "      <td>45.8</td>\n",
              "      <td>6.0622</td>\n",
              "      <td>3.0</td>\n",
              "      <td>222.0</td>\n",
              "      <td>18.7</td>\n",
              "      <td>394.63</td>\n",
              "      <td>2.94</td>\n",
              "      <td>33.4</td>\n",
              "    </tr>\n",
              "    <tr>\n",
              "      <th>4</th>\n",
              "      <td>0.06905</td>\n",
              "      <td>0.0</td>\n",
              "      <td>2.18</td>\n",
              "      <td>0.0</td>\n",
              "      <td>0.458</td>\n",
              "      <td>7.147</td>\n",
              "      <td>54.2</td>\n",
              "      <td>6.0622</td>\n",
              "      <td>3.0</td>\n",
              "      <td>222.0</td>\n",
              "      <td>18.7</td>\n",
              "      <td>396.90</td>\n",
              "      <td>5.33</td>\n",
              "      <td>36.2</td>\n",
              "    </tr>\n",
              "  </tbody>\n",
              "</table>\n",
              "</div>"
            ],
            "text/plain": [
              "      CRIM    ZN  INDUS  CHAS    NOX  ...    TAX  PTRATIO       B  LSTAT     y\n",
              "0  0.00632  18.0   2.31   0.0  0.538  ...  296.0     15.3  396.90   4.98  24.0\n",
              "1  0.02731   0.0   7.07   0.0  0.469  ...  242.0     17.8  396.90   9.14  21.6\n",
              "2  0.02729   0.0   7.07   0.0  0.469  ...  242.0     17.8  392.83   4.03  34.7\n",
              "3  0.03237   0.0   2.18   0.0  0.458  ...  222.0     18.7  394.63   2.94  33.4\n",
              "4  0.06905   0.0   2.18   0.0  0.458  ...  222.0     18.7  396.90   5.33  36.2\n",
              "\n",
              "[5 rows x 14 columns]"
            ]
          },
          "metadata": {
            "tags": []
          }
        }
      ]
    },
    {
      "cell_type": "markdown",
      "metadata": {
        "id": "9fTQY0IjLoJr"
      },
      "source": [
        "OLSとRidgeのどちらが良い予測モデルかをholdoutにより検証してみましょう。このデータでは、OLSとリッジ回帰に大きな性能差は見られないと思います。ただし、リッジ回帰のalphaを大きくすると、係数総和が減少していく様子が確認できます。"
      ]
    },
    {
      "cell_type": "code",
      "metadata": {
        "id": "UzjDjhmBLoJs",
        "outputId": "221b52c3-3f8d-43a7-bb1e-59cd4d5be38f",
        "colab": {
          "base_uri": "https://localhost:8080/",
          "height": 162
        }
      },
      "source": [
        "import numpy as np\n",
        "from sklearn.preprocessing import StandardScaler\n",
        "from sklearn.linear_model import LinearRegression, Ridge\n",
        "from sklearn.pipeline import Pipeline\n",
        "from sklearn.model_selection import train_test_split\n",
        "from sklearn.metrics import r2_score\n",
        "\n",
        "# ホールドアウトのためデータを訓練とテストに分割\n",
        "X_train,X_test,y_train,y_test = train_test_split(X,\n",
        "                                                 y,\n",
        "                                                 test_size=0.20,\n",
        "                                                 random_state=1)\n",
        "# make pipelines\n",
        "pipelines = {\n",
        "   'ols': Pipeline([('scl',StandardScaler()), ('est',LinearRegression())])\n",
        "  ,'ridge1': Pipeline([('scl',StandardScaler()),('est',Ridge(alpha=1.0))])\n",
        "  ,'ridge2': Pipeline([('scl',StandardScaler()),('est',Ridge(alpha=20.0))])\n",
        "}\n",
        "\n",
        "# build models\n",
        "scores = {}\n",
        "for pipe_name, est in pipelines.items():\n",
        "    est.fit(X_train, y_train)\n",
        "    scores[('train',pipe_name)]=r2_score(y_train, est.predict(X_train))\n",
        "    scores[('test',pipe_name)]=r2_score(y_test, est.predict(X_test))\n",
        "\n",
        "display(pd.Series(scores).unstack())\n",
        "                                        \n",
        "# 回帰係数の総和比較\n",
        "# リッジ回帰の正則化項の役割把握（モデルの「性能」評価ではない）\n",
        "print('OLS coefficient total:%.6f'%(np.absolute(pipelines['ols'].named_steps['est'].coef_).sum()))\n",
        "print('Ridge coefficient total:%.6f'%(np.absolute(pipelines['ridge1'].named_steps['est'].coef_).sum()))\n",
        "print('Ridge coefficient total:%.6f'%(np.absolute(pipelines['ridge2'].named_steps['est'].coef_).sum()))"
      ],
      "execution_count": 4,
      "outputs": [
        {
          "output_type": "display_data",
          "data": {
            "text/html": [
              "<div>\n",
              "<style scoped>\n",
              "    .dataframe tbody tr th:only-of-type {\n",
              "        vertical-align: middle;\n",
              "    }\n",
              "\n",
              "    .dataframe tbody tr th {\n",
              "        vertical-align: top;\n",
              "    }\n",
              "\n",
              "    .dataframe thead th {\n",
              "        text-align: right;\n",
              "    }\n",
              "</style>\n",
              "<table border=\"1\" class=\"dataframe\">\n",
              "  <thead>\n",
              "    <tr style=\"text-align: right;\">\n",
              "      <th></th>\n",
              "      <th>ols</th>\n",
              "      <th>ridge1</th>\n",
              "      <th>ridge2</th>\n",
              "    </tr>\n",
              "  </thead>\n",
              "  <tbody>\n",
              "    <tr>\n",
              "      <th>test</th>\n",
              "      <td>0.763417</td>\n",
              "      <td>0.763404</td>\n",
              "      <td>0.758157</td>\n",
              "    </tr>\n",
              "    <tr>\n",
              "      <th>train</th>\n",
              "      <td>0.729359</td>\n",
              "      <td>0.729336</td>\n",
              "      <td>0.725291</td>\n",
              "    </tr>\n",
              "  </tbody>\n",
              "</table>\n",
              "</div>"
            ],
            "text/plain": [
              "            ols    ridge1    ridge2\n",
              "test   0.763417  0.763404  0.758157\n",
              "train  0.729359  0.729336  0.725291"
            ]
          },
          "metadata": {
            "tags": []
          }
        },
        {
          "output_type": "stream",
          "text": [
            "OLS coefficient total:22.063408\n",
            "Ridge coefficient total:21.710242\n",
            "Ridge coefficient total:18.013609\n"
          ],
          "name": "stdout"
        }
      ]
    },
    {
      "cell_type": "markdown",
      "metadata": {
        "id": "JZ40CDGILoJt"
      },
      "source": [
        "次に、交差検証（k-fold法）によって評価してみます。holdoutでは見られなかった評価値のブレに気付くでしょう。評価値がブレる場合、(1)学習データに存在する外れ値の処理の見直し、(2)よりシンプルなアルゴリズムの検討、(2)データサンプル数の拡充が基本的な打ち手となりますが、ここでは、<b>交差検証によって、holdoutでは見逃していた可能性のあるモデル精度の堅牢性（robustness）に対する懸念を把握し得ること</b>を理解しましょう。"
      ]
    },
    {
      "cell_type": "code",
      "metadata": {
        "id": "a3QRFcuuLoJt",
        "outputId": "69fd232e-6be4-4914-a373-e15e4f63e3dc",
        "colab": {
          "base_uri": "https://localhost:8080/"
        }
      },
      "source": [
        "from sklearn.model_selection import cross_val_score\n",
        "\n",
        "# build models\n",
        "scores={}\n",
        "for pipe_name, est in pipelines.items():\n",
        "    cv_results = cross_val_score(est,\n",
        "                                 X,\n",
        "                                 y,\n",
        "                                 cv=5,\n",
        "                                 scoring='r2')\n",
        "    print('----------')\n",
        "    print('algorithm:', pipe_name)\n",
        "    print('cv_results:', cv_results)\n",
        "    print('avg +- std_dev', cv_results.mean(),'+-', cv_results.std())"
      ],
      "execution_count": 5,
      "outputs": [
        {
          "output_type": "stream",
          "text": [
            "----------\n",
            "algorithm: ols\n",
            "cv_results: [ 0.63919994  0.71386698  0.58702344  0.07923081 -0.25294154]\n",
            "avg +- std_dev 0.35327592439588207 +- 0.376567839332623\n",
            "----------\n",
            "algorithm: ridge1\n",
            "cv_results: [ 0.64344111  0.71648023  0.58788768  0.08218971 -0.23681375]\n",
            "avg +- std_dev 0.3586369955712166 +- 0.3722111586754402\n",
            "----------\n",
            "algorithm: ridge2\n",
            "cv_results: [ 0.69338962  0.74221138  0.59160501  0.12868283 -0.04192937]\n",
            "avg +- std_dev 0.42279189511615056 +- 0.31818730396014044\n"
          ],
          "name": "stdout"
        }
      ]
    },
    {
      "cell_type": "markdown",
      "metadata": {
        "id": "XUClmyQpLoJu"
      },
      "source": [
        "<b>[確認してみよう]</b>hodloutによる確認時のrandom_stateを1から0に変更してみよう。評価値のブレは観測されるだろうか？"
      ]
    }
  ]
}