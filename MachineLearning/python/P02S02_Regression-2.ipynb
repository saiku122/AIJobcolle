{
 "cells": [
  {
   "cell_type": "markdown",
   "metadata": {},
   "source": [
    "## Regression-2: ridge vs ols by holdout and cross-validation"
   ]
  },
  {
   "cell_type": "markdown",
   "metadata": {},
   "source": [
    "最小２乗回帰とリッジ回帰モデルを構築しモデル性能とその中身を比較してみましょう。<br>データはボストン・ハウジングデータを使います。"
   ]
  },
  {
   "cell_type": "code",
   "execution_count": null,
   "metadata": {},
   "outputs": [],
   "source": [
    "# import data for regression\n",
    "import pandas as pd\n",
    "from IPython.core.display import display\n",
    "from sklearn.datasets import load_boston\n",
    "\n",
    "# set data by role\n",
    "dataset = load_boston()\n",
    "X = pd.DataFrame(dataset.data,\n",
    "                 columns=dataset.feature_names)\n",
    "y = pd.Series(dataset.target, name='y')\n",
    "\n",
    "# check the shape\n",
    "print('--------------------------------------------')\n",
    "print('X shape: (%i,%i)' %X.shape)\n",
    "print('--------------------------------------------')\n",
    "display(X.join(y).head())"
   ]
  },
  {
   "cell_type": "markdown",
   "metadata": {},
   "source": [
    "OLSとRidgeのどちらが良い予測モデルかをholdoutにより検証してみましょう。このデータでは、OLSとリッジ回帰に大きな性能差は見られないと思います。ただし、リッジ回帰のalphaを大きくすると、係数総和が減少していく様子が確認できます。"
   ]
  },
  {
   "cell_type": "code",
   "execution_count": null,
   "metadata": {},
   "outputs": [],
   "source": [
    "import numpy as np\n",
    "from sklearn.preprocessing import StandardScaler\n",
    "from sklearn.linear_model import LinearRegression, Ridge\n",
    "from sklearn.pipeline import Pipeline\n",
    "from sklearn.model_selection import train_test_split\n",
    "from sklearn.metrics import r2_score\n",
    "\n",
    "# ホールドアウトのためデータを訓練とテストに分割\n",
    "X_train,X_test,y_train,y_test = train_test_split(X,\n",
    "                                                 y,\n",
    "                                                 test_size=0.20,\n",
    "                                                 random_state=1)\n",
    "# make pipelines\n",
    "pipelines = {\n",
    "   'ols': Pipeline([('scl',StandardScaler()), ('est',LinearRegression())])\n",
    "  ,'ridge1': Pipeline([('scl',StandardScaler()),('est',Ridge(alpha=1.0))])\n",
    "  ,'ridge2': Pipeline([('scl',StandardScaler()),('est',Ridge(alpha=20.0))])\n",
    "}\n",
    "\n",
    "# build models\n",
    "scores = {}\n",
    "for pipe_name, est in pipelines.items():\n",
    "    est.fit(X_train, y_train)\n",
    "    scores[('train',pipe_name)]=r2_score(y_train, est.predict(X_train))\n",
    "    scores[('test',pipe_name)]=r2_score(y_test, est.predict(X_test))\n",
    "\n",
    "display(pd.Series(scores).unstack())\n",
    "                                        \n",
    "# 回帰係数の総和比較\n",
    "# リッジ回帰の正則化項の役割把握（モデルの「性能」評価ではない）\n",
    "print('OLS coefficient total:%.6f'%(np.absolute(pipelines['ols'].named_steps['est'].coef_).sum()))\n",
    "print('Ridge coefficient total:%.6f'%(np.absolute(pipelines['ridge1'].named_steps['est'].coef_).sum()))\n",
    "print('Ridge coefficient total:%.6f'%(np.absolute(pipelines['ridge2'].named_steps['est'].coef_).sum()))"
   ]
  },
  {
   "cell_type": "markdown",
   "metadata": {},
   "source": [
    "次に、交差検証（k-fold法）によって評価してみます。holdoutでは見られなかった評価値のブレに気付くでしょう。評価値がブレる場合、(1)学習データに存在する外れ値の処理の見直し、(2)よりシンプルなアルゴリズムの検討、(2)データサンプル数の拡充が基本的な打ち手となりますが、ここでは、<b>交差検証によって、holdoutでは見逃していた可能性のあるモデル精度の堅牢性（robustness）に対する懸念を把握し得ること</b>を理解しましょう。"
   ]
  },
  {
   "cell_type": "code",
   "execution_count": null,
   "metadata": {},
   "outputs": [],
   "source": [
    "from sklearn.model_selection import cross_val_score\n",
    "\n",
    "# build models\n",
    "scores={}\n",
    "for pipe_name, est in pipelines.items():\n",
    "    cv_results = cross_val_score(est,\n",
    "                                 X,\n",
    "                                 y,\n",
    "                                 cv=5,\n",
    "                                 scoring='r2')\n",
    "    print('----------')\n",
    "    print('algorithm:', pipe_name)\n",
    "    print('cv_results:', cv_results)\n",
    "    print('avg +- std_dev', cv_results.mean(),'+-', cv_results.std())"
   ]
  },
  {
   "cell_type": "markdown",
   "metadata": {},
   "source": [
    "<b>[確認してみよう]</b>hodloutによる確認時のrandom_stateを1から0に変更してみよう。評価値のブレは観測されるだろうか？"
   ]
  }
 ],
 "metadata": {
  "kernelspec": {
   "display_name": "Python 3",
   "language": "python",
   "name": "python3"
  },
  "language_info": {
   "codemirror_mode": {
    "name": "ipython",
    "version": 3
   },
   "file_extension": ".py",
   "mimetype": "text/x-python",
   "name": "python",
   "nbconvert_exporter": "python",
   "pygments_lexer": "ipython3",
   "version": "3.5.3"
  }
 },
 "nbformat": 4,
 "nbformat_minor": 2
}
