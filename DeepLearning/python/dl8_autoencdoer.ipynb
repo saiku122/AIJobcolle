{
  "nbformat": 4,
  "nbformat_minor": 0,
  "metadata": {
    "colab": {
      "name": "autoencdoer.ipynb",
      "provenance": [],
      "collapsed_sections": []
    },
    "kernelspec": {
      "name": "python3",
      "display_name": "Python 3"
    },
    "accelerator": "GPU"
  },
  "cells": [
    {
      "cell_type": "code",
      "metadata": {
        "id": "9sNgy5d7KJQs",
        "colab_type": "code",
        "outputId": "20eb27db-e28f-4613-aaa8-2884f5e40f05",
        "colab": {
          "base_uri": "https://localhost:8080/",
          "height": 102
        }
      },
      "source": [
        "! pip install -q pydot==1.2.3 graphviz\n",
        "! apt-get install -yq graphviz"
      ],
      "execution_count": 0,
      "outputs": [
        {
          "output_type": "stream",
          "text": [
            "Reading package lists...\n",
            "Building dependency tree...\n",
            "Reading state information...\n",
            "graphviz is already the newest version (2.38.0-16ubuntu2).\n",
            "0 upgraded, 0 newly installed, 0 to remove and 0 not upgraded.\n"
          ],
          "name": "stdout"
        }
      ]
    },
    {
      "cell_type": "code",
      "metadata": {
        "id": "PWY1aVrFc8Wo",
        "colab_type": "code",
        "colab": {}
      },
      "source": [
        "from keras.layers import Input, Dense\n",
        "from keras.models import Model\n",
        "\n",
        "# Encoder でどれくらい次元を落とす（圧縮する）かを指定\n",
        "encoding_dim = 32\n",
        "\n",
        "input_img = Input(shape=(784,))\n",
        "encoded = Dense(encoding_dim, activation='relu')(input_img)\n",
        "decoded = Dense(784, activation='sigmoid')(encoded)\n",
        "\n",
        "autoencoder = Model(input_img, decoded)"
      ],
      "execution_count": 0,
      "outputs": []
    },
    {
      "cell_type": "code",
      "metadata": {
        "id": "IHiapxAQLbgh",
        "colab_type": "code",
        "colab": {}
      },
      "source": [
        "encoder = Model(input_img, encoded)\n"
      ],
      "execution_count": 0,
      "outputs": []
    },
    {
      "cell_type": "code",
      "metadata": {
        "id": "Zq3gHGyNLdmS",
        "colab_type": "code",
        "colab": {}
      },
      "source": [
        "encoded_input = Input(shape=(encoding_dim,))\n",
        "decoder_layer = autoencoder.layers[-1]\n",
        "decoder = Model(encoded_input, decoder_layer(encoded_input))"
      ],
      "execution_count": 0,
      "outputs": []
    },
    {
      "cell_type": "code",
      "metadata": {
        "id": "gYwvzjSYLe-2",
        "colab_type": "code",
        "colab": {}
      },
      "source": [
        "autoencoder.compile(optimizer='adam', loss='binary_crossentropy')"
      ],
      "execution_count": 0,
      "outputs": []
    },
    {
      "cell_type": "code",
      "metadata": {
        "id": "nkJe2qBTLf0L",
        "colab_type": "code",
        "colab": {}
      },
      "source": [
        "from keras.datasets import mnist\n",
        "import numpy as np\n",
        "(x_train, _), (x_test, _) = mnist.load_data()"
      ],
      "execution_count": 0,
      "outputs": []
    },
    {
      "cell_type": "code",
      "metadata": {
        "id": "Uwcgyj3GLilt",
        "colab_type": "code",
        "outputId": "5c67cd28-1279-4d14-9976-68ec29398cbf",
        "colab": {
          "base_uri": "https://localhost:8080/",
          "height": 51
        }
      },
      "source": [
        "x_train = x_train.astype('float32') / 255.\n",
        "x_test = x_test.astype('float32') / 255.\n",
        "x_train = x_train.reshape((len(x_train), np.prod(x_train.shape[1:])))\n",
        "x_test = x_test.reshape((len(x_test), np.prod(x_test.shape[1:])))\n",
        "print(x_train.shape)\n",
        "print(x_test.shape)"
      ],
      "execution_count": 0,
      "outputs": [
        {
          "output_type": "stream",
          "text": [
            "(60000, 784)\n",
            "(10000, 784)\n"
          ],
          "name": "stdout"
        }
      ]
    },
    {
      "cell_type": "code",
      "metadata": {
        "id": "rl8DfGooLlTe",
        "colab_type": "code",
        "outputId": "2aef4071-27a9-4566-e26f-d9f6cd78e9f8",
        "colab": {
          "base_uri": "https://localhost:8080/",
          "height": 1771
        }
      },
      "source": [
        "autoencoder.fit(x_train, x_train,\n",
        "                epochs=50,\n",
        "                batch_size=256,\n",
        "                shuffle=True,\n",
        "                validation_data=(x_test, x_test))"
      ],
      "execution_count": 0,
      "outputs": [
        {
          "output_type": "stream",
          "text": [
            "Train on 60000 samples, validate on 10000 samples\n",
            "Epoch 1/50\n",
            "60000/60000 [==============================] - 2s 36us/step - loss: 0.2736 - val_loss: 0.1879\n",
            "Epoch 2/50\n",
            "60000/60000 [==============================] - 2s 35us/step - loss: 0.1690 - val_loss: 0.1523\n",
            "Epoch 3/50\n",
            "60000/60000 [==============================] - 2s 35us/step - loss: 0.1430 - val_loss: 0.1322\n",
            "Epoch 4/50\n",
            "60000/60000 [==============================] - 2s 35us/step - loss: 0.1271 - val_loss: 0.1200\n",
            "Epoch 5/50\n",
            "60000/60000 [==============================] - 2s 35us/step - loss: 0.1171 - val_loss: 0.1118\n",
            "Epoch 6/50\n",
            "60000/60000 [==============================] - 2s 36us/step - loss: 0.1100 - val_loss: 0.1057\n",
            "Epoch 7/50\n",
            "19712/60000 [========>.....................] - ETA: 1s - loss: 0.1064"
          ],
          "name": "stdout"
        },
        {
          "output_type": "stream",
          "text": [
            "60000/60000 [==============================] - 2s 34us/step - loss: 0.1048 - val_loss: 0.1014\n",
            "Epoch 8/50\n",
            "60000/60000 [==============================] - 2s 34us/step - loss: 0.1011 - val_loss: 0.0984\n",
            "Epoch 9/50\n",
            "60000/60000 [==============================] - 2s 35us/step - loss: 0.0986 - val_loss: 0.0963\n",
            "Epoch 10/50\n",
            "60000/60000 [==============================] - 2s 35us/step - loss: 0.0969 - val_loss: 0.0948\n",
            "Epoch 11/50\n",
            "60000/60000 [==============================] - 2s 35us/step - loss: 0.0957 - val_loss: 0.0939\n",
            "Epoch 12/50\n",
            "60000/60000 [==============================] - 2s 35us/step - loss: 0.0950 - val_loss: 0.0933\n",
            "Epoch 13/50\n",
            "56832/60000 [===========================>..] - ETA: 0s - loss: 0.0945"
          ],
          "name": "stdout"
        },
        {
          "output_type": "stream",
          "text": [
            "60000/60000 [==============================] - 2s 35us/step - loss: 0.0945 - val_loss: 0.0929\n",
            "Epoch 14/50\n",
            "60000/60000 [==============================] - 2s 35us/step - loss: 0.0941 - val_loss: 0.0927\n",
            "Epoch 15/50\n",
            "60000/60000 [==============================] - 2s 35us/step - loss: 0.0939 - val_loss: 0.0925\n",
            "Epoch 16/50\n",
            "60000/60000 [==============================] - 2s 35us/step - loss: 0.0937 - val_loss: 0.0923\n",
            "Epoch 17/50\n",
            "60000/60000 [==============================] - 2s 34us/step - loss: 0.0935 - val_loss: 0.0921\n",
            "Epoch 18/50\n",
            "60000/60000 [==============================] - 2s 36us/step - loss: 0.0934 - val_loss: 0.0921\n",
            "Epoch 19/50\n",
            "56320/60000 [===========================>..] - ETA: 0s - loss: 0.0933"
          ],
          "name": "stdout"
        },
        {
          "output_type": "stream",
          "text": [
            "60000/60000 [==============================] - 2s 36us/step - loss: 0.0933 - val_loss: 0.0920\n",
            "Epoch 20/50\n",
            "60000/60000 [==============================] - 2s 34us/step - loss: 0.0932 - val_loss: 0.0919\n",
            "Epoch 21/50\n",
            "60000/60000 [==============================] - 2s 36us/step - loss: 0.0931 - val_loss: 0.0920\n",
            "Epoch 22/50\n",
            "60000/60000 [==============================] - 2s 36us/step - loss: 0.0931 - val_loss: 0.0919\n",
            "Epoch 23/50\n",
            "60000/60000 [==============================] - 2s 35us/step - loss: 0.0930 - val_loss: 0.0917\n",
            "Epoch 24/50\n",
            "60000/60000 [==============================] - 2s 35us/step - loss: 0.0930 - val_loss: 0.0917\n",
            "Epoch 25/50\n",
            "57856/60000 [===========================>..] - ETA: 0s - loss: 0.0930"
          ],
          "name": "stdout"
        },
        {
          "output_type": "stream",
          "text": [
            "60000/60000 [==============================] - 2s 35us/step - loss: 0.0929 - val_loss: 0.0917\n",
            "Epoch 26/50\n",
            "60000/60000 [==============================] - 2s 34us/step - loss: 0.0929 - val_loss: 0.0917\n",
            "Epoch 27/50\n",
            "60000/60000 [==============================] - 2s 35us/step - loss: 0.0929 - val_loss: 0.0917\n",
            "Epoch 28/50\n",
            "60000/60000 [==============================] - 2s 35us/step - loss: 0.0929 - val_loss: 0.0916\n",
            "Epoch 29/50\n",
            "60000/60000 [==============================] - 2s 35us/step - loss: 0.0928 - val_loss: 0.0916\n",
            "Epoch 30/50\n",
            "60000/60000 [==============================] - 2s 36us/step - loss: 0.0928 - val_loss: 0.0915\n",
            "Epoch 31/50\n",
            "55296/60000 [==========================>...] - ETA: 0s - loss: 0.0928"
          ],
          "name": "stdout"
        },
        {
          "output_type": "stream",
          "text": [
            "60000/60000 [==============================] - 2s 36us/step - loss: 0.0928 - val_loss: 0.0916\n",
            "Epoch 32/50\n",
            "60000/60000 [==============================] - 2s 35us/step - loss: 0.0928 - val_loss: 0.0915\n",
            "Epoch 33/50\n",
            "60000/60000 [==============================] - 2s 35us/step - loss: 0.0928 - val_loss: 0.0915\n",
            "Epoch 34/50\n",
            "60000/60000 [==============================] - 2s 35us/step - loss: 0.0927 - val_loss: 0.0915\n",
            "Epoch 35/50\n",
            "60000/60000 [==============================] - 2s 35us/step - loss: 0.0927 - val_loss: 0.0915\n",
            "Epoch 36/50\n",
            "60000/60000 [==============================] - 2s 35us/step - loss: 0.0927 - val_loss: 0.0915\n",
            "Epoch 37/50\n",
            "55552/60000 [==========================>...] - ETA: 0s - loss: 0.0927"
          ],
          "name": "stdout"
        },
        {
          "output_type": "stream",
          "text": [
            "60000/60000 [==============================] - 2s 35us/step - loss: 0.0927 - val_loss: 0.0916\n",
            "Epoch 38/50\n",
            "60000/60000 [==============================] - 2s 36us/step - loss: 0.0927 - val_loss: 0.0915\n",
            "Epoch 39/50\n",
            "60000/60000 [==============================] - 2s 37us/step - loss: 0.0927 - val_loss: 0.0915\n",
            "Epoch 40/50\n",
            "60000/60000 [==============================] - 2s 36us/step - loss: 0.0926 - val_loss: 0.0914\n",
            "Epoch 41/50\n",
            "60000/60000 [==============================] - 2s 36us/step - loss: 0.0926 - val_loss: 0.0914\n",
            "Epoch 42/50\n",
            "60000/60000 [==============================] - 2s 36us/step - loss: 0.0926 - val_loss: 0.0915\n",
            "Epoch 43/50\n",
            "52224/60000 [=========================>....] - ETA: 0s - loss: 0.0925"
          ],
          "name": "stdout"
        },
        {
          "output_type": "stream",
          "text": [
            "60000/60000 [==============================] - 2s 35us/step - loss: 0.0926 - val_loss: 0.0914\n",
            "Epoch 44/50\n",
            "60000/60000 [==============================] - 2s 36us/step - loss: 0.0926 - val_loss: 0.0914\n",
            "Epoch 45/50\n",
            "60000/60000 [==============================] - 2s 36us/step - loss: 0.0926 - val_loss: 0.0914\n",
            "Epoch 46/50\n",
            "60000/60000 [==============================] - 2s 36us/step - loss: 0.0926 - val_loss: 0.0915\n",
            "Epoch 47/50\n",
            "60000/60000 [==============================] - 2s 37us/step - loss: 0.0926 - val_loss: 0.0914\n",
            "Epoch 48/50\n",
            "60000/60000 [==============================] - 2s 37us/step - loss: 0.0926 - val_loss: 0.0915\n",
            "Epoch 49/50\n",
            "46080/60000 [======================>.......] - ETA: 0s - loss: 0.0925"
          ],
          "name": "stdout"
        },
        {
          "output_type": "stream",
          "text": [
            "60000/60000 [==============================] - 2s 38us/step - loss: 0.0926 - val_loss: 0.0915\n",
            "Epoch 50/50\n",
            "60000/60000 [==============================] - 2s 38us/step - loss: 0.0926 - val_loss: 0.0914\n"
          ],
          "name": "stdout"
        },
        {
          "output_type": "execute_result",
          "data": {
            "text/plain": [
              "<keras.callbacks.History at 0x7fcdafdccd68>"
            ]
          },
          "metadata": {
            "tags": []
          },
          "execution_count": 21
        }
      ]
    },
    {
      "cell_type": "code",
      "metadata": {
        "id": "GwSm90YKLnfh",
        "colab_type": "code",
        "colab": {}
      },
      "source": [
        "encoded_imgs = encoder.predict(x_test)\n",
        "decoded_imgs = decoder.predict(encoded_imgs)"
      ],
      "execution_count": 0,
      "outputs": []
    },
    {
      "cell_type": "code",
      "metadata": {
        "id": "RTN--CFNLpOx",
        "colab_type": "code",
        "outputId": "5f7c46f8-7af1-4799-addf-691aab9183f5",
        "colab": {
          "base_uri": "https://localhost:8080/",
          "height": 264
        }
      },
      "source": [
        "# use Matplotlib (don't ask)\n",
        "import matplotlib.pyplot as plt\n",
        "\n",
        "n = 10  # how many digits we will display\n",
        "plt.figure(figsize=(20, 4))\n",
        "for i in range(n):\n",
        "    # display original\n",
        "    ax = plt.subplot(2, n, i + 1)\n",
        "    plt.imshow(x_test[i].reshape(28, 28))\n",
        "    plt.gray()\n",
        "    ax.get_xaxis().set_visible(False)\n",
        "    ax.get_yaxis().set_visible(False)\n",
        "\n",
        "    # display reconstruction\n",
        "    ax = plt.subplot(2, n, i + 1 + n)\n",
        "    plt.imshow(decoded_imgs[i].reshape(28, 28))\n",
        "    plt.gray()\n",
        "    ax.get_xaxis().set_visible(False)\n",
        "    ax.get_yaxis().set_visible(False)\n",
        "plt.show()"
      ],
      "execution_count": 0,
      "outputs": [
        {
          "output_type": "display_data",
          "data": {
            "image/png": "[encoded data removed]",
            "text/plain": [
              "<matplotlib.figure.Figure at 0x7fcdac5d6048>"
            ]
          },
          "metadata": {
            "tags": []
          }
        }
      ]
    },
    {
      "cell_type": "code",
      "metadata": {
        "id": "5fYbOLZ5TZ0a",
        "colab_type": "code",
        "colab": {}
      },
      "source": [
        ""
      ],
      "execution_count": 0,
      "outputs": []
    }
  ]
}