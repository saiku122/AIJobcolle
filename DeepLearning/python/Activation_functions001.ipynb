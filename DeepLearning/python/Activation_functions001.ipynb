{
  "nbformat": 4,
  "nbformat_minor": 0,
  "metadata": {
    "colab": {
      "name": "Activation_functions.ipynb",
      "provenance": [],
      "collapsed_sections": []
    },
    "kernelspec": {
      "name": "python3",
      "display_name": "Python 3"
    }
  },
  "cells": [
    {
      "cell_type": "markdown",
      "metadata": {
        "id": "8DidRy7k9EqH",
        "colab_type": "text"
      },
      "source": [
        "# ステップ関数\n",
        "\n"
      ]
    },
    {
      "cell_type": "markdown",
      "metadata": {
        "id": "MeCx2ik4Qqts",
        "colab_type": "text"
      },
      "source": [
        "$$\n",
        "    y =\n",
        "        \\begin{cases}\n",
        "            1 \\quad x \\geqq 0 \\\\\n",
        "            0 \\quad x < 0 \\\\\n",
        "        \\end{cases}\n",
        "$$"
      ]
    },
    {
      "cell_type": "code",
      "metadata": {
        "id": "aqEQxlvy8gmp",
        "colab_type": "code",
        "outputId": "ac1c19aa-3dd0-4784-d1f3-35c9e4600f6f",
        "colab": {
          "base_uri": "https://localhost:8080/",
          "height": 269
        }
      },
      "source": [
        "import numpy as np\n",
        "import matplotlib.pylab as plt\n",
        "\n",
        "def step_function(x):\n",
        "  y = x > 0\n",
        "  return y.astype(np.int)\n",
        "\n",
        "x = np.arange(-5.0, 5.0, 0.1)\n",
        "y = step_function(x)\n",
        "plt.plot(x, y)\n",
        "plt.ylim(-0.1, 1.1)\n",
        "plt.show()"
      ],
      "execution_count": 0,
      "outputs": [
        {
          "output_type": "display_data",
          "data": {
            "image/png": "[encoded data removed]",
            "text/plain": [
              "<Figure size 432x288 with 1 Axes>"
            ]
          },
          "metadata": {
            "tags": []
          }
        }
      ]
    },
    {
      "cell_type": "markdown",
      "metadata": {
        "id": "DGHrfsH4--Sm",
        "colab_type": "text"
      },
      "source": [
        "# シグモイド関数"
      ]
    },
    {
      "cell_type": "markdown",
      "metadata": {
        "id": "NvVqWv4BQ3_C",
        "colab_type": "text"
      },
      "source": [
        "$$\n",
        "    y =\n",
        "        \\frac{1}{1 + e^{-x}}\n",
        "$$"
      ]
    },
    {
      "cell_type": "code",
      "metadata": {
        "id": "nqY5pqNp9A_h",
        "colab_type": "code",
        "outputId": "ebb7c3cf-a796-4351-9462-55491c8c0f59",
        "colab": {
          "base_uri": "https://localhost:8080/",
          "height": 269
        }
      },
      "source": [
        "def sigmoid(x):\n",
        "  return 1 / (1+np.exp(-x))\n",
        "\n",
        "x = np.arange(-5.0, 5.0, 0.1)\n",
        "y = sigmoid(x)\n",
        "plt.plot(x, y)\n",
        "plt.ylim(-0.1, 1.1)\n",
        "plt.show()"
      ],
      "execution_count": 0,
      "outputs": [
        {
          "output_type": "display_data",
          "data": {
            "image/png": "[encoded data removed]",
            "text/plain": [
              "<Figure size 432x288 with 1 Axes>"
            ]
          },
          "metadata": {
            "tags": []
          }
        }
      ]
    },
    {
      "cell_type": "markdown",
      "metadata": {
        "id": "tPuPxkiU_Ss_",
        "colab_type": "text"
      },
      "source": [
        "# ReLU関数"
      ]
    },
    {
      "cell_type": "markdown",
      "metadata": {
        "id": "OntioYCeQlXn",
        "colab_type": "text"
      },
      "source": [
        "$$\n",
        "    y =\n",
        "        \\begin{cases}\n",
        "            x \\quad x \\geqq 0 \\\\\n",
        "            0 \\quad x < 0 \\\\\n",
        "        \\end{cases}\n",
        "$$"
      ]
    },
    {
      "cell_type": "code",
      "metadata": {
        "id": "Vj4Slhi6-9cm",
        "colab_type": "code",
        "outputId": "84224bb6-cda9-45bc-ec39-f63cd3a26feb",
        "colab": {
          "base_uri": "https://localhost:8080/",
          "height": 269
        }
      },
      "source": [
        "def relu(x):\n",
        "  return np.maximum(0, x)\n",
        "\n",
        "x = np.arange(-5.0, 5.0, 0.1)\n",
        "y = relu(x)\n",
        "plt.plot(x, y)\n",
        "plt.show()"
      ],
      "execution_count": 0,
      "outputs": [
        {
          "output_type": "display_data",
          "data": {
            "image/png": "[encoded data removed]",
            "text/plain": [
              "<Figure size 432x288 with 1 Axes>"
            ]
          },
          "metadata": {
            "tags": []
          }
        }
      ]
    },
    {
      "cell_type": "markdown",
      "metadata": {
        "id": "fEcTRDd-Aljc",
        "colab_type": "text"
      },
      "source": [
        "# Leaky ReLU"
      ]
    },
    {
      "cell_type": "markdown",
      "metadata": {
        "id": "ei7lZNo4R6z_",
        "colab_type": "text"
      },
      "source": [
        "$$\n",
        "    y =\n",
        "        \\begin{cases}\n",
        "            x \\quad x \\geqq 0 \\\\\n",
        "            0.01x \\quad x < 0 \\\\\n",
        "        \\end{cases}\n",
        "$$"
      ]
    },
    {
      "cell_type": "code",
      "metadata": {
        "id": "nUsPX1UVAlSd",
        "colab_type": "code",
        "outputId": "172577bb-b7f4-4a5c-f8a3-309aef4fc417",
        "colab": {
          "base_uri": "https://localhost:8080/",
          "height": 269
        }
      },
      "source": [
        "def LRelu(x):\n",
        "    y = np.where(x > 0, x , 0.01 * x)\n",
        "    return y\n",
        "\n",
        "x = np.arange(-5, 5, 0.1)\n",
        "y = LRelu(x)\n",
        "plt.plot(x, y)\n",
        "plt.show()"
      ],
      "execution_count": 0,
      "outputs": [
        {
          "output_type": "display_data",
          "data": {
            "image/png": "[encoded data removed]",
            "text/plain": [
              "<Figure size 432x288 with 1 Axes>"
            ]
          },
          "metadata": {
            "tags": []
          }
        }
      ]
    },
    {
      "cell_type": "markdown",
      "metadata": {
        "id": "TVM24Ox1_bwC",
        "colab_type": "text"
      },
      "source": [
        "# ソフトマックス関数"
      ]
    },
    {
      "cell_type": "markdown",
      "metadata": {
        "id": "X3xZIhBwSgyn",
        "colab_type": "text"
      },
      "source": [
        "$$\n",
        "    y_k =\n",
        "            \\frac{\\exp(a_k)}{\\sum_{i=0}^{n}{\\exp(a_i)}} \n",
        "$$"
      ]
    },
    {
      "cell_type": "code",
      "metadata": {
        "id": "lmjIw645_WsL",
        "colab_type": "code",
        "outputId": "c0a39eba-4a90-4896-b081-bd604c79701e",
        "colab": {
          "base_uri": "https://localhost:8080/",
          "height": 269
        }
      },
      "source": [
        "def softmax(a):\n",
        "  exp_a = np.exp(a)\n",
        "  sum_exp_a = np.sum(exp_a)\n",
        "  y = exp_a / sum_exp_a\n",
        "  return y\n",
        "\n",
        "x = np.arange(-5, 5, 0.1)\n",
        "y = softmax(x)\n",
        "plt.plot(x, y)\n",
        "plt.show()"
      ],
      "execution_count": 0,
      "outputs": [
        {
          "output_type": "display_data",
          "data": {
            "image/png": "[encoded data removed]",
            "text/plain": [
              "<Figure size 432x288 with 1 Axes>"
            ]
          },
          "metadata": {
            "tags": []
          }
        }
      ]
    },
    {
      "cell_type": "markdown",
      "metadata": {
        "id": "g0aF1q0x_82T",
        "colab_type": "text"
      },
      "source": [
        "# tanh関数"
      ]
    },
    {
      "cell_type": "markdown",
      "metadata": {
        "id": "tPpVRKt_Ve4P",
        "colab_type": "text"
      },
      "source": [
        "$$\n",
        "    y = \\frac{\\exp(x) - \\exp(-x)}{\\exp(x) + \\exp(-x)}\n",
        "$$"
      ]
    },
    {
      "cell_type": "code",
      "metadata": {
        "id": "8wjMcRHT_gWI",
        "colab_type": "code",
        "outputId": "e1ab4f65-737f-4e5c-e26b-81e733147866",
        "colab": {
          "base_uri": "https://localhost:8080/",
          "height": 269
        }
      },
      "source": [
        "def tanh(x):\n",
        "    y = (np.exp(x) - np.exp(-x)) / (np.exp(x) + np.exp(-x))\n",
        "    return y\n",
        "\n",
        "x = np.arange(-5, 5, 0.1)\n",
        "y = tanh(x)\n",
        "plt.plot(x, y)\n",
        "plt.show()"
      ],
      "execution_count": 0,
      "outputs": [
        {
          "output_type": "display_data",
          "data": {
            "image/png": "[encoded data removed]",
            "text/plain": [
              "<Figure size 432x288 with 1 Axes>"
            ]
          },
          "metadata": {
            "tags": []
          }
        }
      ]
    },
    {
      "cell_type": "code",
      "metadata": {
        "id": "JHrhp6CaARnl",
        "colab_type": "code",
        "colab": {}
      },
      "source": [
        ""
      ],
      "execution_count": 0,
      "outputs": []
    }
  ]
}