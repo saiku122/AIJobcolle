{
  "nbformat": 4,
  "nbformat_minor": 0,
  "metadata": {
    "colab": {
      "name": "講義コード模写.ipynb",
      "provenance": [],
      "authorship_tag": "ABX9TyOUuS3Z4QEgW//2HJaT1pET",
      "include_colab_link": true
    },
    "kernelspec": {
      "name": "python3",
      "display_name": "Python 3"
    },
    "language_info": {
      "name": "python"
    }
  },
  "cells": [
    {
      "cell_type": "markdown",
      "metadata": {
        "id": "view-in-github",
        "colab_type": "text"
      },
      "source": [
        "<a href=\"https://colab.research.google.com/github/saiku122/AIJobcolle/blob/master/DeepLearning/%E8%AC%9B%E7%BE%A9%E3%82%B3%E3%83%BC%E3%83%89%E6%A8%A1%E5%86%99.ipynb\" target=\"_parent\"><img src=\"https://colab.research.google.com/assets/colab-badge.svg\" alt=\"Open In Colab\"/></a>"
      ]
    },
    {
      "cell_type": "code",
      "metadata": {
        "id": "MIgcUQCEGZVA"
      },
      "source": [
        "import numpy as np\n",
        "import matplotlib.pyplot as plt"
      ],
      "execution_count": null,
      "outputs": []
    },
    {
      "cell_type": "code",
      "metadata": {
        "colab": {
          "base_uri": "https://localhost:8080/",
          "height": 526
        },
        "id": "t21qkGRVGl5b",
        "outputId": "aaf2a1c8-162f-4cf3-8aa4-49f595fca573"
      },
      "source": [
        "n_cols=2\n",
        "n_rows=2\n",
        "\n",
        "plt.figure(figsize=(20,8))\n",
        "\n",
        "x=np.arange(-5,5,0.1)\n",
        "\n",
        "y1=x\n",
        "plt.subplot(n_rows,n_cols,1)\n",
        "plt.title('x')\n",
        "plt.ylim(-10,10);\n",
        "plt.plot(x,y1)\n",
        "\n",
        "y2=np.sin(x)\n",
        "plt.subplot(n_rows,n_cols,1)\n",
        "plt.title('グラフ')\n",
        "plt.ylim(-10,10);\n",
        "plt.plot(x,y2)\n",
        "plt.show()"
      ],
      "execution_count": null,
      "outputs": [
        {
          "output_type": "stream",
          "text": [
            "/usr/local/lib/python3.7/dist-packages/ipykernel_launcher.py:15: MatplotlibDeprecationWarning: Adding an axes using the same arguments as a previous axes currently reuses the earlier instance.  In a future version, a new instance will always be created and returned.  Meanwhile, this warning can be suppressed, and the future behavior ensured, by passing a unique label to each axes instance.\n",
            "  from ipykernel import kernelapp as app\n",
            "/usr/local/lib/python3.7/dist-packages/matplotlib/backends/backend_agg.py:214: RuntimeWarning: Glyph 12464 missing from current font.\n",
            "  font.set_text(s, 0.0, flags=flags)\n",
            "/usr/local/lib/python3.7/dist-packages/matplotlib/backends/backend_agg.py:214: RuntimeWarning: Glyph 12521 missing from current font.\n",
            "  font.set_text(s, 0.0, flags=flags)\n",
            "/usr/local/lib/python3.7/dist-packages/matplotlib/backends/backend_agg.py:214: RuntimeWarning: Glyph 12501 missing from current font.\n",
            "  font.set_text(s, 0.0, flags=flags)\n",
            "/usr/local/lib/python3.7/dist-packages/matplotlib/backends/backend_agg.py:183: RuntimeWarning: Glyph 12464 missing from current font.\n",
            "  font.set_text(s, 0, flags=flags)\n",
            "/usr/local/lib/python3.7/dist-packages/matplotlib/backends/backend_agg.py:183: RuntimeWarning: Glyph 12521 missing from current font.\n",
            "  font.set_text(s, 0, flags=flags)\n",
            "/usr/local/lib/python3.7/dist-packages/matplotlib/backends/backend_agg.py:183: RuntimeWarning: Glyph 12501 missing from current font.\n",
            "  font.set_text(s, 0, flags=flags)\n"
          ],
          "name": "stderr"
        },
        {
          "output_type": "display_data",
          "data": {
            "image/png": "[encoded data removed]",
            "text/plain": [
              "<Figure size 1440x576 with 1 Axes>"
            ]
          },
          "metadata": {
            "tags": [],
            "needs_background": "light"
          }
        }
      ]
    },
    {
      "cell_type": "code",
      "metadata": {
        "id": "Mf2fCgbVG066"
      },
      "source": [
        "import keras\n",
        "from keras.models import Sequential\n",
        "from keras.layers import Dense\n",
        "from keras.optimizers import Adam\n",
        "from keras.datasets import mnist\n",
        "from keras.utils.np_utils import to_categorical\n",
        "import numpy as np\n",
        "import time\n",
        "import matplotlib.pyplot as plt\n"
      ],
      "execution_count": 1,
      "outputs": []
    },
    {
      "cell_type": "code",
      "metadata": {
        "id": "gb9R4HueZ-AF",
        "outputId": "b0a8a68b-39f1-44c4-b339-25c6a90a75b4",
        "colab": {
          "base_uri": "https://localhost:8080/"
        }
      },
      "source": [
        "#データ読みこみ\n",
        "(x_train,y_train),(x_test,y_test)=mnist.load_data()\n",
        "\n",
        "print(x_train.shape)\n",
        "print(y_train.shape)\n",
        "\n",
        "#データ数\n",
        "m_train, m_test = x_train.shape[0], x_test.shape[0]\n",
        "\n",
        "batch_size = 128\n",
        "n_classes = 10\n",
        "epochs = 10\n",
        "\n",
        "# ベクトル化\n",
        "x_train = x_train.reshape(60000,28*28)\n",
        "print('reshape x_train:', x_train.shape)\n",
        "x_test = x_test.reshape(-1,28*28) #列は28*28の値になる、行数は「-1」とすることでもとの値から推測させている\n",
        "print('reshape x_test:',x_test.shape)\n",
        "\n",
        "\n",
        "# 標準化\n",
        "x_train = x_train.astype('float32')/255\n",
        "x_test = x_test.astype('float32')/255\n",
        "\n",
        "# yをOneHotVector化(10クラスにわけて0 or 1に整形しなおしている)\n",
        "y_train = keras.utils.to_categorical(y_train, n_classes)\n",
        "y_test = keras.utils.to_categorical(y_test, n_classes)\n",
        "\n"
      ],
      "execution_count": 14,
      "outputs": [
        {
          "output_type": "stream",
          "text": [
            "(60000, 28, 28)\n",
            "(60000,)\n",
            "reshape x_train: (60000, 784)\n",
            "reshape x_test: (10000, 784)\n"
          ],
          "name": "stdout"
        }
      ]
    },
    {
      "cell_type": "markdown",
      "metadata": {
        "id": "A_yKJgaZfaaM"
      },
      "source": [
        "# ディープラーニング（ニューラルネットワーク）\n",
        "入力層：784ユニット（28×28）  \n",
        "第1層：768ユニット　ReLU  \n",
        "第2層：192ユニット　ReLU  \n",
        "第3層：10ユニット　Softmax　出力層"
      ]
    },
    {
      "cell_type": "code",
      "metadata": {
        "id": "07DNlqDqaAQf",
        "outputId": "ce7e08e7-4324-4287-e818-624b1af974ef",
        "colab": {
          "base_uri": "https://localhost:8080/"
        }
      },
      "source": [
        "#モデル\n",
        "print(x_train.shape)\n",
        "\n",
        "model = Sequential()\n",
        "model.add(Dense(768, activation=\"relu\", input_shape=x_train.shape[1:]))\n",
        "model.add(Dense(192, activation=\"relu\"))\n",
        "model.add(Dense(10, activation=\"softmax\"))\n",
        "\n",
        "# コンパイル\n",
        "model.compile(optimizer='sgd',  #確率的勾配降下法で学習\n",
        "              loss=\"categorical_crossentropy\", #損失関数はクロスエントリピー\n",
        "              metrics=[\"accuracy\"]) #accuracyで判断\n",
        "# サマリ\n",
        "model.summary()\n",
        "# フィット\n",
        "history = model.fit(x_train, \n",
        "                    y_train, \n",
        "                    batch_size=batch_size,\n",
        "                    verbose = 1,\n",
        "                    epochs=epochs,\n",
        "                    validation_data=(x_test,y_test)\n",
        "                    )"
      ],
      "execution_count": 15,
      "outputs": [
        {
          "output_type": "stream",
          "text": [
            "(60000, 784)\n",
            "Model: \"sequential_1\"\n",
            "_________________________________________________________________\n",
            "Layer (type)                 Output Shape              Param #   \n",
            "=================================================================\n",
            "dense_3 (Dense)              (None, 768)               602880    \n",
            "_________________________________________________________________\n",
            "dense_4 (Dense)              (None, 192)               147648    \n",
            "_________________________________________________________________\n",
            "dense_5 (Dense)              (None, 10)                1930      \n",
            "=================================================================\n",
            "Total params: 752,458\n",
            "Trainable params: 752,458\n",
            "Non-trainable params: 0\n",
            "_________________________________________________________________\n",
            "Epoch 1/10\n",
            "469/469 [==============================] - 6s 11ms/step - loss: 1.5164 - accuracy: 0.6274 - val_loss: 0.4888 - val_accuracy: 0.8827\n",
            "Epoch 2/10\n",
            "469/469 [==============================] - 5s 11ms/step - loss: 0.4670 - accuracy: 0.8810 - val_loss: 0.3561 - val_accuracy: 0.9046\n",
            "Epoch 3/10\n",
            "469/469 [==============================] - 5s 11ms/step - loss: 0.3572 - accuracy: 0.9007 - val_loss: 0.3071 - val_accuracy: 0.9170\n",
            "Epoch 4/10\n",
            "469/469 [==============================] - 5s 11ms/step - loss: 0.3108 - accuracy: 0.9128 - val_loss: 0.2806 - val_accuracy: 0.9222\n",
            "Epoch 5/10\n",
            "469/469 [==============================] - 5s 11ms/step - loss: 0.2861 - accuracy: 0.9196 - val_loss: 0.2606 - val_accuracy: 0.9279\n",
            "Epoch 6/10\n",
            "469/469 [==============================] - 5s 11ms/step - loss: 0.2678 - accuracy: 0.9249 - val_loss: 0.2457 - val_accuracy: 0.9308\n",
            "Epoch 7/10\n",
            "469/469 [==============================] - 5s 11ms/step - loss: 0.2511 - accuracy: 0.9291 - val_loss: 0.2339 - val_accuracy: 0.9339\n",
            "Epoch 8/10\n",
            "469/469 [==============================] - 5s 11ms/step - loss: 0.2385 - accuracy: 0.9312 - val_loss: 0.2227 - val_accuracy: 0.9368\n",
            "Epoch 9/10\n",
            "469/469 [==============================] - 5s 11ms/step - loss: 0.2245 - accuracy: 0.9370 - val_loss: 0.2114 - val_accuracy: 0.9407\n",
            "Epoch 10/10\n",
            "469/469 [==============================] - 5s 11ms/step - loss: 0.2157 - accuracy: 0.9399 - val_loss: 0.2027 - val_accuracy: 0.9421\n"
          ],
          "name": "stdout"
        }
      ]
    },
    {
      "cell_type": "code",
      "metadata": {
        "id": "OEd135sGfl4y",
        "outputId": "9ae3bcdd-1103-4bf7-cbed-b5ad4052c885",
        "colab": {
          "base_uri": "https://localhost:8080/",
          "height": 508
        }
      },
      "source": [
        "plt.subplot(1,2,1)\n",
        "plt.plot(history.history['val_loss'], label='test')\n",
        "plt.plot(history.history['loss'], label='train')\n",
        "plt.legend()\n",
        "plt.xlabel('epochs')\n",
        "plt.ylabel('loss')\n",
        "\n",
        "plt.subplot(1,2,2)\n",
        "#plt.plot(history.history['val_acc'], label='test')\n",
        "plt.plot(history.history['acc'], label='train')\n",
        "plt.legend()\n",
        "plt.xlabel('epochs')\n",
        "plt.ylabel('accuracy')"
      ],
      "execution_count": 17,
      "outputs": [
        {
          "output_type": "error",
          "ename": "KeyError",
          "evalue": "ignored",
          "traceback": [
            "\u001b[0;31m---------------------------------------------------------------------------\u001b[0m",
            "\u001b[0;31mKeyError\u001b[0m                                  Traceback (most recent call last)",
            "\u001b[0;32m<ipython-input-17-5c5b99e3705e>\u001b[0m in \u001b[0;36m<module>\u001b[0;34m()\u001b[0m\n\u001b[1;32m      8\u001b[0m \u001b[0mplt\u001b[0m\u001b[0;34m.\u001b[0m\u001b[0msubplot\u001b[0m\u001b[0;34m(\u001b[0m\u001b[0;36m1\u001b[0m\u001b[0;34m,\u001b[0m\u001b[0;36m2\u001b[0m\u001b[0;34m,\u001b[0m\u001b[0;36m2\u001b[0m\u001b[0;34m)\u001b[0m\u001b[0;34m\u001b[0m\u001b[0;34m\u001b[0m\u001b[0m\n\u001b[1;32m      9\u001b[0m \u001b[0;31m#plt.plot(history.history['val_acc'], label='test')\u001b[0m\u001b[0;34m\u001b[0m\u001b[0;34m\u001b[0m\u001b[0;34m\u001b[0m\u001b[0m\n\u001b[0;32m---> 10\u001b[0;31m \u001b[0mplt\u001b[0m\u001b[0;34m.\u001b[0m\u001b[0mplot\u001b[0m\u001b[0;34m(\u001b[0m\u001b[0mhistory\u001b[0m\u001b[0;34m.\u001b[0m\u001b[0mhistory\u001b[0m\u001b[0;34m[\u001b[0m\u001b[0;34m'acc'\u001b[0m\u001b[0;34m]\u001b[0m\u001b[0;34m,\u001b[0m \u001b[0mlabel\u001b[0m\u001b[0;34m=\u001b[0m\u001b[0;34m'train'\u001b[0m\u001b[0;34m)\u001b[0m\u001b[0;34m\u001b[0m\u001b[0;34m\u001b[0m\u001b[0m\n\u001b[0m\u001b[1;32m     11\u001b[0m \u001b[0mplt\u001b[0m\u001b[0;34m.\u001b[0m\u001b[0mlegend\u001b[0m\u001b[0;34m(\u001b[0m\u001b[0;34m)\u001b[0m\u001b[0;34m\u001b[0m\u001b[0;34m\u001b[0m\u001b[0m\n\u001b[1;32m     12\u001b[0m \u001b[0mplt\u001b[0m\u001b[0;34m.\u001b[0m\u001b[0mxlabel\u001b[0m\u001b[0;34m(\u001b[0m\u001b[0;34m'epochs'\u001b[0m\u001b[0;34m)\u001b[0m\u001b[0;34m\u001b[0m\u001b[0;34m\u001b[0m\u001b[0m\n",
            "\u001b[0;31mKeyError\u001b[0m: 'acc'"
          ]
        },
        {
          "output_type": "display_data",
          "data": {
            "image/png": "[encoded data removed]",
            "text/plain": [
              "<Figure size 432x288 with 2 Axes>"
            ]
          },
          "metadata": {
            "tags": [],
            "needs_background": "light"
          }
        }
      ]
    },
    {
      "cell_type": "markdown",
      "metadata": {
        "id": "sDDEbo0fjGjU"
      },
      "source": [
        "CNN（畳み込みニューラルネットワーク）  \n",
        "入力層：784ユニット（28×28）  \n",
        "畳み込み層：×10　kernel=3, stride=1 / [30x30x10]  \n",
        "活性化層　ReLU  \n",
        "プーリング層　×10　kernel=3, stride=3 / [10x10x10]  \n",
        "畳み込み層：×20　kernel=3, stride=1 / [8x8x20]  \n",
        "活性化層　ReLU  \n",
        "バッチ標準化  \n",
        "全結合層：1280ユニット  \n",
        "出力層：10ユニット　SoftMax  \n"
      ]
    },
    {
      "cell_type": "code",
      "metadata": {
        "id": "iJtcoKFuiw-d"
      },
      "source": [
        "from keras.models import Sequential\n",
        "from keras.layers import Dense, Conv2D, MaxPool2D, Activation, Flatten, BatchNormalization"
      ],
      "execution_count": 18,
      "outputs": []
    },
    {
      "cell_type": "code",
      "metadata": {
        "id": "FwyGj9a5jLdg",
        "outputId": "061a4fa8-3e89-4f62-c862-f1491258872a",
        "colab": {
          "base_uri": "https://localhost:8080/",
          "height": 1000
        }
      },
      "source": [
        "x_train = x_train.reshape(m_train, 28, 28, 1)\n",
        "x_test = x_test.reshape(m_test, 28, 28, 1)\n",
        "\n",
        "\n",
        "# モデル\n",
        "# CONV -> RELU -> MAXPOOL\n",
        "model = Sequential()\n",
        "model.add(Conv2D(10, (3, 3), strides=(1, 1), input_shape=(28, 28, 1)))\n",
        "model.add(Activation(\"relu\"))\n",
        "model.add(BatchNormalization(axis=3))\n",
        "model.add(MaxPool2D((3, 3)))\n",
        "\n",
        "# CONV -> RELU -> BN -> Flatten\n",
        "model.add(Conv2D(20, (3, 3), strides=(1, 1)))\n",
        "model.add(Activation(\"relu\"))\n",
        "model.add(BatchNormalization(axis=3))\n",
        "model.add(Flatten())\n",
        "\n",
        "# Softmax\n",
        "model.add(Dense(10, activation=\"softmax\"))\n",
        "\n",
        "# コンパイル\n",
        "model.compile(optimizer='Adam', \n",
        "              loss=\"categorical_crossentropy\", \n",
        "              metrics=[\"accuracy\"])\n",
        "\n",
        "# サマリ\n",
        "model.summary()\n",
        "\n",
        "# フィット\n",
        "history = model.fit(x_train, \n",
        "                    y_train, \n",
        "                    batch_size=batch_size,\n",
        "                    verbose = 1,\n",
        "                    epochs=epochs,\n",
        "                    validation_data=(x_test,y_test)\n",
        "                    )\n",
        "print(history.history.keys())\n",
        "\n",
        "fig = plt.figure(figsize=(15,5))\n",
        "\n",
        "plt.subplot(1,2,1)\n",
        "plt.plot(history.history['val_loss'], label='test')\n",
        "plt.plot(history.history['loss'], label='train')\n",
        "plt.legend()\n",
        "plt.xlabel('epochs')\n",
        "plt.ylabel('loss')\n",
        "\n",
        "plt.subplot(1,2,2)\n",
        "plt.plot(history.history['val_accuracy'], label='test')\n",
        "plt.plot(history.history['acc'], label='train')\n",
        "plt.legend()\n",
        "plt.xlabel('epochs')\n",
        "plt.ylabel('accuracy')"
      ],
      "execution_count": 22,
      "outputs": [
        {
          "output_type": "stream",
          "text": [
            "Model: \"sequential_5\"\n",
            "_________________________________________________________________\n",
            "Layer (type)                 Output Shape              Param #   \n",
            "=================================================================\n",
            "conv2d_6 (Conv2D)            (None, 26, 26, 10)        100       \n",
            "_________________________________________________________________\n",
            "activation_6 (Activation)    (None, 26, 26, 10)        0         \n",
            "_________________________________________________________________\n",
            "batch_normalization_4 (Batch (None, 26, 26, 10)        40        \n",
            "_________________________________________________________________\n",
            "max_pooling2d_3 (MaxPooling2 (None, 8, 8, 10)          0         \n",
            "_________________________________________________________________\n",
            "conv2d_7 (Conv2D)            (None, 6, 6, 20)          1820      \n",
            "_________________________________________________________________\n",
            "activation_7 (Activation)    (None, 6, 6, 20)          0         \n",
            "_________________________________________________________________\n",
            "batch_normalization_5 (Batch (None, 6, 6, 20)          80        \n",
            "_________________________________________________________________\n",
            "flatten_3 (Flatten)          (None, 720)               0         \n",
            "_________________________________________________________________\n",
            "dense_9 (Dense)              (None, 10)                7210      \n",
            "=================================================================\n",
            "Total params: 9,250\n",
            "Trainable params: 9,190\n",
            "Non-trainable params: 60\n",
            "_________________________________________________________________\n",
            "Epoch 1/10\n",
            "469/469 [==============================] - 28s 57ms/step - loss: 0.5106 - accuracy: 0.8431 - val_loss: 0.3352 - val_accuracy: 0.8927\n",
            "Epoch 2/10\n",
            "469/469 [==============================] - 27s 57ms/step - loss: 0.0775 - accuracy: 0.9767 - val_loss: 0.0601 - val_accuracy: 0.9811\n",
            "Epoch 3/10\n",
            "469/469 [==============================] - 27s 57ms/step - loss: 0.0540 - accuracy: 0.9839 - val_loss: 0.0518 - val_accuracy: 0.9836\n",
            "Epoch 4/10\n",
            "469/469 [==============================] - 26s 56ms/step - loss: 0.0428 - accuracy: 0.9871 - val_loss: 0.0439 - val_accuracy: 0.9854\n",
            "Epoch 5/10\n",
            "469/469 [==============================] - 27s 57ms/step - loss: 0.0343 - accuracy: 0.9898 - val_loss: 0.0363 - val_accuracy: 0.9873\n",
            "Epoch 6/10\n",
            "469/469 [==============================] - 27s 58ms/step - loss: 0.0276 - accuracy: 0.9922 - val_loss: 0.0373 - val_accuracy: 0.9886\n",
            "Epoch 7/10\n",
            "469/469 [==============================] - 27s 57ms/step - loss: 0.0236 - accuracy: 0.9925 - val_loss: 0.0553 - val_accuracy: 0.9821\n",
            "Epoch 8/10\n",
            "469/469 [==============================] - 26s 56ms/step - loss: 0.0222 - accuracy: 0.9933 - val_loss: 0.0393 - val_accuracy: 0.9865\n",
            "Epoch 9/10\n",
            "469/469 [==============================] - 26s 57ms/step - loss: 0.0175 - accuracy: 0.9949 - val_loss: 0.0392 - val_accuracy: 0.9880\n",
            "Epoch 10/10\n",
            "469/469 [==============================] - 27s 57ms/step - loss: 0.0150 - accuracy: 0.9956 - val_loss: 0.0389 - val_accuracy: 0.9876\n",
            "dict_keys(['loss', 'accuracy', 'val_loss', 'val_accuracy'])\n"
          ],
          "name": "stdout"
        },
        {
          "output_type": "error",
          "ename": "KeyError",
          "evalue": "ignored",
          "traceback": [
            "\u001b[0;31m---------------------------------------------------------------------------\u001b[0m",
            "\u001b[0;31mKeyError\u001b[0m                                  Traceback (most recent call last)",
            "\u001b[0;32m<ipython-input-22-10b110c6e768>\u001b[0m in \u001b[0;36m<module>\u001b[0;34m()\u001b[0m\n\u001b[1;32m     49\u001b[0m \u001b[0mplt\u001b[0m\u001b[0;34m.\u001b[0m\u001b[0msubplot\u001b[0m\u001b[0;34m(\u001b[0m\u001b[0;36m1\u001b[0m\u001b[0;34m,\u001b[0m\u001b[0;36m2\u001b[0m\u001b[0;34m,\u001b[0m\u001b[0;36m2\u001b[0m\u001b[0;34m)\u001b[0m\u001b[0;34m\u001b[0m\u001b[0;34m\u001b[0m\u001b[0m\n\u001b[1;32m     50\u001b[0m \u001b[0mplt\u001b[0m\u001b[0;34m.\u001b[0m\u001b[0mplot\u001b[0m\u001b[0;34m(\u001b[0m\u001b[0mhistory\u001b[0m\u001b[0;34m.\u001b[0m\u001b[0mhistory\u001b[0m\u001b[0;34m[\u001b[0m\u001b[0;34m'val_accuracy'\u001b[0m\u001b[0;34m]\u001b[0m\u001b[0;34m,\u001b[0m \u001b[0mlabel\u001b[0m\u001b[0;34m=\u001b[0m\u001b[0;34m'test'\u001b[0m\u001b[0;34m)\u001b[0m\u001b[0;34m\u001b[0m\u001b[0;34m\u001b[0m\u001b[0m\n\u001b[0;32m---> 51\u001b[0;31m \u001b[0mplt\u001b[0m\u001b[0;34m.\u001b[0m\u001b[0mplot\u001b[0m\u001b[0;34m(\u001b[0m\u001b[0mhistory\u001b[0m\u001b[0;34m.\u001b[0m\u001b[0mhistory\u001b[0m\u001b[0;34m[\u001b[0m\u001b[0;34m'acc'\u001b[0m\u001b[0;34m]\u001b[0m\u001b[0;34m,\u001b[0m \u001b[0mlabel\u001b[0m\u001b[0;34m=\u001b[0m\u001b[0;34m'train'\u001b[0m\u001b[0;34m)\u001b[0m\u001b[0;34m\u001b[0m\u001b[0;34m\u001b[0m\u001b[0m\n\u001b[0m\u001b[1;32m     52\u001b[0m \u001b[0mplt\u001b[0m\u001b[0;34m.\u001b[0m\u001b[0mlegend\u001b[0m\u001b[0;34m(\u001b[0m\u001b[0;34m)\u001b[0m\u001b[0;34m\u001b[0m\u001b[0;34m\u001b[0m\u001b[0m\n\u001b[1;32m     53\u001b[0m \u001b[0mplt\u001b[0m\u001b[0;34m.\u001b[0m\u001b[0mxlabel\u001b[0m\u001b[0;34m(\u001b[0m\u001b[0;34m'epochs'\u001b[0m\u001b[0;34m)\u001b[0m\u001b[0;34m\u001b[0m\u001b[0;34m\u001b[0m\u001b[0m\n",
            "\u001b[0;31mKeyError\u001b[0m: 'acc'"
          ]
        },
        {
          "output_type": "display_data",
          "data": {
            "image/png": "[encoded data removed]",
            "text/plain": [
              "<Figure size 1080x360 with 2 Axes>"
            ]
          },
          "metadata": {
            "tags": [],
            "needs_background": "light"
          }
        }
      ]
    },
    {
      "cell_type": "code",
      "metadata": {
        "id": "cLJOi0z2tGX8"
      },
      "source": [
        ""
      ],
      "execution_count": null,
      "outputs": []
    }
  ]
}